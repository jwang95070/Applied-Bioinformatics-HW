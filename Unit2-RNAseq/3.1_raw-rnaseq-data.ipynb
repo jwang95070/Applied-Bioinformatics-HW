{
 "cells": [
  {
   "cell_type": "markdown",
   "metadata": {},
   "source": [
    "## Applied Bioinformatics Unit 2 Module 1: RNA-seq\n",
    "### Notebook 3.1: Raw data"
   ]
  },
  {
   "cell_type": "markdown",
   "metadata": {},
   "source": [
    "### Using the SRA toolkit to sample a raw file\n",
    "Use `fastq-dump` to print the first 5 'spots' of a run archive SRR5830139\n",
    "```\n",
    "# cd into directory containing the sratoolkit folder\n",
    "cd /mnt/c/Users/Jerry/Downloads\n",
    "\n",
    "sratoolkit.2.9.2-ubuntu64/bin/fastq-dump --split-files -X 5 -Z SRR5830139\n",
    "```"
   ]
  },
  {
   "cell_type": "code",
   "execution_count": 3,
   "metadata": {},
   "outputs": [
    {
     "name": "stdout",
     "output_type": "stream",
     "text": [
      "@SRR5454079.1 1 length=49\n",
      "NTCTTTCAGGTTTAGTTAGACGTCCTCCAAAAAGAGGCCANAANTCACC\n",
      "+SRR5454079.1 1 length=49\n",
      "#AAAFFJJJJJFAF-FAFAJJJ7JJFJJJJJJJJJJ<FJJ#JJ#JJJJJ\n",
      "@SRR5454079.2 2 length=50\n",
      "NTGCGCGTGCAGCCCCGGACATCTAAGGGCATCACAGACCNGTNATTGNT\n",
      "+SRR5454079.2 2 length=50\n",
      "#AAAFJJJJJJJJJJJJJJJJJFJJJJJFJJFJJJJJJJJ#JJ#JJJJ#J\n",
      "@SRR5454079.3 3 length=50\n",
      "NAAGATAATTGCTTTGGTCATCTGTAAGTCACTTTAGCCANTGNGTCTNC\n",
      "+SRR5454079.3 3 length=50\n",
      "#AAFFJJJJJJJJJJJJJJFJJJJJJJJJJJJJJJJJJJJ#JJ#JJJJ#J\n",
      "@SRR5454079.4 4 length=49\n",
      "NTGGATTGCCTGAGGTCAGGAATTCGAGGCCAGTCTGGCCNACNTGATN\n",
      "+SRR5454079.4 4 length=49\n",
      "#AAFFJJJJJJJJJJJJJJJJJJJJJJJJJJJJJJJJJJJ#JJ#JJJJ#\n",
      "@SRR5454079.5 5 length=50\n",
      "NGGCAATGCAAACAGCAATCCTACATAATGTAGAATAATTNTTNTTCTNT\n",
      "+SRR5454079.5 5 length=50\n",
      "#AAFFJJJJJJJJJJJJJJJJJJJJJJJJJJJJJJJJJJJ#JJ#JJJJ#J\n"
     ]
    },
    {
     "name": "stderr",
     "output_type": "stream",
     "text": [
      "Rejected 5 READS because READLEN < 1\n",
      "Read 5 spots for SRR5454079\n",
      "Written 5 spots for SRR5454079\n"
     ]
    }
   ],
   "source": [
    "%%bash\n",
    "cd ~/RNAseq\n",
    "./sratoolkit.2.9.2-ubuntu64/bin/fastq-dump --split-files -X 5 -Z SRR5454079"
   ]
  },
  {
   "cell_type": "markdown",
   "metadata": {},
   "source": [
    "### Writing to FASTQ from the SRA archive\n",
    "`fastq-dump` automatically downloads the .sra file and then writes out the reads in FASTQ format. \n",
    "NB: Watch out for the build up of .sra files on your HD!  \n",
    "\n",
    "Write the first 5 spots of SRR5454080 to FASTQ instead of standard out."
   ]
  },
  {
   "cell_type": "markdown",
   "metadata": {},
   "source": [
    "```\n",
    "%%bash\n",
    "cd /mnt/c/Users/Jerry/Downloads/\n",
    "sratoolkit.2.9.2-ubuntu64/bin/fastq-dump --split-files -X 5 SRR5454080\n",
    "ls -l SRR*\n",
    "```"
   ]
  },
  {
   "cell_type": "code",
   "execution_count": 7,
   "metadata": {},
   "outputs": [
    {
     "name": "stdout",
     "output_type": "stream",
     "text": [
      "Rejected 5 READS because READLEN < 1\n",
      "Read 5 spots for SRR5454080\n",
      "Written 5 spots for SRR5454080\n",
      "-rw-rw-r-- 1 jjwang jjwang 766 Oct 11 09:08 SRR5454079_1.fastq\n",
      "-rw-rw-r-- 1 jjwang jjwang 770 Oct 11 09:10 SRR5454080_1.fastq\n"
     ]
    }
   ],
   "source": [
    "%%bash\n",
    "cd ~/RNAseq\n",
    "./sratoolkit.2.9.2-ubuntu64/bin/fastq-dump --split-files -X 5 SRR5454080\n",
    "ls -l SRR*"
   ]
  },
  {
   "cell_type": "markdown",
   "metadata": {},
   "source": [
    "### Why are we using `--split-files`?\n",
    "Try printing the first 5 spots of this run (to std out): SRR7167720  \n",
    "What do you notice about the reads?  "
   ]
  },
  {
   "cell_type": "markdown",
   "metadata": {},
   "source": [
    "```\n",
    "%%bash  \n",
    "cd /mnt/c/Users/Jerry/Downloads  \n",
    "sratoolkit.2.9.2-ubuntu64/bin/fastq-dump --split-files -X 5 -Z SRR7167720\n",
    "```"
   ]
  },
  {
   "cell_type": "code",
   "execution_count": 9,
   "metadata": {},
   "outputs": [
    {
     "name": "stdout",
     "output_type": "stream",
     "text": [
      "@SRR7167720.1 1 length=50\n",
      "GTTAGGGTTAGGGTTAGGGTTAGGGTTAGGGGTTAGGGTTAGGGTTAGGG\n",
      "+SRR7167720.1 1 length=50\n",
      "A<A0AE@?1@F101=0@E=F1FFB>:=FF>:E=9ECFE=:CEFGG>0>CD\n",
      "@SRR7167720.1 1 length=50\n",
      "CTCGCTCCCTACCCAACCCTAACCCTAACCCTAACCCTAACCCTAACCCT\n",
      "+SRR7167720.1 1 length=50\n",
      ":<3<0EC/=C1B101;/</::::0::1>:00EG11:EFBBBDDG111EGG\n",
      "@SRR7167720.2 2 length=50\n",
      "CTAACCCTAACCCTAACCCTACCCCTAACCCTAACCCTAACCCTAACCCT\n",
      "+SRR7167720.2 2 length=50\n",
      "CCCCCGGGGGGGGGGGGGGGGGGGGGGGFGGGGGGGGEGGGGGGFGDGGB\n",
      "@SRR7167720.2 2 length=50\n",
      "GGTTAGGGTTAGGGTTAGGGTTAGGGTTAGGGTTAGGGTTAGGTTAGGGT\n",
      "+SRR7167720.2 2 length=50\n",
      "BCCCBGEGGGGGGEGGGGGGEGGGGGGGGGGFGE0FGGGGEDF:F11=F1\n",
      "@SRR7167720.3 3 length=50\n",
      "GGTTAGGGTTAGGGTTAGGGTTAGGGTTAGGGTTAGGGTTAGGGTTAGGG\n",
      "+SRR7167720.3 3 length=50\n",
      "BCBBCFGGGGGGGGGGGGGGGGGGGGGGGGGGFFGGGGCDGGGG1BFGGG\n",
      "@SRR7167720.3 3 length=50\n",
      "CCCTAACCCTAACCCTAACCCCTAACCCTAACCCTAACCCTAACCCTAAC\n",
      "+SRR7167720.3 3 length=50\n",
      "CCCBCGGGGFGGGGGGGGGGGBFGGGFBDGEGGGGGDGGGGGGGGGGGGG\n",
      "@SRR7167720.4 4 length=50\n",
      "GTTAGGGTTAGGGTTAGGGTTTTAGGGTTAGGGTTAGGGTTTTAGGGTTA\n",
      "+SRR7167720.4 4 length=50\n",
      "BBBBBFGGGBFGGGGGGGG@FGGGGGGFGGGGGDBGGGG=@/01EFG=1<\n",
      "@SRR7167720.4 4 length=50\n",
      "CCTAACCCTAACCCTAACCTAACCCTAACCCTAAGCCTAACCCTAACCCT\n",
      "+SRR7167720.4 4 length=50\n",
      "CCCCCGGGGGGGGGGGGGGGGGGGGGGGGGGGGGGGGGGGGGGGGGGGGG\n",
      "@SRR7167720.5 5 length=50\n",
      "GTTAGGGTTAGGGTTAGGGTTAGGGTTTAGGGTTTAGGGTTTAGGGTTTA\n",
      "+SRR7167720.5 5 length=50\n",
      "BBBCCEFFGGEGGGGGGGGDGGGGG<FDGGGGEFGGGGGEFGGGGGF@/@\n",
      "@SRR7167720.5 5 length=50\n",
      "CTAACCCTAACCCTAACCCTAACCCTAACCCTAACCCTAACCCCTAACCC\n",
      "+SRR7167720.5 5 length=50\n",
      "CCCCCGGGGGGGGGGG1FGG1F10E1111=:1=1100::1100EB01<<E\n"
     ]
    },
    {
     "name": "stderr",
     "output_type": "stream",
     "text": [
      "Read 5 spots for SRR7167720\n",
      "Written 5 spots for SRR7167720\n"
     ]
    }
   ],
   "source": [
    "%%bash\n",
    "cd ~/RNAseq/\n",
    "sratoolkit.2.9.2-ubuntu64/bin/fastq-dump --split-files -X 5 -Z SRR7167720"
   ]
  },
  {
   "cell_type": "markdown",
   "metadata": {},
   "source": [
    "Now repeat without using --split-files. What is the difference?"
   ]
  },
  {
   "cell_type": "markdown",
   "metadata": {},
   "source": [
    "```\n",
    "%%bash  \n",
    "cd /mnt/c/Users/Jerry/Downloads  \n",
    "sratoolkit.2.9.2-ubuntu64/bin/fastq-dump -X 5 -Z SRR7167720\n",
    "```"
   ]
  },
  {
   "cell_type": "code",
   "execution_count": 10,
   "metadata": {},
   "outputs": [
    {
     "name": "stdout",
     "output_type": "stream",
     "text": [
      "@SRR7167720.1 1 length=100\n",
      "GTTAGGGTTAGGGTTAGGGTTAGGGTTAGGGGTTAGGGTTAGGGTTAGGGCTCGCTCCCTACCCAACCCTAACCCTAACCCTAACCCTAACCCTAACCCT\n",
      "+SRR7167720.1 1 length=100\n",
      "A<A0AE@?1@F101=0@E=F1FFB>:=FF>:E=9ECFE=:CEFGG>0>CD:<3<0EC/=C1B101;/</::::0::1>:00EG11:EFBBBDDG111EGG\n",
      "@SRR7167720.2 2 length=100\n",
      "CTAACCCTAACCCTAACCCTACCCCTAACCCTAACCCTAACCCTAACCCTGGTTAGGGTTAGGGTTAGGGTTAGGGTTAGGGTTAGGGTTAGGTTAGGGT\n",
      "+SRR7167720.2 2 length=100\n",
      "CCCCCGGGGGGGGGGGGGGGGGGGGGGGFGGGGGGGGEGGGGGGFGDGGBBCCCBGEGGGGGGEGGGGGGEGGGGGGGGGGFGE0FGGGGEDF:F11=F1\n",
      "@SRR7167720.3 3 length=100\n",
      "GGTTAGGGTTAGGGTTAGGGTTAGGGTTAGGGTTAGGGTTAGGGTTAGGGCCCTAACCCTAACCCTAACCCCTAACCCTAACCCTAACCCTAACCCTAAC\n",
      "+SRR7167720.3 3 length=100\n",
      "BCBBCFGGGGGGGGGGGGGGGGGGGGGGGGGGFFGGGGCDGGGG1BFGGGCCCBCGGGGFGGGGGGGGGGGBFGGGFBDGEGGGGGDGGGGGGGGGGGGG\n",
      "@SRR7167720.4 4 length=100\n",
      "GTTAGGGTTAGGGTTAGGGTTTTAGGGTTAGGGTTAGGGTTTTAGGGTTACCTAACCCTAACCCTAACCTAACCCTAACCCTAAGCCTAACCCTAACCCT\n",
      "+SRR7167720.4 4 length=100\n",
      "BBBBBFGGGBFGGGGGGGG@FGGGGGGFGGGGGDBGGGG=@/01EFG=1<CCCCCGGGGGGGGGGGGGGGGGGGGGGGGGGGGGGGGGGGGGGGGGGGGG\n",
      "@SRR7167720.5 5 length=100\n",
      "GTTAGGGTTAGGGTTAGGGTTAGGGTTTAGGGTTTAGGGTTTAGGGTTTACTAACCCTAACCCTAACCCTAACCCTAACCCTAACCCTAACCCCTAACCC\n",
      "+SRR7167720.5 5 length=100\n",
      "BBBCCEFFGGEGGGGGGGGDGGGGG<FDGGGGEFGGGGGEFGGGGGF@/@CCCCCGGGGGGGGGGG1FGG1F10E1111=:1=1100::1100EB01<<E\n"
     ]
    },
    {
     "name": "stderr",
     "output_type": "stream",
     "text": [
      "Read 5 spots for SRR7167720\n",
      "Written 5 spots for SRR7167720\n"
     ]
    }
   ],
   "source": [
    "%%bash\n",
    "cd ~/RNAseq/\n",
    "sratoolkit.2.9.2-ubuntu64/bin/fastq-dump -X 5 -Z SRR7167720"
   ]
  },
  {
   "cell_type": "markdown",
   "metadata": {},
   "source": [
    "### Exercises I:\n",
    "1) What read length was used in the sequencing study _A Distinct Population of Thirst-Associated Preoptic Neurons Encodes an Aversive Motivational Drive_?\n",
    "\n",
    "2) Using bash, print the first 5 ‘spots’ of the first RNA-seq run from the study above\n",
    "\n",
    "__HW0__ Now print the first 100 ‘spots’ of the first 5 runs (alphabetically) of the study each into a separate file and quantify how many times the nucleotide adenine occurs in each one. How does this compare to the other nucleotides? What are the possible reasons?\n"
   ]
  },
  {
   "cell_type": "code",
   "execution_count": 15,
   "metadata": {},
   "outputs": [
    {
     "name": "stdout",
     "output_type": "stream",
     "text": [
      "Read 100 spots for SRR5830136\n",
      "Written 100 spots for SRR5830136\n",
      "Read 100 spots for SRR5830137\n",
      "Written 100 spots for SRR5830137\n",
      "Read 100 spots for SRR5830138\n",
      "Written 100 spots for SRR5830138\n",
      "Read 100 spots for SRR5830139\n",
      "Written 100 spots for SRR5830139\n",
      "Read 100 spots for SRR5830140\n",
      "Written 100 spots for SRR5830140\n"
     ]
    }
   ],
   "source": [
    "%%bash\n",
    "cd ~/RNAseq/fastq\n",
    "../sratoolkit.2.9.2-ubuntu64/bin/fastq-dump --split-files -X 100 SRR5830136\n",
    "../sratoolkit.2.9.2-ubuntu64/bin/fastq-dump --split-files -X 100 SRR5830137\n",
    "../sratoolkit.2.9.2-ubuntu64/bin/fastq-dump --split-files -X 100 SRR5830138\n",
    "../sratoolkit.2.9.2-ubuntu64/bin/fastq-dump --split-files -X 100 SRR5830139\n",
    "../sratoolkit.2.9.2-ubuntu64/bin/fastq-dump --split-files -X 100 SRR5830140"
   ]
  },
  {
   "cell_type": "code",
   "execution_count": 3,
   "metadata": {},
   "outputs": [
    {
     "name": "stdout",
     "output_type": "stream",
     "text": [
      "1949\n",
      "2026\n",
      "1938\n",
      "2037\n",
      "1818\n",
      "1866\n",
      "1906\n",
      "1878\n",
      "1879\n",
      "1830\n"
     ]
    }
   ],
   "source": [
    "%%bash\n",
    "cd ~/RNAseq/fastq\n",
    "awk \"NR%4==2 {print $1}\" SRR5830136_1.fastq | grep -o \"A\" | wc -l\n",
    "awk \"NR%4==2 {print $1}\" SRR5830136_2.fastq | grep -o \"A\" | wc -l\n",
    "awk \"NR%4==2 {print $1}\" SRR5830137_1.fastq | grep -o \"A\" | wc -l\n",
    "awk \"NR%4==2 {print $1}\" SRR5830137_2.fastq | grep -o \"A\" | wc -l\n",
    "awk \"NR%4==2 {print $1}\" SRR5830138_1.fastq | grep -o \"A\" | wc -l\n",
    "awk \"NR%4==2 {print $1}\" SRR5830138_2.fastq | grep -o \"A\" | wc -l\n",
    "awk \"NR%4==2 {print $1}\" SRR5830139_1.fastq | grep -o \"A\" | wc -l\n",
    "awk \"NR%4==2 {print $1}\" SRR5830139_2.fastq | grep -o \"A\" | wc -l\n",
    "awk \"NR%4==2 {print $1}\" SRR5830140_1.fastq | grep -o \"A\" | wc -l\n",
    "awk \"NR%4==2 {print $1}\" SRR5830140_2.fastq | grep -o \"A\" | wc -l"
   ]
  },
  {
   "cell_type": "code",
   "execution_count": 12,
   "metadata": {},
   "outputs": [
    {
     "name": "stdout",
     "output_type": "stream",
     "text": [
      "@SRR5830640.1 1 length=76\n",
      "GTAGCCCAGTAATCATCTTACCTCAGGCTCCCCTATCTGGCTTCATGGTACTTCCCTGATGTATTTCAGAGAAATG\n",
      "+SRR5830640.1 1 length=76\n",
      "AAAAAEEAEEEEEEEAEEEE6EE6EEEEEEEAEEEEEEEEEE/EEEEEAEEE6EA6EEAEEE/EAAA/AAE//AE/\n",
      "@SRR5830640.1 1 length=76\n",
      "ACACTGAAGATGTAAGAATTTCACCGGATATTAACAGTGCCTGAAGTTAAAACACTACCACACTTTAGCTAGATGT\n",
      "+SRR5830640.1 1 length=76\n",
      "/AAAAE/AE/AEE6<AE6EAEAAEEEE/E/A//AEAEAEE666/AA6A///E666A6A//EE//A//66//A/<A/\n",
      "@SRR5830640.2 2 length=76\n",
      "ATACTATGTAGCCCACAGATTGACTCCTTCACCATCGTGTACTTGGATTGCTTCCTTGCTTCCTTCTCCTGGCAGT\n",
      "+SRR5830640.2 2 length=76\n",
      "AAAAAEEEEEEEEEEEEEEEEEEEEEEEEEAEEEEEEEEEEEEEEEEEEEEEEEEEEEEEEEEEEEEEEEEEE/EA\n",
      "@SRR5830640.2 2 length=76\n",
      "CCTCTGGGCCACGGTGGACTCGCCCTCTATAACCCTAAGCCCAAATAAACTCTCTGGCCTGTAAATTACTGGTCAT\n",
      "+SRR5830640.2 2 length=76\n",
      "AAAAAEEEEEEEEEEEEEEEEEEEEEEEEEEEEEEEEEEEEEEAAEAEEEEEEEEEEEEEEE//AEEEAAEEEEAE\n",
      "@SRR5830640.3 3 length=76\n",
      "ATGCACGCATATGCTCACACACAAACTCAGACTCTGAAGTCTGGTAGCCTGTGAATGTTCCTTTTGTAAAATGCTT\n",
      "+SRR5830640.3 3 length=76\n",
      "AAAAAEEEEEEEEEEEAEEEEEEEEEEEEEAEEEEEEEEEEEEEEEEEEEEEEEEEEEEEEEEEEEA6EEEEEEEE\n",
      "@SRR5830640.3 3 length=76\n",
      "CCTTAACCGTTTCTTTGGGGTTTCTGATGGTTAGGACAGGGTTGGAGCAAAGAGGCTTTTGGAAGCATTTTACAAA\n",
      "+SRR5830640.3 3 length=76\n",
      "AAAAAAEEEAE6AEAAAEEEEE6EEE/AEEAA6AE/A6E/EA<EA/E/666A/AEA6AA/E<//A//AA<//A///\n",
      "@SRR5830640.4 4 length=76\n",
      "GTGCAGAGTAATGCCATCACTGCCCACTGGGAATGCAGCCCGAATAATTAATAGCCACCCCTCAGACGGAGGACCA\n",
      "+SRR5830640.4 4 length=76\n",
      "A/AAAEEEEEEEEEEEEEEEEEEEAAE<EEEEEEAEEE/EEEAEAEEEEEEEEEAAEEEEEEE/AEEEE/EEAEEE\n",
      "@SRR5830640.4 4 length=76\n",
      "CCTTGGAGGTGGAGCCCAGTGACACCATCGAGAATGTGAAGGCCAAGATCCAGGATAAAGAGGGCATCCCCCCTGA\n",
      "+SRR5830640.4 4 length=76\n",
      "AAAAAEEEEEEE6EEEEAEEEEEEEEAEEE6EEEEEEEEEEEEEAEE6EEEEEA//AEE6AEEEAEEAEEAA/<A/\n",
      "@SRR5830640.5 5 length=76\n",
      "CTTTAATATACGCTATTGGAGCTGGAATTACCGCGGCTGCTGGCACCAGACTTTCCCTCCAATCGATCCTCGATAA\n",
      "+SRR5830640.5 5 length=76\n",
      "AAAAA/E</EEEE<E/EEEEEEEEEEEEE//A<///EA/EEE///EEE/E<EE/A///6AEEE///EEAEEE/6</\n",
      "@SRR5830640.5 5 length=76\n",
      "CATCCAAGGAAGGCAGCAGGCGCGCAAATTACCCACTCCCGACCCGGGGAGGTAGTGACGAAAAATAACAAAACAG\n",
      "+SRR5830640.5 5 length=76\n",
      "/A/A//E///EEA6EE//<<<E/EE666E66///<66/E/EAAAA/E/A/</E/E//<///<A//////////E/6\n"
     ]
    },
    {
     "name": "stderr",
     "output_type": "stream",
     "text": [
      "Read 5 spots for SRR5830640\n",
      "Written 5 spots for SRR5830640\n"
     ]
    }
   ],
   "source": [
    "%%bash\n",
    "cd ~/RNAseq/\n",
    "sratoolkit.2.9.2-ubuntu64/bin/fastq-dump --split-files -X 5 -Z SRR5830640"
   ]
  },
  {
   "cell_type": "markdown",
   "metadata": {},
   "source": [
    "### Exercises II:\n",
    "1) It is common for RNA-seq reads to be contaminated with leftover adapter sequences. Test if the file SRR5454079_1.fastq contains any i7 adapter sequences ATCACGAC or ACAGTGGT.  \n",
    "1-2) What would be a proper way to determine if there is significant barcode contamination?\n",
    "\n",
    "__HW1__: Map SRR5454079 to the human genome using HISAT2 (or chromosome 20 if you have <8GB RAM).  \n",
    "__HW2__: Check the first 5 reads contained in the FASTQ files. Which chromosome did they align to?  \n",
    "__HW3__: Consult the samtools documentation then convert the output sam file into a sorted bam file.\n"
   ]
  },
  {
   "cell_type": "code",
   "execution_count": 2,
   "metadata": {},
   "outputs": [
    {
     "name": "stdout",
     "output_type": "stream",
     "text": [
      "3297\n"
     ]
    }
   ],
   "source": [
    "%%bash\n",
    "cd ~/RNAseq/fastq\n",
    "awk \"NR%4==2 {print $1}\" SRR5454079_1.fastq | grep -o \"ATCACGAC\" | wc -l"
   ]
  },
  {
   "cell_type": "code",
   "execution_count": 3,
   "metadata": {},
   "outputs": [
    {
     "name": "stdout",
     "output_type": "stream",
     "text": [
      "16140\n"
     ]
    }
   ],
   "source": [
    "%%bash\n",
    "cd ~/RNAseq/fastq\n",
    "awk \"NR%4==2 {print $1}\" SRR5454079_1.fastq | grep -o \"ACAGTGGT\" | wc -l"
   ]
  },
  {
   "cell_type": "code",
   "execution_count": 23,
   "metadata": {},
   "outputs": [
    {
     "name": "stderr",
     "output_type": "stream",
     "text": [
      "18699038 reads; of these:\n",
      "  18699038 (100.00%) were unpaired; of these:\n",
      "    833738 (4.46%) aligned 0 times\n",
      "    15806483 (84.53%) aligned exactly 1 time\n",
      "    2058817 (11.01%) aligned >1 times\n",
      "95.54% overall alignment rate\n"
     ]
    }
   ],
   "source": [
    "%%bash\n",
    "#HW1\n",
    "cd ~/RNAseq\n",
    "./hisat2-2.1.0/hisat2 -x HISAT_indices/grch38/genome -U ./fastq/SRR5454079_1.fastq -S ./hisat_out/SRR5454079_1.sam"
   ]
  },
  {
   "cell_type": "code",
   "execution_count": 30,
   "metadata": {},
   "outputs": [
    {
     "name": "stdout",
     "output_type": "stream",
     "text": [
      "*\n",
      "*\n",
      "*\n",
      "*\n",
      "*\n",
      "1\n"
     ]
    }
   ],
   "source": [
    "%%bash\n",
    "#HW2\n",
    "cd ../../RNAseq/hisat_out/\n",
    "awk '$1 ~ /^SRR5454079.1/ {print $3}' ./SRR5454079_1.sam | head -n 1\n",
    "awk '$1 ~ /^SRR5454079.2/ {print $3}' ./SRR5454079_1.sam | head -n 1\n",
    "awk '$1 ~ /^SRR5454079.3/ {print $3}' ./SRR5454079_1.sam | head -n 1\n",
    "awk '$1 ~ /^SRR5454079.4/ {print $3}' ./SRR5454079_1.sam | head -n 1\n",
    "awk '$1 ~ /^SRR5454079.5/ {print $3}' ./SRR5454079_1.sam | head -n 1\n",
    "awk '$1 ~ /^SRR5454079.100/ {print $3}' ./SRR5454079_1.sam | head -n 1\n",
    "\n",
    "#The first five reads are unmapped, but as a proof of concept, the 100th read maps to chromosome 1."
   ]
  },
  {
   "cell_type": "code",
   "execution_count": 29,
   "metadata": {},
   "outputs": [
    {
     "name": "stderr",
     "output_type": "stream",
     "text": [
      "[samopen] SAM header is present: 194 sequences.\n",
      "[bam_sort_core] merging from 10 files...\n"
     ]
    }
   ],
   "source": [
    "%%bash\n",
    "#HW3\n",
    "cd ~/RNAseq/hisat_out/\n",
    "samtools view -S -b SRR5454079_1.sam > SRR5454079_1.bam\n",
    "samtools sort SRR5454079_1.bam SRR5454079_1.sort"
   ]
  }
 ],
 "metadata": {
  "kernelspec": {
   "display_name": "Python 3",
   "language": "python",
   "name": "python3"
  },
  "language_info": {
   "codemirror_mode": {
    "name": "ipython",
    "version": 3
   },
   "file_extension": ".py",
   "mimetype": "text/x-python",
   "name": "python",
   "nbconvert_exporter": "python",
   "pygments_lexer": "ipython3",
   "version": "3.5.2"
  }
 },
 "nbformat": 4,
 "nbformat_minor": 2
}
