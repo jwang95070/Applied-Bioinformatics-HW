{
 "cells": [
  {
   "cell_type": "markdown",
   "metadata": {},
   "source": [
    "# R intro\n",
    "Huitian Diao\n",
    "* Reference: \n",
    "* Quick-R by DataCamp\n",
    "* R for Beginners by emmanuel Paradis"
   ]
  },
  {
   "cell_type": "markdown",
   "metadata": {},
   "source": [
    "## Data operations"
   ]
  },
  {
   "cell_type": "markdown",
   "metadata": {},
   "source": [
    "### 1. Operators"
   ]
  },
  {
   "cell_type": "markdown",
   "metadata": {},
   "source": [
    "#### 1.1 Arithemetic operators\n",
    "```\n",
    "x+y\n",
    "x-y\n",
    "x*y\n",
    "x/y\n",
    "x**y # exponentiation\n",
    "x%%y # modulus\n",
    "x%/%y # integer division\n",
    "```"
   ]
  },
  {
   "cell_type": "code",
   "execution_count": 6,
   "metadata": {},
   "outputs": [
    {
     "data": {
      "text/html": [
       "8"
      ],
      "text/latex": [
       "8"
      ],
      "text/markdown": [
       "8"
      ],
      "text/plain": [
       "[1] 8"
      ]
     },
     "metadata": {},
     "output_type": "display_data"
    }
   ],
   "source": [
    "# Try the calculations!\n",
    "x <- 3\n",
    "y <- 5\n",
    "z <- x + y\n",
    "z"
   ]
  },
  {
   "cell_type": "markdown",
   "metadata": {},
   "source": [
    "#### 1.2 Logical operators\n",
    "##### Comparisons:\n",
    "```\n",
    "<\n",
    ">\n",
    "<=\n",
    ">=\n",
    "==\n",
    "!=\n",
    "```"
   ]
  },
  {
   "cell_type": "code",
   "execution_count": 11,
   "metadata": {},
   "outputs": [
    {
     "data": {
      "text/html": [
       "FALSE"
      ],
      "text/latex": [
       "FALSE"
      ],
      "text/markdown": [
       "FALSE"
      ],
      "text/plain": [
       "[1] FALSE"
      ]
     },
     "metadata": {},
     "output_type": "display_data"
    }
   ],
   "source": [
    "# Try comparisons!\n",
    "x <- 5\n",
    "y <- 11\n",
    "z <- x > y\n",
    "z"
   ]
  },
  {
   "cell_type": "markdown",
   "metadata": {},
   "source": [
    "##### Logical operations:\n",
    "```\n",
    "!\n",
    "|\n",
    "&\n",
    "isTRUE()\n",
    "```"
   ]
  },
  {
   "cell_type": "code",
   "execution_count": 13,
   "metadata": {},
   "outputs": [
    {
     "data": {
      "text/html": [
       "FALSE"
      ],
      "text/latex": [
       "FALSE"
      ],
      "text/markdown": [
       "FALSE"
      ],
      "text/plain": [
       "[1] FALSE"
      ]
     },
     "metadata": {},
     "output_type": "display_data"
    }
   ],
   "source": [
    "# Try logical operators!\n",
    "like.chocolate <- TRUE\n",
    "like.spam <- FALSE\n",
    "!like.chocolate"
   ]
  },
  {
   "cell_type": "markdown",
   "metadata": {},
   "source": [
    "#### 1.3 Built-in functions"
   ]
  },
  {
   "cell_type": "markdown",
   "metadata": {},
   "source": [
    "##### Math built-in functions"
   ]
  },
  {
   "cell_type": "code",
   "execution_count": 15,
   "metadata": {},
   "outputs": [
    {
     "data": {
      "text/html": [
       "16"
      ],
      "text/latex": [
       "16"
      ],
      "text/markdown": [
       "16"
      ],
      "text/plain": [
       "[1] 16"
      ]
     },
     "metadata": {},
     "output_type": "display_data"
    },
    {
     "data": {
      "text/html": [
       "4"
      ],
      "text/latex": [
       "4"
      ],
      "text/markdown": [
       "4"
      ],
      "text/plain": [
       "[1] 4"
      ]
     },
     "metadata": {},
     "output_type": "display_data"
    },
    {
     "data": {
      "text/html": [
       "2"
      ],
      "text/latex": [
       "2"
      ],
      "text/markdown": [
       "2"
      ],
      "text/plain": [
       "[1] 2"
      ]
     },
     "metadata": {},
     "output_type": "display_data"
    },
    {
     "data": {
      "text/html": [
       "-3"
      ],
      "text/latex": [
       "-3"
      ],
      "text/markdown": [
       "-3"
      ],
      "text/plain": [
       "[1] -3"
      ]
     },
     "metadata": {},
     "output_type": "display_data"
    },
    {
     "data": {
      "text/html": [
       "-2"
      ],
      "text/latex": [
       "-2"
      ],
      "text/markdown": [
       "-2"
      ],
      "text/plain": [
       "[1] -2"
      ]
     },
     "metadata": {},
     "output_type": "display_data"
    },
    {
     "data": {
      "text/html": [
       "1.24"
      ],
      "text/latex": [
       "1.24"
      ],
      "text/markdown": [
       "1.24"
      ],
      "text/plain": [
       "[1] 1.24"
      ]
     },
     "metadata": {},
     "output_type": "display_data"
    },
    {
     "data": {
      "text/html": [
       "1.2"
      ],
      "text/latex": [
       "1.2"
      ],
      "text/markdown": [
       "1.2"
      ],
      "text/plain": [
       "[1] 1.2"
      ]
     },
     "metadata": {},
     "output_type": "display_data"
    },
    {
     "data": {
      "text/html": [
       "-0.957659480323385"
      ],
      "text/latex": [
       "-0.957659480323385"
      ],
      "text/markdown": [
       "-0.957659480323385"
      ],
      "text/plain": [
       "[1] -0.9576595"
      ]
     },
     "metadata": {},
     "output_type": "display_data"
    },
    {
     "data": {
      "text/html": [
       "0.287903316665065"
      ],
      "text/latex": [
       "0.287903316665065"
      ],
      "text/markdown": [
       "0.287903316665065"
      ],
      "text/plain": [
       "[1] 0.2879033"
      ]
     },
     "metadata": {},
     "output_type": "display_data"
    },
    {
     "data": {
      "text/html": [
       "-0.300632242023903"
      ],
      "text/latex": [
       "-0.300632242023903"
      ],
      "text/markdown": [
       "-0.300632242023903"
      ],
      "text/plain": [
       "[1] -0.3006322"
      ]
     },
     "metadata": {},
     "output_type": "display_data"
    },
    {
     "data": {
      "text/html": [
       "0.214304602647005"
      ],
      "text/latex": [
       "0.214304602647005"
      ],
      "text/markdown": [
       "0.214304602647005"
      ],
      "text/plain": [
       "[1] 0.2143046"
      ]
     },
     "metadata": {},
     "output_type": "display_data"
    },
    {
     "data": {
      "text/html": [
       "0.0930713063760635"
      ],
      "text/latex": [
       "0.0930713063760635"
      ],
      "text/markdown": [
       "0.0930713063760635"
      ],
      "text/plain": [
       "[1] 0.09307131"
      ]
     },
     "metadata": {},
     "output_type": "display_data"
    },
    {
     "data": {
      "text/html": [
       "1.12535174719259e-07"
      ],
      "text/latex": [
       "1.12535174719259e-07"
      ],
      "text/markdown": [
       "1.12535174719259e-07"
      ],
      "text/plain": [
       "[1] 1.125352e-07"
      ]
     },
     "metadata": {},
     "output_type": "display_data"
    }
   ],
   "source": [
    "# Have fun with math!\n",
    "x <- -16\n",
    "y <- 1.239\n",
    "z <- -2.251\n",
    "abs(x)\n",
    "sqrt(-x)\n",
    "ceiling(y)\n",
    "floor(z)\n",
    "trunc(z)\n",
    "round(y, digits=2)\n",
    "signif(y, digits=2)\n",
    "cos(x)\n",
    "sin(x)\n",
    "tan(x)\n",
    "log(y)\n",
    "log10(y)\n",
    "exp(x)"
   ]
  },
  {
   "cell_type": "markdown",
   "metadata": {},
   "source": [
    "##### Other useful built-in operators\n",
    "```\n",
    "substr() # Extract part of the string\n",
    "grep() # Search for pattern (It is different from Bash grep!!!)\n",
    "sub() # Replace pattern\n",
    "strsplit() # Split elements fro a string\n",
    "paste() # Concatenate strings\n",
    "toupper() # Convert to upper case\n",
    "tolower() # Convert to lower case\n",
    "```"
   ]
  },
  {
   "cell_type": "code",
   "execution_count": 16,
   "metadata": {},
   "outputs": [
    {
     "data": {
      "text/html": [
       "'Nutel'"
      ],
      "text/latex": [
       "'Nutel'"
      ],
      "text/markdown": [
       "'Nutel'"
      ],
      "text/plain": [
       "[1] \"Nutel\""
      ]
     },
     "metadata": {},
     "output_type": "display_data"
    },
    {
     "data": {
      "text/html": [
       "3"
      ],
      "text/latex": [
       "3"
      ],
      "text/markdown": [
       "3"
      ],
      "text/plain": [
       "[1] 3"
      ]
     },
     "metadata": {},
     "output_type": "display_data"
    },
    {
     "data": {
      "text/html": [
       "'I love cheese. --Nutella'"
      ],
      "text/latex": [
       "'I love cheese. --Nutella'"
      ],
      "text/markdown": [
       "'I love cheese. --Nutella'"
      ],
      "text/plain": [
       "[1] \"I love cheese. --Nutella\""
      ]
     },
     "metadata": {},
     "output_type": "display_data"
    },
    {
     "data": {
      "text/html": [
       "<ol>\n",
       "\t<li><ol class=list-inline>\n",
       "\t<li>'I'</li>\n",
       "\t<li>'love'</li>\n",
       "\t<li>'chocolate.'</li>\n",
       "\t<li>'--Nutella'</li>\n",
       "</ol>\n",
       "</li>\n",
       "</ol>\n"
      ],
      "text/latex": [
       "\\begin{enumerate}\n",
       "\\item \\begin{enumerate*}\n",
       "\\item 'I'\n",
       "\\item 'love'\n",
       "\\item 'chocolate.'\n",
       "\\item '--Nutella'\n",
       "\\end{enumerate*}\n",
       "\n",
       "\\end{enumerate}\n"
      ],
      "text/markdown": [
       "1. 1. 'I'\n",
       "2. 'love'\n",
       "3. 'chocolate.'\n",
       "4. '--Nutella'\n",
       "\n",
       "\n",
       "\n",
       "\n",
       "\n"
      ],
      "text/plain": [
       "[[1]]\n",
       "[1] \"I\"          \"love\"       \"chocolate.\" \"--Nutella\" \n"
      ]
     },
     "metadata": {},
     "output_type": "display_data"
    },
    {
     "data": {
      "text/html": [
       "<ol class=list-inline>\n",
       "\t<li>'1: chocolate'</li>\n",
       "\t<li>'2: peanut'</li>\n",
       "\t<li>'3: cheese'</li>\n",
       "</ol>\n"
      ],
      "text/latex": [
       "\\begin{enumerate*}\n",
       "\\item '1: chocolate'\n",
       "\\item '2: peanut'\n",
       "\\item '3: cheese'\n",
       "\\end{enumerate*}\n"
      ],
      "text/markdown": [
       "1. '1: chocolate'\n",
       "2. '2: peanut'\n",
       "3. '3: cheese'\n",
       "\n",
       "\n"
      ],
      "text/plain": [
       "[1] \"1: chocolate\" \"2: peanut\"    \"3: cheese\"   "
      ]
     },
     "metadata": {},
     "output_type": "display_data"
    },
    {
     "data": {
      "text/html": [
       "'I LOVE CHOCOLATE. --NUTELLA'"
      ],
      "text/latex": [
       "'I LOVE CHOCOLATE. --NUTELLA'"
      ],
      "text/markdown": [
       "'I LOVE CHOCOLATE. --NUTELLA'"
      ],
      "text/plain": [
       "[1] \"I LOVE CHOCOLATE. --NUTELLA\""
      ]
     },
     "metadata": {},
     "output_type": "display_data"
    },
    {
     "data": {
      "text/html": [
       "'i love chocolate. --nutella'"
      ],
      "text/latex": [
       "'i love chocolate. --nutella'"
      ],
      "text/markdown": [
       "'i love chocolate. --nutella'"
      ],
      "text/plain": [
       "[1] \"i love chocolate. --nutella\""
      ]
     },
     "metadata": {},
     "output_type": "display_data"
    }
   ],
   "source": [
    "# Try it out!\n",
    "my.name <- \"Nutella\"\n",
    "my.fav <- c(\"chocolate\", \"peanut\", \"cheese\")\n",
    "my.motto <- \"I love chocolate. --Nutella\"\n",
    "substr(my.name, start=1, stop=5) # Extract from 1st character to 5th character\n",
    "grep(\"cheese\", my.fav) # Find the position of \"cheese\" in the vector\n",
    "sub(\"chocolate\", \"cheese\", my.motto) # Replace \"chocolate\" by \"cheese\" in my.motto\n",
    "strsplit(my.motto, \" \") # Split my.motto by space\n",
    "paste(1:3, my.fav, sep=\": \") # Concatenate elements in vector c(1, 2, 3) with elements in vector my.fav, seprate by \": \"\n",
    "toupper(my.motto)\n",
    "tolower(my.motto)"
   ]
  },
  {
   "cell_type": "markdown",
   "metadata": {},
   "source": [
    "### 2. Control structures"
   ]
  },
  {
   "cell_type": "markdown",
   "metadata": {},
   "source": [
    "#### 2.1 If-else\n",
    "```\n",
    "# if ... else ...\n",
    "like.peanut <- TRUE\n",
    "if (like.peanut){\n",
    "    print(\"I like peanuts!\")\n",
    "} else {\n",
    "    print(\"What do I like?\")\n",
    "}\n",
    "```"
   ]
  },
  {
   "cell_type": "code",
   "execution_count": 26,
   "metadata": {},
   "outputs": [],
   "source": [
    "# Try if... else ... !"
   ]
  },
  {
   "cell_type": "markdown",
   "metadata": {},
   "source": [
    "```\n",
    "# if .. else if ... else ...\n",
    "like.hay <- FALSE\n",
    "like.cotton <- TRUE\n",
    "if (like.hay){\n",
    "    print(\"I like to build my nest with hay!\")\n",
    "} else if (like.cotton){\n",
    "    print(\"I like to build my nest with cotton!\")\n",
    "} else {\n",
    "    print(\"Ummm.... what should I use...?\")\n",
    "}\n",
    "```"
   ]
  },
  {
   "cell_type": "code",
   "execution_count": 27,
   "metadata": {},
   "outputs": [],
   "source": [
    "# Try if ... else if ... else ... !"
   ]
  },
  {
   "cell_type": "markdown",
   "metadata": {},
   "source": [
    "#### 2.2 for\n",
    "```\n",
    "# Looping a numeric vector\n",
    "for (i in c(1:10)) {\n",
    "    print(\"More chocolate please!\")\n",
    "}\n",
    "```"
   ]
  },
  {
   "cell_type": "code",
   "execution_count": 23,
   "metadata": {},
   "outputs": [],
   "source": [
    "# Try numeric vector for loop!"
   ]
  },
  {
   "cell_type": "markdown",
   "metadata": {},
   "source": [
    "```\n",
    "# Looping a character vector\n",
    "my.fav <- c(\"chocolate\", \"peanut\", \"cheese\")\n",
    "for (i in my.fav) {\n",
    "    out.put <- paste(\"More\", i, \"please!\") # Paste 3 elements into a single string\n",
    "    print(out.put)\n",
    "}\n",
    "```"
   ]
  },
  {
   "cell_type": "code",
   "execution_count": 28,
   "metadata": {},
   "outputs": [],
   "source": [
    "# Try character vector for loop!"
   ]
  },
  {
   "cell_type": "markdown",
   "metadata": {},
   "source": [
    "#### 2.3 while\n",
    "```\n",
    "i <- 0\n",
    "while (i < 10) {\n",
    "    print(\"More chocolate please!\")\n",
    "    i <- i+1 # Super important! Or your while loop will never end...\n",
    "}\n",
    "```"
   ]
  },
  {
   "cell_type": "code",
   "execution_count": 30,
   "metadata": {},
   "outputs": [],
   "source": [
    "# Try while!"
   ]
  },
  {
   "cell_type": "markdown",
   "metadata": {},
   "source": [
    "### 3. Import data\n",
    "##### read.csv()\n",
    "```\n",
    "setwd(\"YOUR/DIRECTORY/TO/Unit1-module2-R\")\n",
    "nav.d14 <- read.csv(\"NAV-D14_DEseq2.csv\", header=TRUE)\n",
    "nav.d14\n",
    "class(nav.d14)\n",
    "```"
   ]
  },
  {
   "cell_type": "code",
   "execution_count": 32,
   "metadata": {},
   "outputs": [],
   "source": [
    "# Try read.csv!"
   ]
  },
  {
   "cell_type": "markdown",
   "metadata": {},
   "source": [
    "### 4. View data\n",
    "```\n",
    "str(nav.d14) # Structure\n",
    "dim(nav.d14) # Dimensions\n",
    "head(nav.d14, n=5) # Top 5 rows\n",
    "tail(nav.d14, n=10) # Bottom 5 rows\n",
    "#levels() # List of levels in a factor vector\n",
    "```"
   ]
  },
  {
   "cell_type": "code",
   "execution_count": 34,
   "metadata": {
    "scrolled": true
   },
   "outputs": [],
   "source": [
    "# Try viewing data!"
   ]
  },
  {
   "cell_type": "markdown",
   "metadata": {},
   "source": [
    "### 3. Subsetting / Merging data"
   ]
  },
  {
   "cell_type": "markdown",
   "metadata": {
    "collapsed": true
   },
   "source": [
    "#### 3.1 Subsetting by column names\n",
    "```\n",
    "nav.d14.sub <- nav.d14[c(\"gene.name\", \"log2FoldChange\", \"pvalue\")]\n",
    "head(nav.d14.sub)\n",
    "```"
   ]
  },
  {
   "cell_type": "code",
   "execution_count": 37,
   "metadata": {},
   "outputs": [],
   "source": [
    "# Try subsetting by column names!"
   ]
  },
  {
   "cell_type": "markdown",
   "metadata": {},
   "source": [
    "#### 3.2  cbind(): merging dataframe vertically\n",
    "```\n",
    "# cbind -- column-bind\n",
    "nav.d14.sub <- cbind(nav.d14.sub, nav.d14[\"baseMean\"]) # For instance you forgot you need baseMean too...\n",
    "head(nav.d14.sub)\n",
    "```"
   ]
  },
  {
   "cell_type": "code",
   "execution_count": 38,
   "metadata": {},
   "outputs": [],
   "source": [
    "# Try cbind()!"
   ]
  },
  {
   "cell_type": "markdown",
   "metadata": {},
   "source": [
    "#### 3.3 subset()\n",
    "```\n",
    "nav.d14.sub.sig.less <- subset(nav.d14.sub, pvalue <= 0.05 & log2FoldChange < 0) # Subsetting by value\n",
    "nav.d14.sub.sig.more <- subset(nav.d14.sub, pvalue <= 0.05 & log2FoldChange > 0)\n",
    "```"
   ]
  },
  {
   "cell_type": "code",
   "execution_count": 39,
   "metadata": {},
   "outputs": [],
   "source": [
    "# Try subset()!"
   ]
  },
  {
   "cell_type": "markdown",
   "metadata": {},
   "source": [
    "#### 3.4 rbind(): merging dataframe horizontally\n",
    "```\n",
    "# rbind -- row-bind\n",
    "nav.d14.sub.sig.all <- rbind(nav.d14.sub.sig.less, nav.d14.sub.sig.more) # Merging rows\n",
    "dim(nav.d14.sub.sig.less)\n",
    "dim(nav.d14.sub.sig.more)\n",
    "dim(nav.d14.sub.sig.all)\n",
    "```"
   ]
  },
  {
   "cell_type": "code",
   "execution_count": 40,
   "metadata": {},
   "outputs": [],
   "source": [
    "# Try rbind()!"
   ]
  },
  {
   "cell_type": "markdown",
   "metadata": {},
   "source": [
    "#### * Change column names\n",
    "```\n",
    "colnames(nav.d14.sub.sig.all) <- c(\"gn\",\"fc\",\"pval\",\"bm\")\n",
    "head(nav.d14.sub.sig.all)\n",
    "```"
   ]
  },
  {
   "cell_type": "code",
   "execution_count": 41,
   "metadata": {},
   "outputs": [],
   "source": [
    "# Try change colnames()!"
   ]
  },
  {
   "cell_type": "markdown",
   "metadata": {},
   "source": [
    "### 4. Sort data: order()\n",
    "```\n",
    "nav.d14.sub.sig.all.srt <- nav.d14.sub.sig.all[order(nav.d14.sub.sig.all$bm),]\n",
    "head(nav.d14.sub.sig.all, n=5)\n",
    "head(nav.d14.sub.sig.all.srt, n=5)\n",
    "```"
   ]
  },
  {
   "cell_type": "code",
   "execution_count": 1,
   "metadata": {
    "scrolled": true
   },
   "outputs": [],
   "source": [
    "# Try order()!"
   ]
  },
  {
   "cell_type": "markdown",
   "metadata": {},
   "source": [
    "### 5. User defined function and apply"
   ]
  },
  {
   "cell_type": "markdown",
   "metadata": {},
   "source": [
    "#### 5.1 User defined function\n",
    "```\n",
    "function.name <- function(x) {\n",
    "...\n",
    "return()\n",
    "}\n",
    "```"
   ]
  },
  {
   "cell_type": "code",
   "execution_count": 1,
   "metadata": {},
   "outputs": [
    {
     "name": "stdout",
     "output_type": "stream",
     "text": [
      "[1] \"Chocolate please!\"\n"
     ]
    }
   ],
   "source": [
    "# Simple function that does only print()\n",
    "requestChocolate <- function(x) {\n",
    "    print(\"Chocolate please!\")\n",
    "}\n",
    "requestChocolate()"
   ]
  },
  {
   "cell_type": "code",
   "execution_count": 2,
   "metadata": {},
   "outputs": [
    {
     "name": "stdout",
     "output_type": "stream",
     "text": [
      "[1] \"Cheese please!\"\n"
     ]
    }
   ],
   "source": [
    "# Function that take a input to print()\n",
    "requestFood <- function(x) {\n",
    "    requested <- paste(x, \" please!\", sep=\"\")\n",
    "    print(requested)\n",
    "}\n",
    "requestFood(\"Cheese\")"
   ]
  },
  {
   "cell_type": "code",
   "execution_count": 3,
   "metadata": {},
   "outputs": [
    {
     "name": "stdout",
     "output_type": "stream",
     "text": [
      "[1] \"Food please!\"\n"
     ]
    },
    {
     "data": {
      "text/html": [
       "TRUE"
      ],
      "text/latex": [
       "TRUE"
      ],
      "text/markdown": [
       "TRUE"
      ],
      "text/plain": [
       "[1] TRUE"
      ]
     },
     "metadata": {},
     "output_type": "display_data"
    }
   ],
   "source": [
    "# Function that take a input and contain if ..., and return a result.\n",
    "needMoreFood <- function(food.weight) {\n",
    "    if (food.weight<10){\n",
    "        print(\"Food please!\")\n",
    "    }\n",
    "    return(TRUE)\n",
    "}\n",
    "food.weight.eval <- needMoreFood(8)\n",
    "food.weight.eval"
   ]
  },
  {
   "cell_type": "markdown",
   "metadata": {
    "collapsed": true
   },
   "source": [
    "##### A function that contain if ... else if ... else ...\n",
    "```\n",
    "# Define a function to evaluate fold change, up-regulation/ down-regulation / no fold change\n",
    "fcEval <- function(x) {\n",
    "    if(x>0){\n",
    "        return(\"UP\")\n",
    "    }\n",
    "    else if(x<0){\n",
    "        return(\"DOWN\")\n",
    "    }\n",
    "    else{\n",
    "        return(\"NONE\")\n",
    "    }\n",
    "}\n",
    "```"
   ]
  },
  {
   "cell_type": "code",
   "execution_count": 17,
   "metadata": {},
   "outputs": [],
   "source": [
    "# Try define the function above!"
   ]
  },
  {
   "cell_type": "markdown",
   "metadata": {},
   "source": [
    "#### 5.2 lapply(): give function to every element of a list and return a list as result\n",
    "Read more about apply: https://www.datacamp.com/community/tutorials/r-tutorial-apply-family\n",
    "```\n",
    "fc.eval.results <- lapply(nav.d14.sub.sig.all$fc,fcEval) # Use lapply to process all the \n",
    "fc.eval.results <- factor(unlist(fc.eval.results)) # Convert list to vector\n",
    "summary(fc.eval.results)\n",
    "```"
   ]
  },
  {
   "cell_type": "code",
   "execution_count": 18,
   "metadata": {},
   "outputs": [],
   "source": [
    "# Try to use your function by apply!"
   ]
  },
  {
   "cell_type": "markdown",
   "metadata": {
    "collapsed": true
   },
   "source": [
    "### 6. Export data"
   ]
  },
  {
   "cell_type": "markdown",
   "metadata": {
    "collapsed": true
   },
   "source": [
    "```\n",
    "write.table(nav.d14.sub.sig.all.srt,row.names=FALSE, \"nav.d14.sub.sig.all.srt.csv\", sep=\",\")\n",
    "```"
   ]
  },
  {
   "cell_type": "code",
   "execution_count": 19,
   "metadata": {},
   "outputs": [],
   "source": [
    "# Try export data!"
   ]
  },
  {
   "cell_type": "markdown",
   "metadata": {},
   "source": [
    "## Homework"
   ]
  },
  {
   "cell_type": "markdown",
   "metadata": {},
   "source": [
    "## 1. Hello world everyday!\n",
    "### 1.1 Make a vector containing days of the week, from Monday to Sunday.\n",
    "### 1.2 Use a for loop to pring \"Hello world XXXday!\" for each day of the week."
   ]
  },
  {
   "cell_type": "code",
   "execution_count": 1,
   "metadata": {},
   "outputs": [
    {
     "name": "stdout",
     "output_type": "stream",
     "text": [
      "[1] \"Hello world Monday\"\n",
      "[1] \"Hello world Tuesday\"\n",
      "[1] \"Hello world Wednesday\"\n",
      "[1] \"Hello world Thursday\"\n",
      "[1] \"Hello world Friday\"\n",
      "[1] \"Hello world Saturday\"\n",
      "[1] \"Hello world Sunday\"\n"
     ]
    }
   ],
   "source": [
    "days <- c(\"Monday\",\"Tuesday\",\"Wednesday\",\"Thursday\",\"Friday\",\"Saturday\",\"Sunday\")\n",
    "for (day in days) {\n",
    "    out.put <- paste(\"Hello world\", day)\n",
    "    print(out.put)\n",
    "}"
   ]
  },
  {
   "cell_type": "markdown",
   "metadata": {},
   "source": [
    "## 2. The Pie\n",
    "### 2.1 In the first 100 digits of pie, count how many numbers are even. \n",
    "### 2.2 Convert the first 200 digits of pie into a 20x10 matrix\n",
    "Please use the digits of Pie from this website: https://www.piday.org/million/"
   ]
  },
  {
   "cell_type": "code",
   "execution_count": 2,
   "metadata": {},
   "outputs": [
    {
     "data": {
      "text/html": [
       "51"
      ],
      "text/latex": [
       "51"
      ],
      "text/markdown": [
       "51"
      ],
      "text/plain": [
       "[1] 51"
      ]
     },
     "metadata": {},
     "output_type": "display_data"
    },
    {
     "data": {
      "text/html": [
       "<table>\n",
       "<tbody>\n",
       "\t<tr><td>3</td><td>1</td><td>4</td><td>1</td><td>5</td><td>9</td><td>2</td><td>6</td><td>5</td><td>3</td></tr>\n",
       "\t<tr><td>5</td><td>8</td><td>9</td><td>7</td><td>9</td><td>3</td><td>2</td><td>3</td><td>8</td><td>4</td></tr>\n",
       "\t<tr><td>6</td><td>2</td><td>6</td><td>4</td><td>3</td><td>3</td><td>8</td><td>3</td><td>2</td><td>7</td></tr>\n",
       "\t<tr><td>9</td><td>5</td><td>0</td><td>2</td><td>8</td><td>8</td><td>4</td><td>1</td><td>9</td><td>7</td></tr>\n",
       "\t<tr><td>1</td><td>6</td><td>9</td><td>3</td><td>9</td><td>9</td><td>3</td><td>7</td><td>5</td><td>1</td></tr>\n",
       "\t<tr><td>0</td><td>5</td><td>8</td><td>2</td><td>0</td><td>9</td><td>7</td><td>4</td><td>9</td><td>4</td></tr>\n",
       "\t<tr><td>4</td><td>5</td><td>9</td><td>2</td><td>3</td><td>0</td><td>7</td><td>8</td><td>1</td><td>6</td></tr>\n",
       "\t<tr><td>4</td><td>0</td><td>6</td><td>2</td><td>8</td><td>6</td><td>2</td><td>0</td><td>8</td><td>9</td></tr>\n",
       "\t<tr><td>9</td><td>8</td><td>6</td><td>2</td><td>8</td><td>0</td><td>3</td><td>4</td><td>8</td><td>2</td></tr>\n",
       "\t<tr><td>5</td><td>3</td><td>4</td><td>2</td><td>1</td><td>1</td><td>7</td><td>0</td><td>6</td><td>7</td></tr>\n",
       "\t<tr><td>9</td><td>8</td><td>2</td><td>1</td><td>4</td><td>8</td><td>0</td><td>8</td><td>6</td><td>5</td></tr>\n",
       "\t<tr><td>1</td><td>3</td><td>2</td><td>8</td><td>2</td><td>3</td><td>0</td><td>6</td><td>6</td><td>4</td></tr>\n",
       "\t<tr><td>7</td><td>0</td><td>9</td><td>3</td><td>8</td><td>4</td><td>4</td><td>6</td><td>0</td><td>9</td></tr>\n",
       "\t<tr><td>5</td><td>5</td><td>0</td><td>5</td><td>8</td><td>2</td><td>2</td><td>3</td><td>1</td><td>7</td></tr>\n",
       "\t<tr><td>2</td><td>5</td><td>3</td><td>5</td><td>9</td><td>4</td><td>0</td><td>8</td><td>1</td><td>2</td></tr>\n",
       "\t<tr><td>8</td><td>4</td><td>8</td><td>1</td><td>1</td><td>1</td><td>7</td><td>4</td><td>5</td><td>0</td></tr>\n",
       "\t<tr><td>2</td><td>8</td><td>4</td><td>1</td><td>0</td><td>2</td><td>7</td><td>0</td><td>1</td><td>9</td></tr>\n",
       "\t<tr><td>3</td><td>8</td><td>5</td><td>2</td><td>1</td><td>1</td><td>0</td><td>5</td><td>5</td><td>5</td></tr>\n",
       "\t<tr><td>9</td><td>6</td><td>4</td><td>4</td><td>6</td><td>2</td><td>2</td><td>9</td><td>4</td><td>8</td></tr>\n",
       "\t<tr><td>9</td><td>5</td><td>4</td><td>9</td><td>3</td><td>0</td><td>3</td><td>8</td><td>1</td><td>9</td></tr>\n",
       "</tbody>\n",
       "</table>\n"
      ],
      "text/latex": [
       "\\begin{tabular}{llllllllll}\n",
       "\t 3 & 1 & 4 & 1 & 5 & 9 & 2 & 6 & 5 & 3\\\\\n",
       "\t 5 & 8 & 9 & 7 & 9 & 3 & 2 & 3 & 8 & 4\\\\\n",
       "\t 6 & 2 & 6 & 4 & 3 & 3 & 8 & 3 & 2 & 7\\\\\n",
       "\t 9 & 5 & 0 & 2 & 8 & 8 & 4 & 1 & 9 & 7\\\\\n",
       "\t 1 & 6 & 9 & 3 & 9 & 9 & 3 & 7 & 5 & 1\\\\\n",
       "\t 0 & 5 & 8 & 2 & 0 & 9 & 7 & 4 & 9 & 4\\\\\n",
       "\t 4 & 5 & 9 & 2 & 3 & 0 & 7 & 8 & 1 & 6\\\\\n",
       "\t 4 & 0 & 6 & 2 & 8 & 6 & 2 & 0 & 8 & 9\\\\\n",
       "\t 9 & 8 & 6 & 2 & 8 & 0 & 3 & 4 & 8 & 2\\\\\n",
       "\t 5 & 3 & 4 & 2 & 1 & 1 & 7 & 0 & 6 & 7\\\\\n",
       "\t 9 & 8 & 2 & 1 & 4 & 8 & 0 & 8 & 6 & 5\\\\\n",
       "\t 1 & 3 & 2 & 8 & 2 & 3 & 0 & 6 & 6 & 4\\\\\n",
       "\t 7 & 0 & 9 & 3 & 8 & 4 & 4 & 6 & 0 & 9\\\\\n",
       "\t 5 & 5 & 0 & 5 & 8 & 2 & 2 & 3 & 1 & 7\\\\\n",
       "\t 2 & 5 & 3 & 5 & 9 & 4 & 0 & 8 & 1 & 2\\\\\n",
       "\t 8 & 4 & 8 & 1 & 1 & 1 & 7 & 4 & 5 & 0\\\\\n",
       "\t 2 & 8 & 4 & 1 & 0 & 2 & 7 & 0 & 1 & 9\\\\\n",
       "\t 3 & 8 & 5 & 2 & 1 & 1 & 0 & 5 & 5 & 5\\\\\n",
       "\t 9 & 6 & 4 & 4 & 6 & 2 & 2 & 9 & 4 & 8\\\\\n",
       "\t 9 & 5 & 4 & 9 & 3 & 0 & 3 & 8 & 1 & 9\\\\\n",
       "\\end{tabular}\n"
      ],
      "text/markdown": [
       "\n",
       "| 3 | 1 | 4 | 1 | 5 | 9 | 2 | 6 | 5 | 3 | \n",
       "| 5 | 8 | 9 | 7 | 9 | 3 | 2 | 3 | 8 | 4 | \n",
       "| 6 | 2 | 6 | 4 | 3 | 3 | 8 | 3 | 2 | 7 | \n",
       "| 9 | 5 | 0 | 2 | 8 | 8 | 4 | 1 | 9 | 7 | \n",
       "| 1 | 6 | 9 | 3 | 9 | 9 | 3 | 7 | 5 | 1 | \n",
       "| 0 | 5 | 8 | 2 | 0 | 9 | 7 | 4 | 9 | 4 | \n",
       "| 4 | 5 | 9 | 2 | 3 | 0 | 7 | 8 | 1 | 6 | \n",
       "| 4 | 0 | 6 | 2 | 8 | 6 | 2 | 0 | 8 | 9 | \n",
       "| 9 | 8 | 6 | 2 | 8 | 0 | 3 | 4 | 8 | 2 | \n",
       "| 5 | 3 | 4 | 2 | 1 | 1 | 7 | 0 | 6 | 7 | \n",
       "| 9 | 8 | 2 | 1 | 4 | 8 | 0 | 8 | 6 | 5 | \n",
       "| 1 | 3 | 2 | 8 | 2 | 3 | 0 | 6 | 6 | 4 | \n",
       "| 7 | 0 | 9 | 3 | 8 | 4 | 4 | 6 | 0 | 9 | \n",
       "| 5 | 5 | 0 | 5 | 8 | 2 | 2 | 3 | 1 | 7 | \n",
       "| 2 | 5 | 3 | 5 | 9 | 4 | 0 | 8 | 1 | 2 | \n",
       "| 8 | 4 | 8 | 1 | 1 | 1 | 7 | 4 | 5 | 0 | \n",
       "| 2 | 8 | 4 | 1 | 0 | 2 | 7 | 0 | 1 | 9 | \n",
       "| 3 | 8 | 5 | 2 | 1 | 1 | 0 | 5 | 5 | 5 | \n",
       "| 9 | 6 | 4 | 4 | 6 | 2 | 2 | 9 | 4 | 8 | \n",
       "| 9 | 5 | 4 | 9 | 3 | 0 | 3 | 8 | 1 | 9 | \n",
       "\n",
       "\n"
      ],
      "text/plain": [
       "      [,1] [,2] [,3] [,4] [,5] [,6] [,7] [,8] [,9] [,10]\n",
       " [1,] 3    1    4    1    5    9    2    6    5    3    \n",
       " [2,] 5    8    9    7    9    3    2    3    8    4    \n",
       " [3,] 6    2    6    4    3    3    8    3    2    7    \n",
       " [4,] 9    5    0    2    8    8    4    1    9    7    \n",
       " [5,] 1    6    9    3    9    9    3    7    5    1    \n",
       " [6,] 0    5    8    2    0    9    7    4    9    4    \n",
       " [7,] 4    5    9    2    3    0    7    8    1    6    \n",
       " [8,] 4    0    6    2    8    6    2    0    8    9    \n",
       " [9,] 9    8    6    2    8    0    3    4    8    2    \n",
       "[10,] 5    3    4    2    1    1    7    0    6    7    \n",
       "[11,] 9    8    2    1    4    8    0    8    6    5    \n",
       "[12,] 1    3    2    8    2    3    0    6    6    4    \n",
       "[13,] 7    0    9    3    8    4    4    6    0    9    \n",
       "[14,] 5    5    0    5    8    2    2    3    1    7    \n",
       "[15,] 2    5    3    5    9    4    0    8    1    2    \n",
       "[16,] 8    4    8    1    1    1    7    4    5    0    \n",
       "[17,] 2    8    4    1    0    2    7    0    1    9    \n",
       "[18,] 3    8    5    2    1    1    0    5    5    5    \n",
       "[19,] 9    6    4    4    6    2    2    9    4    8    \n",
       "[20,] 9    5    4    9    3    0    3    8    1    9    "
      ]
     },
     "metadata": {},
     "output_type": "display_data"
    }
   ],
   "source": [
    "long_pi <- \"3.141592653589793238462643383279502884197169399375105820974944592307816406286208998628034825342117067982148086513282306647093844609550582231725359408128481117450284102701938521105559644622948954930381964428810975665933446128475648233786783165271201909145648566923460348\"\n",
    "\n",
    "#2.1\n",
    "digit_number <- 1\n",
    "count_even <- 0\n",
    "while (digit_number <= 101) {\n",
    "    if (digit_number != 2) {\n",
    "        if (as.numeric(substr(long_pi,start=digit_number,stop=digit_number)) %% 2 == 0) {\n",
    "            count_even <- count_even + 1\n",
    "        }\n",
    "    }\n",
    "    digit_number <- digit_number + 1\n",
    "}\n",
    "count_even\n",
    "\n",
    "#2.2\n",
    "digit_number <- 1\n",
    "pi_vector <- numeric(0)\n",
    "while (digit_number <= 201) {\n",
    "    if (digit_number != 2) {\n",
    "        pi_vector <- c(pi_vector,substr(long_pi,start=digit_number,stop=digit_number))\n",
    "    }\n",
    "    digit_number <- digit_number + 1\n",
    "}\n",
    "pi_matrix <- matrix (pi_vector, nrow=20, ncol=10, byrow=TRUE)\n",
    "pi_matrix"
   ]
  },
  {
   "cell_type": "markdown",
   "metadata": {},
   "source": [
    "## 3. Prime numbers\n",
    "### Find first 500 prime numbers. What is the 500th prime number?"
   ]
  },
  {
   "cell_type": "code",
   "execution_count": 31,
   "metadata": {},
   "outputs": [
    {
     "name": "stdout",
     "output_type": "stream",
     "text": [
      "[1] 2\n",
      "[1] 3\n",
      "[1] 5\n",
      "[1] 7\n",
      "[1] 11\n",
      "[1] 13\n",
      "[1] 17\n",
      "[1] 19\n",
      "[1] 23\n",
      "[1] 29\n",
      "[1] 31\n",
      "[1] 37\n",
      "[1] 41\n",
      "[1] 43\n",
      "[1] 47\n",
      "[1] 53\n",
      "[1] 59\n",
      "[1] 61\n",
      "[1] 67\n",
      "[1] 71\n",
      "[1] 73\n",
      "[1] 79\n",
      "[1] 83\n",
      "[1] 89\n",
      "[1] 97\n",
      "[1] 101\n",
      "[1] 103\n",
      "[1] 107\n",
      "[1] 109\n",
      "[1] 113\n",
      "[1] 127\n",
      "[1] 131\n",
      "[1] 137\n",
      "[1] 139\n",
      "[1] 149\n",
      "[1] 151\n",
      "[1] 157\n",
      "[1] 163\n",
      "[1] 167\n",
      "[1] 173\n",
      "[1] 179\n",
      "[1] 181\n",
      "[1] 191\n",
      "[1] 193\n",
      "[1] 197\n",
      "[1] 199\n",
      "[1] 211\n",
      "[1] 223\n",
      "[1] 227\n",
      "[1] 229\n",
      "[1] 233\n",
      "[1] 239\n",
      "[1] 241\n",
      "[1] 251\n",
      "[1] 257\n",
      "[1] 263\n",
      "[1] 269\n",
      "[1] 271\n",
      "[1] 277\n",
      "[1] 281\n",
      "[1] 283\n",
      "[1] 293\n",
      "[1] 307\n",
      "[1] 311\n",
      "[1] 313\n",
      "[1] 317\n",
      "[1] 331\n",
      "[1] 337\n",
      "[1] 347\n",
      "[1] 349\n",
      "[1] 353\n",
      "[1] 359\n",
      "[1] 367\n",
      "[1] 373\n",
      "[1] 379\n",
      "[1] 383\n",
      "[1] 389\n",
      "[1] 397\n",
      "[1] 401\n",
      "[1] 409\n",
      "[1] 419\n",
      "[1] 421\n",
      "[1] 431\n",
      "[1] 433\n",
      "[1] 439\n",
      "[1] 443\n",
      "[1] 449\n",
      "[1] 457\n",
      "[1] 461\n",
      "[1] 463\n",
      "[1] 467\n",
      "[1] 479\n",
      "[1] 487\n",
      "[1] 491\n",
      "[1] 499\n",
      "[1] 503\n",
      "[1] 509\n",
      "[1] 521\n",
      "[1] 523\n",
      "[1] 541\n",
      "[1] 547\n",
      "[1] 557\n",
      "[1] 563\n",
      "[1] 569\n",
      "[1] 571\n",
      "[1] 577\n",
      "[1] 587\n",
      "[1] 593\n",
      "[1] 599\n",
      "[1] 601\n",
      "[1] 607\n",
      "[1] 613\n",
      "[1] 617\n",
      "[1] 619\n",
      "[1] 631\n",
      "[1] 641\n",
      "[1] 643\n",
      "[1] 647\n",
      "[1] 653\n",
      "[1] 659\n",
      "[1] 661\n",
      "[1] 673\n",
      "[1] 677\n",
      "[1] 683\n",
      "[1] 691\n",
      "[1] 701\n",
      "[1] 709\n",
      "[1] 719\n",
      "[1] 727\n",
      "[1] 733\n",
      "[1] 739\n",
      "[1] 743\n",
      "[1] 751\n",
      "[1] 757\n",
      "[1] 761\n",
      "[1] 769\n",
      "[1] 773\n",
      "[1] 787\n",
      "[1] 797\n",
      "[1] 809\n",
      "[1] 811\n",
      "[1] 821\n",
      "[1] 823\n",
      "[1] 827\n",
      "[1] 829\n",
      "[1] 839\n",
      "[1] 853\n",
      "[1] 857\n",
      "[1] 859\n",
      "[1] 863\n",
      "[1] 877\n",
      "[1] 881\n",
      "[1] 883\n",
      "[1] 887\n",
      "[1] 907\n",
      "[1] 911\n",
      "[1] 919\n",
      "[1] 929\n",
      "[1] 937\n",
      "[1] 941\n",
      "[1] 947\n",
      "[1] 953\n",
      "[1] 967\n",
      "[1] 971\n",
      "[1] 977\n",
      "[1] 983\n",
      "[1] 991\n",
      "[1] 997\n",
      "[1] 1009\n",
      "[1] 1013\n",
      "[1] 1019\n",
      "[1] 1021\n",
      "[1] 1031\n",
      "[1] 1033\n",
      "[1] 1039\n",
      "[1] 1049\n",
      "[1] 1051\n",
      "[1] 1061\n",
      "[1] 1063\n",
      "[1] 1069\n",
      "[1] 1087\n",
      "[1] 1091\n",
      "[1] 1093\n",
      "[1] 1097\n",
      "[1] 1103\n",
      "[1] 1109\n",
      "[1] 1117\n",
      "[1] 1123\n",
      "[1] 1129\n",
      "[1] 1151\n",
      "[1] 1153\n",
      "[1] 1163\n",
      "[1] 1171\n",
      "[1] 1181\n",
      "[1] 1187\n",
      "[1] 1193\n",
      "[1] 1201\n",
      "[1] 1213\n",
      "[1] 1217\n",
      "[1] 1223\n",
      "[1] 1229\n",
      "[1] 1231\n",
      "[1] 1237\n",
      "[1] 1249\n",
      "[1] 1259\n",
      "[1] 1277\n",
      "[1] 1279\n",
      "[1] 1283\n",
      "[1] 1289\n",
      "[1] 1291\n",
      "[1] 1297\n",
      "[1] 1301\n",
      "[1] 1303\n",
      "[1] 1307\n",
      "[1] 1319\n",
      "[1] 1321\n",
      "[1] 1327\n",
      "[1] 1361\n",
      "[1] 1367\n",
      "[1] 1373\n",
      "[1] 1381\n",
      "[1] 1399\n",
      "[1] 1409\n",
      "[1] 1423\n",
      "[1] 1427\n",
      "[1] 1429\n",
      "[1] 1433\n",
      "[1] 1439\n",
      "[1] 1447\n",
      "[1] 1451\n",
      "[1] 1453\n",
      "[1] 1459\n",
      "[1] 1471\n",
      "[1] 1481\n",
      "[1] 1483\n",
      "[1] 1487\n",
      "[1] 1489\n",
      "[1] 1493\n",
      "[1] 1499\n",
      "[1] 1511\n",
      "[1] 1523\n",
      "[1] 1531\n",
      "[1] 1543\n",
      "[1] 1549\n",
      "[1] 1553\n",
      "[1] 1559\n",
      "[1] 1567\n",
      "[1] 1571\n",
      "[1] 1579\n",
      "[1] 1583\n",
      "[1] 1597\n",
      "[1] 1601\n",
      "[1] 1607\n",
      "[1] 1609\n",
      "[1] 1613\n",
      "[1] 1619\n",
      "[1] 1621\n",
      "[1] 1627\n",
      "[1] 1637\n",
      "[1] 1657\n",
      "[1] 1663\n",
      "[1] 1667\n",
      "[1] 1669\n",
      "[1] 1693\n",
      "[1] 1697\n",
      "[1] 1699\n",
      "[1] 1709\n",
      "[1] 1721\n",
      "[1] 1723\n",
      "[1] 1733\n",
      "[1] 1741\n",
      "[1] 1747\n",
      "[1] 1753\n",
      "[1] 1759\n",
      "[1] 1777\n",
      "[1] 1783\n",
      "[1] 1787\n",
      "[1] 1789\n",
      "[1] 1801\n",
      "[1] 1811\n",
      "[1] 1823\n",
      "[1] 1831\n",
      "[1] 1847\n",
      "[1] 1861\n",
      "[1] 1867\n",
      "[1] 1871\n",
      "[1] 1873\n",
      "[1] 1877\n",
      "[1] 1879\n",
      "[1] 1889\n",
      "[1] 1901\n",
      "[1] 1907\n",
      "[1] 1913\n",
      "[1] 1931\n",
      "[1] 1933\n",
      "[1] 1949\n",
      "[1] 1951\n",
      "[1] 1973\n",
      "[1] 1979\n",
      "[1] 1987\n",
      "[1] 1993\n",
      "[1] 1997\n",
      "[1] 1999\n",
      "[1] 2003\n",
      "[1] 2011\n",
      "[1] 2017\n",
      "[1] 2027\n",
      "[1] 2029\n",
      "[1] 2039\n",
      "[1] 2053\n",
      "[1] 2063\n",
      "[1] 2069\n",
      "[1] 2081\n",
      "[1] 2083\n",
      "[1] 2087\n",
      "[1] 2089\n",
      "[1] 2099\n",
      "[1] 2111\n",
      "[1] 2113\n",
      "[1] 2129\n",
      "[1] 2131\n",
      "[1] 2137\n",
      "[1] 2141\n",
      "[1] 2143\n",
      "[1] 2153\n",
      "[1] 2161\n",
      "[1] 2179\n",
      "[1] 2203\n",
      "[1] 2207\n",
      "[1] 2213\n",
      "[1] 2221\n",
      "[1] 2237\n",
      "[1] 2239\n",
      "[1] 2243\n",
      "[1] 2251\n",
      "[1] 2267\n",
      "[1] 2269\n",
      "[1] 2273\n",
      "[1] 2281\n",
      "[1] 2287\n",
      "[1] 2293\n",
      "[1] 2297\n",
      "[1] 2309\n",
      "[1] 2311\n",
      "[1] 2333\n",
      "[1] 2339\n",
      "[1] 2341\n",
      "[1] 2347\n",
      "[1] 2351\n",
      "[1] 2357\n",
      "[1] 2371\n",
      "[1] 2377\n",
      "[1] 2381\n",
      "[1] 2383\n",
      "[1] 2389\n",
      "[1] 2393\n",
      "[1] 2399\n",
      "[1] 2411\n",
      "[1] 2417\n",
      "[1] 2423\n",
      "[1] 2437\n",
      "[1] 2441\n",
      "[1] 2447\n",
      "[1] 2459\n",
      "[1] 2467\n",
      "[1] 2473\n",
      "[1] 2477\n",
      "[1] 2503\n",
      "[1] 2521\n",
      "[1] 2531\n",
      "[1] 2539\n",
      "[1] 2543\n",
      "[1] 2549\n",
      "[1] 2551\n",
      "[1] 2557\n",
      "[1] 2579\n",
      "[1] 2591\n",
      "[1] 2593\n",
      "[1] 2609\n",
      "[1] 2617\n",
      "[1] 2621\n",
      "[1] 2633\n",
      "[1] 2647\n",
      "[1] 2657\n",
      "[1] 2659\n",
      "[1] 2663\n",
      "[1] 2671\n",
      "[1] 2677\n",
      "[1] 2683\n",
      "[1] 2687\n",
      "[1] 2689\n",
      "[1] 2693\n",
      "[1] 2699\n",
      "[1] 2707\n",
      "[1] 2711\n",
      "[1] 2713\n",
      "[1] 2719\n",
      "[1] 2729\n",
      "[1] 2731\n",
      "[1] 2741\n",
      "[1] 2749\n",
      "[1] 2753\n",
      "[1] 2767\n",
      "[1] 2777\n",
      "[1] 2789\n",
      "[1] 2791\n",
      "[1] 2797\n",
      "[1] 2801\n",
      "[1] 2803\n",
      "[1] 2819\n",
      "[1] 2833\n",
      "[1] 2837\n",
      "[1] 2843\n",
      "[1] 2851\n",
      "[1] 2857\n",
      "[1] 2861\n",
      "[1] 2879\n",
      "[1] 2887\n",
      "[1] 2897\n",
      "[1] 2903\n",
      "[1] 2909\n",
      "[1] 2917\n",
      "[1] 2927\n",
      "[1] 2939\n",
      "[1] 2953\n",
      "[1] 2957\n",
      "[1] 2963\n",
      "[1] 2969\n",
      "[1] 2971\n",
      "[1] 2999\n",
      "[1] 3001\n",
      "[1] 3011\n",
      "[1] 3019\n",
      "[1] 3023\n",
      "[1] 3037\n",
      "[1] 3041\n",
      "[1] 3049\n",
      "[1] 3061\n",
      "[1] 3067\n",
      "[1] 3079\n",
      "[1] 3083\n",
      "[1] 3089\n",
      "[1] 3109\n",
      "[1] 3119\n",
      "[1] 3121\n",
      "[1] 3137\n",
      "[1] 3163\n",
      "[1] 3167\n",
      "[1] 3169\n",
      "[1] 3181\n",
      "[1] 3187\n",
      "[1] 3191\n",
      "[1] 3203\n",
      "[1] 3209\n",
      "[1] 3217\n",
      "[1] 3221\n",
      "[1] 3229\n",
      "[1] 3251\n",
      "[1] 3253\n",
      "[1] 3257\n",
      "[1] 3259\n",
      "[1] 3271\n",
      "[1] 3299\n",
      "[1] 3301\n",
      "[1] 3307\n",
      "[1] 3313\n",
      "[1] 3319\n",
      "[1] 3323\n",
      "[1] 3329\n",
      "[1] 3331\n",
      "[1] 3343\n",
      "[1] 3347\n",
      "[1] 3359\n",
      "[1] 3361\n",
      "[1] 3371\n",
      "[1] 3373\n",
      "[1] 3389\n",
      "[1] 3391\n",
      "[1] 3407\n",
      "[1] 3413\n",
      "[1] 3433\n",
      "[1] 3449\n",
      "[1] 3457\n",
      "[1] 3461\n",
      "[1] 3463\n",
      "[1] 3467\n",
      "[1] 3469\n",
      "[1] 3491\n",
      "[1] 3499\n",
      "[1] 3511\n",
      "[1] 3517\n",
      "[1] 3527\n",
      "[1] 3529\n",
      "[1] 3533\n",
      "[1] 3539\n",
      "[1] 3541\n",
      "[1] 3547\n",
      "[1] 3557\n",
      "[1] 3559\n",
      "[1] 3571\n"
     ]
    }
   ],
   "source": [
    "isPrime <- function(x) {\n",
    "    count_from <- 2\n",
    "    count_to <- floor(sqrt(x))\n",
    "    if (x == 1) {\n",
    "        return(FALSE)\n",
    "    }\n",
    "    while (count_from <= count_to) {\n",
    "        if (x %% count_from == 0) {\n",
    "            return(FALSE)\n",
    "        }\n",
    "        count_from <- count_from + 1\n",
    "    }\n",
    "    return(TRUE)\n",
    "}\n",
    "\n",
    "prime_count <- 0\n",
    "current_num <- 2\n",
    "\n",
    "while (prime_count < 500) {\n",
    "    if (isPrime(current_num)) {\n",
    "        prime_count <- prime_count + 1\n",
    "        print(current_num)\n",
    "    }\n",
    "    current_num <- current_num + 1\n",
    "}"
   ]
  },
  {
   "cell_type": "markdown",
   "metadata": {},
   "source": [
    "## 4. Fibonacci number\n",
    "### Define a function to return the Xth fibonacci number\n",
    "Info about fibonacci numbers: https://en.wikipedia.org/wiki/Fibonacci_number (Use the sequence starts with 1,1, 2)"
   ]
  },
  {
   "cell_type": "code",
   "execution_count": 41,
   "metadata": {},
   "outputs": [
    {
     "name": "stdout",
     "output_type": "stream",
     "text": [
      "[1] 1\n",
      "[1] 1\n",
      "[1] 2\n",
      "[1] 3\n",
      "[1] 5\n",
      "[1] 8\n",
      "[1] 13\n",
      "[1] 21\n",
      "[1] 34\n",
      "[1] 55\n"
     ]
    }
   ],
   "source": [
    "nthFib <- function(fib1,fib2,num) {\n",
    "    if (num == 1) {\n",
    "        return(fib1)\n",
    "    } else{\n",
    "        return(nthFib(fib2,fib1+fib2,num-1))\n",
    "    }\n",
    "}\n",
    "\n",
    "for (x in 1:10) {\n",
    "    print(nthFib(1,1,x))\n",
    "}"
   ]
  },
  {
   "cell_type": "code",
   "execution_count": 1,
   "metadata": {},
   "outputs": [
    {
     "name": "stdout",
     "output_type": "stream",
     "text": [
      "[1] 1\n",
      "[1] 1\n",
      "[1] 2\n",
      "[1] 3\n",
      "[1] 5\n",
      "[1] 8\n",
      "[1] 13\n",
      "[1] 21\n",
      "[1] 34\n",
      "[1] 55\n"
     ]
    }
   ],
   "source": [
    "nthFib <- function(x) {\n",
    "    fib1 <- 1\n",
    "    fib2 <- 1\n",
    "    while (x > 1) {\n",
    "        fib2 <- fib1 + fib2\n",
    "        fib1 <- fib2 - fib1\n",
    "        x <- x-1\n",
    "    }\n",
    "    return(fib1)\n",
    "}\n",
    "\n",
    "for (x in 1:10) {\n",
    "    print(nthFib(x))\n",
    "}"
   ]
  },
  {
   "cell_type": "markdown",
   "metadata": {},
   "source": [
    "## 5. Read both NAV-D14_DEseq2.csv and NAV-MEM-DEseq2.csv into dataframes: df.nav.d14 and df.nav.mem .\n",
    "### 5.1 Subset both dataframes to include only \"gene.name\", \"baseMean\", \"log2FoldChange\" and \"padj\"\n",
    "### 5.2 Merge the two dataframes (Change column names so that there are no repetative column names. The base mean in two spreadsheets are the same so delete the extra one.) into a dataframe df.nav.d14.mem.\n",
    "### 5.3 Sort the new dataframe on \" baseMean\".\n",
    "### 5.4 Define a function to evaluate padj output:\n",
    "    - padj > 0.05: nonsig\n",
    "    - padj <= 0.05: sig\n",
    "### 5.5 Use lapply to apply the function to padj of subsetted dataframes nav.mem and nav.d14 (not the combined df.nav.d14.mem) and create one column to add the evaluation result."
   ]
  },
  {
   "cell_type": "code",
   "execution_count": 44,
   "metadata": {},
   "outputs": [
    {
     "data": {
      "text/html": [
       "<table>\n",
       "<thead><tr><th></th><th scope=col>gene.name_d14</th><th scope=col>baseMean</th><th scope=col>log2FoldChange_d14</th><th scope=col>padj_d14</th><th scope=col>gene.name_mem</th><th scope=col>log2FoldChange_mem</th><th scope=col>padj_mem</th></tr></thead>\n",
       "<tbody>\n",
       "\t<tr><th scope=row>78</th><td>HOXA11      </td><td>0.05932533  </td><td> 0.085169654</td><td>NA          </td><td>HOXA11      </td><td> 0.034678088</td><td>NA          </td></tr>\n",
       "\t<tr><th scope=row>143</th><td>CCL26       </td><td>0.09053621  </td><td> 0.000000000</td><td>NA          </td><td>CCL26       </td><td>-0.128044154</td><td>NA          </td></tr>\n",
       "\t<tr><th scope=row>177</th><td>CEACAM7     </td><td>0.11865065  </td><td> 0.150154594</td><td>NA          </td><td>CEACAM7     </td><td> 0.110060614</td><td>NA          </td></tr>\n",
       "\t<tr><th scope=row>399</th><td>CCT8L1P     </td><td>0.14345538  </td><td> 0.069523026</td><td>NA          </td><td>CCT8L1P     </td><td>-0.052763100</td><td>NA          </td></tr>\n",
       "\t<tr><th scope=row>382</th><td>ZNF806      </td><td>0.15787023  </td><td>-0.119992758</td><td>NA          </td><td>ZNF806      </td><td> 0.025610652</td><td>NA          </td></tr>\n",
       "\t<tr><th scope=row>121</th><td>KRT33A      </td><td>0.21961349  </td><td>-0.050179462</td><td>NA          </td><td>KRT33A      </td><td> 0.101788864</td><td>NA          </td></tr>\n",
       "\t<tr><th scope=row>2</th><td>TNMD        </td><td>0.28850802  </td><td>-0.050778715</td><td>NA          </td><td>TNMD        </td><td> 0.111369078</td><td>NA          </td></tr>\n",
       "\t<tr><th scope=row>359</th><td>DPEP1       </td><td>0.29039109  </td><td>-0.127156970</td><td>NA          </td><td>DPEP1       </td><td>-0.077997090</td><td>NA          </td></tr>\n",
       "\t<tr><th scope=row>367</th><td>ISL1        </td><td>0.29423279  </td><td> 0.160969318</td><td>NA          </td><td>ISL1        </td><td> 0.252740351</td><td>NA          </td></tr>\n",
       "\t<tr><th scope=row>58</th><td>HSPB6       </td><td>0.34271462  </td><td> 0.007486801</td><td>NA          </td><td>HSPB6       </td><td> 0.187331099</td><td>NA          </td></tr>\n",
       "\t<tr><th scope=row>254</th><td>HHATL       </td><td>0.43972874  </td><td>-0.345377759</td><td>NA          </td><td>HHATL       </td><td>-0.179454669</td><td>NA          </td></tr>\n",
       "\t<tr><th scope=row>206</th><td>TFAP2D      </td><td>0.47039701  </td><td>-0.430684608</td><td>NA          </td><td>TFAP2D      </td><td> 0.071024465</td><td>NA          </td></tr>\n",
       "\t<tr><th scope=row>479</th><td>IBSP        </td><td>0.50119335  </td><td>-0.103749413</td><td>NA          </td><td>IBSP        </td><td>-0.227551563</td><td>NA          </td></tr>\n",
       "\t<tr><th scope=row>127</th><td>TAC1        </td><td>0.51033946  </td><td>-0.081423954</td><td>NA          </td><td>TAC1        </td><td> 0.280519384</td><td>NA          </td></tr>\n",
       "\t<tr><th scope=row>389</th><td>MARCO       </td><td>0.54027987  </td><td> 0.125599224</td><td>NA          </td><td>MARCO       </td><td> 0.394472286</td><td>NA          </td></tr>\n",
       "\t<tr><th scope=row>160</th><td>MYH13       </td><td>0.59296080  </td><td> 0.496454085</td><td>NA          </td><td>MYH13       </td><td> 0.531475113</td><td>NA          </td></tr>\n",
       "\t<tr><th scope=row>173</th><td>SLC13A2     </td><td>0.69778870  </td><td> 0.336977215</td><td>NA          </td><td>SLC13A2     </td><td> 0.681373060</td><td>NA          </td></tr>\n",
       "\t<tr><th scope=row>370</th><td>CLCA1       </td><td>0.74935878  </td><td> 0.230915436</td><td>NA          </td><td>CLCA1       </td><td> 0.780792568</td><td>NA          </td></tr>\n",
       "\t<tr><th scope=row>202</th><td>CAMK1G      </td><td>0.76972246  </td><td> 0.212517777</td><td>NA          </td><td>CAMK1G      </td><td> 0.378909824</td><td>NA          </td></tr>\n",
       "\t<tr><th scope=row>15</th><td>SEMA3F      </td><td>0.77567641  </td><td> 0.018149013</td><td>NA          </td><td>SEMA3F      </td><td> 0.667725107</td><td>NA          </td></tr>\n",
       "\t<tr><th scope=row>205</th><td>TFAP2B      </td><td>0.85261062  </td><td>-0.519191427</td><td>NA          </td><td>TFAP2B      </td><td> 0.005459387</td><td>NA          </td></tr>\n",
       "\t<tr><th scope=row>70</th><td>CALCR       </td><td>0.97367654  </td><td> 0.560557787</td><td>NA          </td><td>CALCR       </td><td> 0.517196885</td><td>NA          </td></tr>\n",
       "\t<tr><th scope=row>132</th><td>TNFRSF12A   </td><td>0.97382917  </td><td>-0.188665857</td><td>NA          </td><td>TNFRSF12A   </td><td>-1.045886265</td><td>NA          </td></tr>\n",
       "\t<tr><th scope=row>61</th><td>PDK4        </td><td>0.99235301  </td><td> 0.710344976</td><td>NA          </td><td>PDK4        </td><td> 0.867568598</td><td>NA          </td></tr>\n",
       "\t<tr><th scope=row>35</th><td>CYP26B1     </td><td>1.03158610  </td><td>-0.219877332</td><td>NA          </td><td>CYP26B1     </td><td> 0.480447287</td><td>NA          </td></tr>\n",
       "\t<tr><th scope=row>236</th><td>PAX7        </td><td>1.10802575  </td><td>-0.568364689</td><td>NA          </td><td>PAX7        </td><td> 0.376167921</td><td>NA          </td></tr>\n",
       "\t<tr><th scope=row>145</th><td>USH1C       </td><td>1.29067849  </td><td> 0.123184236</td><td>NA          </td><td>USH1C       </td><td> 0.173966416</td><td>NA          </td></tr>\n",
       "\t<tr><th scope=row>120</th><td>YBX2        </td><td>1.35701325  </td><td>-0.103919697</td><td>NA          </td><td>YBX2        </td><td> 0.047562445</td><td>NA          </td></tr>\n",
       "\t<tr><th scope=row>393</th><td>SNAI2       </td><td>1.36702663  </td><td>-0.303912735</td><td>NA          </td><td>SNAI2       </td><td> 0.500491300</td><td>NA          </td></tr>\n",
       "\t<tr><th scope=row>318</th><td>NR1H4       </td><td>1.37191320  </td><td> 0.290328873</td><td>NA          </td><td>NR1H4       </td><td> 0.283739499</td><td>NA          </td></tr>\n",
       "\t<tr><th scope=row>⋮</th><td>⋮</td><td>⋮</td><td>⋮</td><td>⋮</td><td>⋮</td><td>⋮</td><td>⋮</td></tr>\n",
       "\t<tr><th scope=row>344</th><td>CD6         </td><td> 1680.532   </td><td> 0.62615520 </td><td>1.762096e-02</td><td>CD6         </td><td>-0.176840622</td><td>6.280854e-01</td></tr>\n",
       "\t<tr><th scope=row>169</th><td>PAFAH1B1    </td><td> 1727.929   </td><td>-0.62833098 </td><td>4.400091e-03</td><td>PAFAH1B1    </td><td>-0.062229469</td><td>8.760484e-01</td></tr>\n",
       "\t<tr><th scope=row>222</th><td>ST3GAL1     </td><td> 1865.606   </td><td> 1.11515946 </td><td>6.990000e-09</td><td>ST3GAL1     </td><td> 0.197371463</td><td>4.642870e-01</td></tr>\n",
       "\t<tr><th scope=row>30</th><td>LASP1       </td><td> 1961.077   </td><td>-1.33688773 </td><td>3.760000e-08</td><td>LASP1       </td><td>-0.168918234</td><td>6.589888e-01</td></tr>\n",
       "\t<tr><th scope=row>430</th><td>AKAP11      </td><td> 1974.824   </td><td> 0.37992502 </td><td>4.901573e-02</td><td>AKAP11      </td><td> 0.070146474</td><td>8.159639e-01</td></tr>\n",
       "\t<tr><th scope=row>244</th><td>BAZ1B       </td><td> 1994.265   </td><td>-0.78826507 </td><td>2.660000e-05</td><td>BAZ1B       </td><td>-0.150703616</td><td>5.797679e-01</td></tr>\n",
       "\t<tr><th scope=row>126</th><td>AP2B1       </td><td> 2226.782   </td><td>-0.45436473 </td><td>1.552016e-02</td><td>AP2B1       </td><td>-0.258244524</td><td>2.187709e-01</td></tr>\n",
       "\t<tr><th scope=row>461</th><td>BTN3A1      </td><td> 2252.549   </td><td> 0.50307849 </td><td>6.962840e-02</td><td>BTN3A1      </td><td> 0.031405655</td><td>9.505880e-01</td></tr>\n",
       "\t<tr><th scope=row>403</th><td>RUNX3       </td><td> 2330.627   </td><td>-1.13008295 </td><td>1.160000e-10</td><td>RUNX3       </td><td>-1.627667248</td><td>2.930000e-28</td></tr>\n",
       "\t<tr><th scope=row>272</th><td>FYN         </td><td> 2330.741   </td><td>-0.98241396 </td><td>9.270000e-09</td><td>FYN         </td><td>-0.905777856</td><td>2.100000e-09</td></tr>\n",
       "\t<tr><th scope=row>43</th><td>RBM5        </td><td> 2408.477   </td><td> 0.17145537 </td><td>6.274582e-01</td><td>RBM5        </td><td> 0.000476363</td><td>9.993864e-01</td></tr>\n",
       "\t<tr><th scope=row>394</th><td>CD74        </td><td> 2666.667   </td><td>-3.13359321 </td><td>1.540000e-45</td><td>CD74        </td><td>-1.555761684</td><td>8.080000e-15</td></tr>\n",
       "\t<tr><th scope=row>355</th><td>CCDC88C     </td><td> 2740.172   </td><td>-0.15981597 </td><td>4.620735e-01</td><td>CCDC88C     </td><td>-0.136628762</td><td>5.446536e-01</td></tr>\n",
       "\t<tr><th scope=row>361</th><td>MATR3       </td><td> 2854.473   </td><td>-0.07253171 </td><td>8.369317e-01</td><td>MATR3       </td><td>-0.151992422</td><td>6.149466e-01</td></tr>\n",
       "\t<tr><th scope=row>240</th><td>TRAF3IP3    </td><td> 2919.044   </td><td> 0.34780103 </td><td>1.723861e-01</td><td>TRAF3IP3    </td><td> 0.691495931</td><td>5.371370e-04</td></tr>\n",
       "\t<tr><th scope=row>335</th><td>CLK1        </td><td> 3028.438   </td><td> 0.25103675 </td><td>6.208534e-01</td><td>CLK1        </td><td>-0.775060250</td><td>3.113416e-02</td></tr>\n",
       "\t<tr><th scope=row>250</th><td>ZNF207      </td><td> 3561.995   </td><td>-0.47212759 </td><td>4.934328e-03</td><td>ZNF207      </td><td>-0.046850191</td><td>8.767660e-01</td></tr>\n",
       "\t<tr><th scope=row>273</th><td>HIVEP2      </td><td> 3786.947   </td><td> 0.40137173 </td><td>2.426788e-02</td><td>HIVEP2      </td><td>-0.064954716</td><td>8.197728e-01</td></tr>\n",
       "\t<tr><th scope=row>93</th><td>CREBBP      </td><td> 3983.507   </td><td> 0.04999207 </td><td>9.381028e-01</td><td>CREBBP      </td><td>-0.208850046</td><td>7.013419e-01</td></tr>\n",
       "\t<tr><th scope=row>40</th><td>CFLAR       </td><td> 3988.392   </td><td>-0.84837068 </td><td>8.290000e-08</td><td>CFLAR       </td><td>-0.667456720</td><td>3.440000e-06</td></tr>\n",
       "\t<tr><th scope=row>264</th><td>IDS         </td><td> 4226.709   </td><td> 0.16490195 </td><td>6.781748e-01</td><td>IDS         </td><td>-1.588759769</td><td>2.790000e-13</td></tr>\n",
       "\t<tr><th scope=row>463</th><td>PRKCH       </td><td> 4921.310   </td><td>-0.68905537 </td><td>4.261150e-04</td><td>PRKCH       </td><td>-0.081414826</td><td>8.049843e-01</td></tr>\n",
       "\t<tr><th scope=row>108</th><td>ITGAL       </td><td> 5239.439   </td><td>-1.47668196 </td><td>7.890000e-12</td><td>ITGAL       </td><td>-0.805554025</td><td>9.220000e-05</td></tr>\n",
       "\t<tr><th scope=row>101</th><td>KMT2E       </td><td> 5380.166   </td><td> 0.29640980 </td><td>3.297466e-01</td><td>KMT2E       </td><td>-0.245635966</td><td>4.408810e-01</td></tr>\n",
       "\t<tr><th scope=row>476</th><td>BCLAF1      </td><td> 6448.875   </td><td> 0.02525367 </td><td>9.572118e-01</td><td>BCLAF1      </td><td>-0.506160120</td><td>4.385547e-02</td></tr>\n",
       "\t<tr><th scope=row>106</th><td>MYCBP2      </td><td> 6626.632   </td><td> 0.30564128 </td><td>1.621762e-01</td><td>MYCBP2      </td><td> 0.140618605</td><td>6.008990e-01</td></tr>\n",
       "\t<tr><th scope=row>453</th><td>VIM         </td><td> 6746.769   </td><td> 0.32324041 </td><td>4.461893e-01</td><td>VIM         </td><td>-0.979986283</td><td>9.195240e-04</td></tr>\n",
       "\t<tr><th scope=row>232</th><td>CSDE1       </td><td> 7849.075   </td><td> 0.18479473 </td><td>5.155087e-01</td><td>CSDE1       </td><td>-0.169382565</td><td>5.586797e-01</td></tr>\n",
       "\t<tr><th scope=row>231</th><td>RPS20       </td><td> 9247.880   </td><td> 0.83693411 </td><td>6.680000e-05</td><td>RPS20       </td><td>-0.001688742</td><td>9.970915e-01</td></tr>\n",
       "\t<tr><th scope=row>457</th><td>CD44        </td><td>11501.159   </td><td>-0.12100062 </td><td>6.985532e-01</td><td>CD44        </td><td>-0.629118752</td><td>9.195240e-04</td></tr>\n",
       "</tbody>\n",
       "</table>\n"
      ],
      "text/latex": [
       "\\begin{tabular}{r|lllllll}\n",
       "  & gene.name\\_d14 & baseMean & log2FoldChange\\_d14 & padj\\_d14 & gene.name\\_mem & log2FoldChange\\_mem & padj\\_mem\\\\\n",
       "\\hline\n",
       "\t78 & HOXA11       & 0.05932533   &  0.085169654 & NA           & HOXA11       &  0.034678088 & NA          \\\\\n",
       "\t143 & CCL26        & 0.09053621   &  0.000000000 & NA           & CCL26        & -0.128044154 & NA          \\\\\n",
       "\t177 & CEACAM7      & 0.11865065   &  0.150154594 & NA           & CEACAM7      &  0.110060614 & NA          \\\\\n",
       "\t399 & CCT8L1P      & 0.14345538   &  0.069523026 & NA           & CCT8L1P      & -0.052763100 & NA          \\\\\n",
       "\t382 & ZNF806       & 0.15787023   & -0.119992758 & NA           & ZNF806       &  0.025610652 & NA          \\\\\n",
       "\t121 & KRT33A       & 0.21961349   & -0.050179462 & NA           & KRT33A       &  0.101788864 & NA          \\\\\n",
       "\t2 & TNMD         & 0.28850802   & -0.050778715 & NA           & TNMD         &  0.111369078 & NA          \\\\\n",
       "\t359 & DPEP1        & 0.29039109   & -0.127156970 & NA           & DPEP1        & -0.077997090 & NA          \\\\\n",
       "\t367 & ISL1         & 0.29423279   &  0.160969318 & NA           & ISL1         &  0.252740351 & NA          \\\\\n",
       "\t58 & HSPB6        & 0.34271462   &  0.007486801 & NA           & HSPB6        &  0.187331099 & NA          \\\\\n",
       "\t254 & HHATL        & 0.43972874   & -0.345377759 & NA           & HHATL        & -0.179454669 & NA          \\\\\n",
       "\t206 & TFAP2D       & 0.47039701   & -0.430684608 & NA           & TFAP2D       &  0.071024465 & NA          \\\\\n",
       "\t479 & IBSP         & 0.50119335   & -0.103749413 & NA           & IBSP         & -0.227551563 & NA          \\\\\n",
       "\t127 & TAC1         & 0.51033946   & -0.081423954 & NA           & TAC1         &  0.280519384 & NA          \\\\\n",
       "\t389 & MARCO        & 0.54027987   &  0.125599224 & NA           & MARCO        &  0.394472286 & NA          \\\\\n",
       "\t160 & MYH13        & 0.59296080   &  0.496454085 & NA           & MYH13        &  0.531475113 & NA          \\\\\n",
       "\t173 & SLC13A2      & 0.69778870   &  0.336977215 & NA           & SLC13A2      &  0.681373060 & NA          \\\\\n",
       "\t370 & CLCA1        & 0.74935878   &  0.230915436 & NA           & CLCA1        &  0.780792568 & NA          \\\\\n",
       "\t202 & CAMK1G       & 0.76972246   &  0.212517777 & NA           & CAMK1G       &  0.378909824 & NA          \\\\\n",
       "\t15 & SEMA3F       & 0.77567641   &  0.018149013 & NA           & SEMA3F       &  0.667725107 & NA          \\\\\n",
       "\t205 & TFAP2B       & 0.85261062   & -0.519191427 & NA           & TFAP2B       &  0.005459387 & NA          \\\\\n",
       "\t70 & CALCR        & 0.97367654   &  0.560557787 & NA           & CALCR        &  0.517196885 & NA          \\\\\n",
       "\t132 & TNFRSF12A    & 0.97382917   & -0.188665857 & NA           & TNFRSF12A    & -1.045886265 & NA          \\\\\n",
       "\t61 & PDK4         & 0.99235301   &  0.710344976 & NA           & PDK4         &  0.867568598 & NA          \\\\\n",
       "\t35 & CYP26B1      & 1.03158610   & -0.219877332 & NA           & CYP26B1      &  0.480447287 & NA          \\\\\n",
       "\t236 & PAX7         & 1.10802575   & -0.568364689 & NA           & PAX7         &  0.376167921 & NA          \\\\\n",
       "\t145 & USH1C        & 1.29067849   &  0.123184236 & NA           & USH1C        &  0.173966416 & NA          \\\\\n",
       "\t120 & YBX2         & 1.35701325   & -0.103919697 & NA           & YBX2         &  0.047562445 & NA          \\\\\n",
       "\t393 & SNAI2        & 1.36702663   & -0.303912735 & NA           & SNAI2        &  0.500491300 & NA          \\\\\n",
       "\t318 & NR1H4        & 1.37191320   &  0.290328873 & NA           & NR1H4        &  0.283739499 & NA          \\\\\n",
       "\t⋮ & ⋮ & ⋮ & ⋮ & ⋮ & ⋮ & ⋮ & ⋮\\\\\n",
       "\t344 & CD6          &  1680.532    &  0.62615520  & 1.762096e-02 & CD6          & -0.176840622 & 6.280854e-01\\\\\n",
       "\t169 & PAFAH1B1     &  1727.929    & -0.62833098  & 4.400091e-03 & PAFAH1B1     & -0.062229469 & 8.760484e-01\\\\\n",
       "\t222 & ST3GAL1      &  1865.606    &  1.11515946  & 6.990000e-09 & ST3GAL1      &  0.197371463 & 4.642870e-01\\\\\n",
       "\t30 & LASP1        &  1961.077    & -1.33688773  & 3.760000e-08 & LASP1        & -0.168918234 & 6.589888e-01\\\\\n",
       "\t430 & AKAP11       &  1974.824    &  0.37992502  & 4.901573e-02 & AKAP11       &  0.070146474 & 8.159639e-01\\\\\n",
       "\t244 & BAZ1B        &  1994.265    & -0.78826507  & 2.660000e-05 & BAZ1B        & -0.150703616 & 5.797679e-01\\\\\n",
       "\t126 & AP2B1        &  2226.782    & -0.45436473  & 1.552016e-02 & AP2B1        & -0.258244524 & 2.187709e-01\\\\\n",
       "\t461 & BTN3A1       &  2252.549    &  0.50307849  & 6.962840e-02 & BTN3A1       &  0.031405655 & 9.505880e-01\\\\\n",
       "\t403 & RUNX3        &  2330.627    & -1.13008295  & 1.160000e-10 & RUNX3        & -1.627667248 & 2.930000e-28\\\\\n",
       "\t272 & FYN          &  2330.741    & -0.98241396  & 9.270000e-09 & FYN          & -0.905777856 & 2.100000e-09\\\\\n",
       "\t43 & RBM5         &  2408.477    &  0.17145537  & 6.274582e-01 & RBM5         &  0.000476363 & 9.993864e-01\\\\\n",
       "\t394 & CD74         &  2666.667    & -3.13359321  & 1.540000e-45 & CD74         & -1.555761684 & 8.080000e-15\\\\\n",
       "\t355 & CCDC88C      &  2740.172    & -0.15981597  & 4.620735e-01 & CCDC88C      & -0.136628762 & 5.446536e-01\\\\\n",
       "\t361 & MATR3        &  2854.473    & -0.07253171  & 8.369317e-01 & MATR3        & -0.151992422 & 6.149466e-01\\\\\n",
       "\t240 & TRAF3IP3     &  2919.044    &  0.34780103  & 1.723861e-01 & TRAF3IP3     &  0.691495931 & 5.371370e-04\\\\\n",
       "\t335 & CLK1         &  3028.438    &  0.25103675  & 6.208534e-01 & CLK1         & -0.775060250 & 3.113416e-02\\\\\n",
       "\t250 & ZNF207       &  3561.995    & -0.47212759  & 4.934328e-03 & ZNF207       & -0.046850191 & 8.767660e-01\\\\\n",
       "\t273 & HIVEP2       &  3786.947    &  0.40137173  & 2.426788e-02 & HIVEP2       & -0.064954716 & 8.197728e-01\\\\\n",
       "\t93 & CREBBP       &  3983.507    &  0.04999207  & 9.381028e-01 & CREBBP       & -0.208850046 & 7.013419e-01\\\\\n",
       "\t40 & CFLAR        &  3988.392    & -0.84837068  & 8.290000e-08 & CFLAR        & -0.667456720 & 3.440000e-06\\\\\n",
       "\t264 & IDS          &  4226.709    &  0.16490195  & 6.781748e-01 & IDS          & -1.588759769 & 2.790000e-13\\\\\n",
       "\t463 & PRKCH        &  4921.310    & -0.68905537  & 4.261150e-04 & PRKCH        & -0.081414826 & 8.049843e-01\\\\\n",
       "\t108 & ITGAL        &  5239.439    & -1.47668196  & 7.890000e-12 & ITGAL        & -0.805554025 & 9.220000e-05\\\\\n",
       "\t101 & KMT2E        &  5380.166    &  0.29640980  & 3.297466e-01 & KMT2E        & -0.245635966 & 4.408810e-01\\\\\n",
       "\t476 & BCLAF1       &  6448.875    &  0.02525367  & 9.572118e-01 & BCLAF1       & -0.506160120 & 4.385547e-02\\\\\n",
       "\t106 & MYCBP2       &  6626.632    &  0.30564128  & 1.621762e-01 & MYCBP2       &  0.140618605 & 6.008990e-01\\\\\n",
       "\t453 & VIM          &  6746.769    &  0.32324041  & 4.461893e-01 & VIM          & -0.979986283 & 9.195240e-04\\\\\n",
       "\t232 & CSDE1        &  7849.075    &  0.18479473  & 5.155087e-01 & CSDE1        & -0.169382565 & 5.586797e-01\\\\\n",
       "\t231 & RPS20        &  9247.880    &  0.83693411  & 6.680000e-05 & RPS20        & -0.001688742 & 9.970915e-01\\\\\n",
       "\t457 & CD44         & 11501.159    & -0.12100062  & 6.985532e-01 & CD44         & -0.629118752 & 9.195240e-04\\\\\n",
       "\\end{tabular}\n"
      ],
      "text/markdown": [
       "\n",
       "| <!--/--> | gene.name_d14 | baseMean | log2FoldChange_d14 | padj_d14 | gene.name_mem | log2FoldChange_mem | padj_mem | \n",
       "|---|---|---|---|---|---|---|---|---|---|---|---|---|---|---|---|---|---|---|---|---|---|---|---|---|---|---|---|---|---|---|---|---|---|---|---|---|---|---|---|---|---|---|---|---|---|---|---|---|---|---|---|---|---|---|---|---|---|---|---|---|\n",
       "| 78 | HOXA11       | 0.05932533   |  0.085169654 | NA           | HOXA11       |  0.034678088 | NA           | \n",
       "| 143 | CCL26        | 0.09053621   |  0.000000000 | NA           | CCL26        | -0.128044154 | NA           | \n",
       "| 177 | CEACAM7      | 0.11865065   |  0.150154594 | NA           | CEACAM7      |  0.110060614 | NA           | \n",
       "| 399 | CCT8L1P      | 0.14345538   |  0.069523026 | NA           | CCT8L1P      | -0.052763100 | NA           | \n",
       "| 382 | ZNF806       | 0.15787023   | -0.119992758 | NA           | ZNF806       |  0.025610652 | NA           | \n",
       "| 121 | KRT33A       | 0.21961349   | -0.050179462 | NA           | KRT33A       |  0.101788864 | NA           | \n",
       "| 2 | TNMD         | 0.28850802   | -0.050778715 | NA           | TNMD         |  0.111369078 | NA           | \n",
       "| 359 | DPEP1        | 0.29039109   | -0.127156970 | NA           | DPEP1        | -0.077997090 | NA           | \n",
       "| 367 | ISL1         | 0.29423279   |  0.160969318 | NA           | ISL1         |  0.252740351 | NA           | \n",
       "| 58 | HSPB6        | 0.34271462   |  0.007486801 | NA           | HSPB6        |  0.187331099 | NA           | \n",
       "| 254 | HHATL        | 0.43972874   | -0.345377759 | NA           | HHATL        | -0.179454669 | NA           | \n",
       "| 206 | TFAP2D       | 0.47039701   | -0.430684608 | NA           | TFAP2D       |  0.071024465 | NA           | \n",
       "| 479 | IBSP         | 0.50119335   | -0.103749413 | NA           | IBSP         | -0.227551563 | NA           | \n",
       "| 127 | TAC1         | 0.51033946   | -0.081423954 | NA           | TAC1         |  0.280519384 | NA           | \n",
       "| 389 | MARCO        | 0.54027987   |  0.125599224 | NA           | MARCO        |  0.394472286 | NA           | \n",
       "| 160 | MYH13        | 0.59296080   |  0.496454085 | NA           | MYH13        |  0.531475113 | NA           | \n",
       "| 173 | SLC13A2      | 0.69778870   |  0.336977215 | NA           | SLC13A2      |  0.681373060 | NA           | \n",
       "| 370 | CLCA1        | 0.74935878   |  0.230915436 | NA           | CLCA1        |  0.780792568 | NA           | \n",
       "| 202 | CAMK1G       | 0.76972246   |  0.212517777 | NA           | CAMK1G       |  0.378909824 | NA           | \n",
       "| 15 | SEMA3F       | 0.77567641   |  0.018149013 | NA           | SEMA3F       |  0.667725107 | NA           | \n",
       "| 205 | TFAP2B       | 0.85261062   | -0.519191427 | NA           | TFAP2B       |  0.005459387 | NA           | \n",
       "| 70 | CALCR        | 0.97367654   |  0.560557787 | NA           | CALCR        |  0.517196885 | NA           | \n",
       "| 132 | TNFRSF12A    | 0.97382917   | -0.188665857 | NA           | TNFRSF12A    | -1.045886265 | NA           | \n",
       "| 61 | PDK4         | 0.99235301   |  0.710344976 | NA           | PDK4         |  0.867568598 | NA           | \n",
       "| 35 | CYP26B1      | 1.03158610   | -0.219877332 | NA           | CYP26B1      |  0.480447287 | NA           | \n",
       "| 236 | PAX7         | 1.10802575   | -0.568364689 | NA           | PAX7         |  0.376167921 | NA           | \n",
       "| 145 | USH1C        | 1.29067849   |  0.123184236 | NA           | USH1C        |  0.173966416 | NA           | \n",
       "| 120 | YBX2         | 1.35701325   | -0.103919697 | NA           | YBX2         |  0.047562445 | NA           | \n",
       "| 393 | SNAI2        | 1.36702663   | -0.303912735 | NA           | SNAI2        |  0.500491300 | NA           | \n",
       "| 318 | NR1H4        | 1.37191320   |  0.290328873 | NA           | NR1H4        |  0.283739499 | NA           | \n",
       "| ⋮ | ⋮ | ⋮ | ⋮ | ⋮ | ⋮ | ⋮ | ⋮ | \n",
       "| 344 | CD6          |  1680.532    |  0.62615520  | 1.762096e-02 | CD6          | -0.176840622 | 6.280854e-01 | \n",
       "| 169 | PAFAH1B1     |  1727.929    | -0.62833098  | 4.400091e-03 | PAFAH1B1     | -0.062229469 | 8.760484e-01 | \n",
       "| 222 | ST3GAL1      |  1865.606    |  1.11515946  | 6.990000e-09 | ST3GAL1      |  0.197371463 | 4.642870e-01 | \n",
       "| 30 | LASP1        |  1961.077    | -1.33688773  | 3.760000e-08 | LASP1        | -0.168918234 | 6.589888e-01 | \n",
       "| 430 | AKAP11       |  1974.824    |  0.37992502  | 4.901573e-02 | AKAP11       |  0.070146474 | 8.159639e-01 | \n",
       "| 244 | BAZ1B        |  1994.265    | -0.78826507  | 2.660000e-05 | BAZ1B        | -0.150703616 | 5.797679e-01 | \n",
       "| 126 | AP2B1        |  2226.782    | -0.45436473  | 1.552016e-02 | AP2B1        | -0.258244524 | 2.187709e-01 | \n",
       "| 461 | BTN3A1       |  2252.549    |  0.50307849  | 6.962840e-02 | BTN3A1       |  0.031405655 | 9.505880e-01 | \n",
       "| 403 | RUNX3        |  2330.627    | -1.13008295  | 1.160000e-10 | RUNX3        | -1.627667248 | 2.930000e-28 | \n",
       "| 272 | FYN          |  2330.741    | -0.98241396  | 9.270000e-09 | FYN          | -0.905777856 | 2.100000e-09 | \n",
       "| 43 | RBM5         |  2408.477    |  0.17145537  | 6.274582e-01 | RBM5         |  0.000476363 | 9.993864e-01 | \n",
       "| 394 | CD74         |  2666.667    | -3.13359321  | 1.540000e-45 | CD74         | -1.555761684 | 8.080000e-15 | \n",
       "| 355 | CCDC88C      |  2740.172    | -0.15981597  | 4.620735e-01 | CCDC88C      | -0.136628762 | 5.446536e-01 | \n",
       "| 361 | MATR3        |  2854.473    | -0.07253171  | 8.369317e-01 | MATR3        | -0.151992422 | 6.149466e-01 | \n",
       "| 240 | TRAF3IP3     |  2919.044    |  0.34780103  | 1.723861e-01 | TRAF3IP3     |  0.691495931 | 5.371370e-04 | \n",
       "| 335 | CLK1         |  3028.438    |  0.25103675  | 6.208534e-01 | CLK1         | -0.775060250 | 3.113416e-02 | \n",
       "| 250 | ZNF207       |  3561.995    | -0.47212759  | 4.934328e-03 | ZNF207       | -0.046850191 | 8.767660e-01 | \n",
       "| 273 | HIVEP2       |  3786.947    |  0.40137173  | 2.426788e-02 | HIVEP2       | -0.064954716 | 8.197728e-01 | \n",
       "| 93 | CREBBP       |  3983.507    |  0.04999207  | 9.381028e-01 | CREBBP       | -0.208850046 | 7.013419e-01 | \n",
       "| 40 | CFLAR        |  3988.392    | -0.84837068  | 8.290000e-08 | CFLAR        | -0.667456720 | 3.440000e-06 | \n",
       "| 264 | IDS          |  4226.709    |  0.16490195  | 6.781748e-01 | IDS          | -1.588759769 | 2.790000e-13 | \n",
       "| 463 | PRKCH        |  4921.310    | -0.68905537  | 4.261150e-04 | PRKCH        | -0.081414826 | 8.049843e-01 | \n",
       "| 108 | ITGAL        |  5239.439    | -1.47668196  | 7.890000e-12 | ITGAL        | -0.805554025 | 9.220000e-05 | \n",
       "| 101 | KMT2E        |  5380.166    |  0.29640980  | 3.297466e-01 | KMT2E        | -0.245635966 | 4.408810e-01 | \n",
       "| 476 | BCLAF1       |  6448.875    |  0.02525367  | 9.572118e-01 | BCLAF1       | -0.506160120 | 4.385547e-02 | \n",
       "| 106 | MYCBP2       |  6626.632    |  0.30564128  | 1.621762e-01 | MYCBP2       |  0.140618605 | 6.008990e-01 | \n",
       "| 453 | VIM          |  6746.769    |  0.32324041  | 4.461893e-01 | VIM          | -0.979986283 | 9.195240e-04 | \n",
       "| 232 | CSDE1        |  7849.075    |  0.18479473  | 5.155087e-01 | CSDE1        | -0.169382565 | 5.586797e-01 | \n",
       "| 231 | RPS20        |  9247.880    |  0.83693411  | 6.680000e-05 | RPS20        | -0.001688742 | 9.970915e-01 | \n",
       "| 457 | CD44         | 11501.159    | -0.12100062  | 6.985532e-01 | CD44         | -0.629118752 | 9.195240e-04 | \n",
       "\n",
       "\n"
      ],
      "text/plain": [
       "    gene.name_d14 baseMean   log2FoldChange_d14 padj_d14     gene.name_mem\n",
       "78  HOXA11        0.05932533  0.085169654       NA           HOXA11       \n",
       "143 CCL26         0.09053621  0.000000000       NA           CCL26        \n",
       "177 CEACAM7       0.11865065  0.150154594       NA           CEACAM7      \n",
       "399 CCT8L1P       0.14345538  0.069523026       NA           CCT8L1P      \n",
       "382 ZNF806        0.15787023 -0.119992758       NA           ZNF806       \n",
       "121 KRT33A        0.21961349 -0.050179462       NA           KRT33A       \n",
       "2   TNMD          0.28850802 -0.050778715       NA           TNMD         \n",
       "359 DPEP1         0.29039109 -0.127156970       NA           DPEP1        \n",
       "367 ISL1          0.29423279  0.160969318       NA           ISL1         \n",
       "58  HSPB6         0.34271462  0.007486801       NA           HSPB6        \n",
       "254 HHATL         0.43972874 -0.345377759       NA           HHATL        \n",
       "206 TFAP2D        0.47039701 -0.430684608       NA           TFAP2D       \n",
       "479 IBSP          0.50119335 -0.103749413       NA           IBSP         \n",
       "127 TAC1          0.51033946 -0.081423954       NA           TAC1         \n",
       "389 MARCO         0.54027987  0.125599224       NA           MARCO        \n",
       "160 MYH13         0.59296080  0.496454085       NA           MYH13        \n",
       "173 SLC13A2       0.69778870  0.336977215       NA           SLC13A2      \n",
       "370 CLCA1         0.74935878  0.230915436       NA           CLCA1        \n",
       "202 CAMK1G        0.76972246  0.212517777       NA           CAMK1G       \n",
       "15  SEMA3F        0.77567641  0.018149013       NA           SEMA3F       \n",
       "205 TFAP2B        0.85261062 -0.519191427       NA           TFAP2B       \n",
       "70  CALCR         0.97367654  0.560557787       NA           CALCR        \n",
       "132 TNFRSF12A     0.97382917 -0.188665857       NA           TNFRSF12A    \n",
       "61  PDK4          0.99235301  0.710344976       NA           PDK4         \n",
       "35  CYP26B1       1.03158610 -0.219877332       NA           CYP26B1      \n",
       "236 PAX7          1.10802575 -0.568364689       NA           PAX7         \n",
       "145 USH1C         1.29067849  0.123184236       NA           USH1C        \n",
       "120 YBX2          1.35701325 -0.103919697       NA           YBX2         \n",
       "393 SNAI2         1.36702663 -0.303912735       NA           SNAI2        \n",
       "318 NR1H4         1.37191320  0.290328873       NA           NR1H4        \n",
       "⋮   ⋮             ⋮          ⋮                  ⋮            ⋮            \n",
       "344 CD6            1680.532   0.62615520        1.762096e-02 CD6          \n",
       "169 PAFAH1B1       1727.929  -0.62833098        4.400091e-03 PAFAH1B1     \n",
       "222 ST3GAL1        1865.606   1.11515946        6.990000e-09 ST3GAL1      \n",
       "30  LASP1          1961.077  -1.33688773        3.760000e-08 LASP1        \n",
       "430 AKAP11         1974.824   0.37992502        4.901573e-02 AKAP11       \n",
       "244 BAZ1B          1994.265  -0.78826507        2.660000e-05 BAZ1B        \n",
       "126 AP2B1          2226.782  -0.45436473        1.552016e-02 AP2B1        \n",
       "461 BTN3A1         2252.549   0.50307849        6.962840e-02 BTN3A1       \n",
       "403 RUNX3          2330.627  -1.13008295        1.160000e-10 RUNX3        \n",
       "272 FYN            2330.741  -0.98241396        9.270000e-09 FYN          \n",
       "43  RBM5           2408.477   0.17145537        6.274582e-01 RBM5         \n",
       "394 CD74           2666.667  -3.13359321        1.540000e-45 CD74         \n",
       "355 CCDC88C        2740.172  -0.15981597        4.620735e-01 CCDC88C      \n",
       "361 MATR3          2854.473  -0.07253171        8.369317e-01 MATR3        \n",
       "240 TRAF3IP3       2919.044   0.34780103        1.723861e-01 TRAF3IP3     \n",
       "335 CLK1           3028.438   0.25103675        6.208534e-01 CLK1         \n",
       "250 ZNF207         3561.995  -0.47212759        4.934328e-03 ZNF207       \n",
       "273 HIVEP2         3786.947   0.40137173        2.426788e-02 HIVEP2       \n",
       "93  CREBBP         3983.507   0.04999207        9.381028e-01 CREBBP       \n",
       "40  CFLAR          3988.392  -0.84837068        8.290000e-08 CFLAR        \n",
       "264 IDS            4226.709   0.16490195        6.781748e-01 IDS          \n",
       "463 PRKCH          4921.310  -0.68905537        4.261150e-04 PRKCH        \n",
       "108 ITGAL          5239.439  -1.47668196        7.890000e-12 ITGAL        \n",
       "101 KMT2E          5380.166   0.29640980        3.297466e-01 KMT2E        \n",
       "476 BCLAF1         6448.875   0.02525367        9.572118e-01 BCLAF1       \n",
       "106 MYCBP2         6626.632   0.30564128        1.621762e-01 MYCBP2       \n",
       "453 VIM            6746.769   0.32324041        4.461893e-01 VIM          \n",
       "232 CSDE1          7849.075   0.18479473        5.155087e-01 CSDE1        \n",
       "231 RPS20          9247.880   0.83693411        6.680000e-05 RPS20        \n",
       "457 CD44          11501.159  -0.12100062        6.985532e-01 CD44         \n",
       "    log2FoldChange_mem padj_mem    \n",
       "78   0.034678088       NA          \n",
       "143 -0.128044154       NA          \n",
       "177  0.110060614       NA          \n",
       "399 -0.052763100       NA          \n",
       "382  0.025610652       NA          \n",
       "121  0.101788864       NA          \n",
       "2    0.111369078       NA          \n",
       "359 -0.077997090       NA          \n",
       "367  0.252740351       NA          \n",
       "58   0.187331099       NA          \n",
       "254 -0.179454669       NA          \n",
       "206  0.071024465       NA          \n",
       "479 -0.227551563       NA          \n",
       "127  0.280519384       NA          \n",
       "389  0.394472286       NA          \n",
       "160  0.531475113       NA          \n",
       "173  0.681373060       NA          \n",
       "370  0.780792568       NA          \n",
       "202  0.378909824       NA          \n",
       "15   0.667725107       NA          \n",
       "205  0.005459387       NA          \n",
       "70   0.517196885       NA          \n",
       "132 -1.045886265       NA          \n",
       "61   0.867568598       NA          \n",
       "35   0.480447287       NA          \n",
       "236  0.376167921       NA          \n",
       "145  0.173966416       NA          \n",
       "120  0.047562445       NA          \n",
       "393  0.500491300       NA          \n",
       "318  0.283739499       NA          \n",
       "⋮   ⋮                  ⋮           \n",
       "344 -0.176840622       6.280854e-01\n",
       "169 -0.062229469       8.760484e-01\n",
       "222  0.197371463       4.642870e-01\n",
       "30  -0.168918234       6.589888e-01\n",
       "430  0.070146474       8.159639e-01\n",
       "244 -0.150703616       5.797679e-01\n",
       "126 -0.258244524       2.187709e-01\n",
       "461  0.031405655       9.505880e-01\n",
       "403 -1.627667248       2.930000e-28\n",
       "272 -0.905777856       2.100000e-09\n",
       "43   0.000476363       9.993864e-01\n",
       "394 -1.555761684       8.080000e-15\n",
       "355 -0.136628762       5.446536e-01\n",
       "361 -0.151992422       6.149466e-01\n",
       "240  0.691495931       5.371370e-04\n",
       "335 -0.775060250       3.113416e-02\n",
       "250 -0.046850191       8.767660e-01\n",
       "273 -0.064954716       8.197728e-01\n",
       "93  -0.208850046       7.013419e-01\n",
       "40  -0.667456720       3.440000e-06\n",
       "264 -1.588759769       2.790000e-13\n",
       "463 -0.081414826       8.049843e-01\n",
       "108 -0.805554025       9.220000e-05\n",
       "101 -0.245635966       4.408810e-01\n",
       "476 -0.506160120       4.385547e-02\n",
       "106  0.140618605       6.008990e-01\n",
       "453 -0.979986283       9.195240e-04\n",
       "232 -0.169382565       5.586797e-01\n",
       "231 -0.001688742       9.970915e-01\n",
       "457 -0.629118752       9.195240e-04"
      ]
     },
     "metadata": {},
     "output_type": "display_data"
    },
    {
     "data": {
      "text/html": [
       "<table>\n",
       "<thead><tr><th scope=col>gene.name_d14</th><th scope=col>baseMean</th><th scope=col>log2FoldChange_d14</th><th scope=col>padj_d14</th><th scope=col>sig_d14</th></tr></thead>\n",
       "<tbody>\n",
       "\t<tr><td>TSPAN6      </td><td>  25.2567446</td><td> 1.302468822</td><td>8.209295e-03</td><td>sig         </td></tr>\n",
       "\t<tr><td>TNMD        </td><td>   0.2885080</td><td>-0.050778715</td><td>          NA</td><td>NA          </td></tr>\n",
       "\t<tr><td>DPM1        </td><td> 163.5077733</td><td>-0.055028326</td><td>9.144493e-01</td><td>nonsig      </td></tr>\n",
       "\t<tr><td>SCYL3       </td><td> 296.4617127</td><td> 0.273700992</td><td>3.312390e-01</td><td>nonsig      </td></tr>\n",
       "\t<tr><td>C1orf112    </td><td> 199.0119864</td><td>-1.620120054</td><td>1.590000e-07</td><td>sig         </td></tr>\n",
       "\t<tr><td>FGR         </td><td> 122.7925300</td><td>-5.609368054</td><td>7.150000e-17</td><td>sig         </td></tr>\n",
       "\t<tr><td>CFH         </td><td>  27.4052165</td><td>-0.054920405</td><td>9.742211e-01</td><td>nonsig      </td></tr>\n",
       "\t<tr><td>FUCA2       </td><td>  72.0384923</td><td>-0.764421958</td><td>2.135803e-02</td><td>sig         </td></tr>\n",
       "\t<tr><td>GCLC        </td><td> 232.8235989</td><td>-0.669026757</td><td>7.365785e-03</td><td>sig         </td></tr>\n",
       "\t<tr><td>NFYA        </td><td> 557.5801607</td><td>-0.007449532</td><td>9.850497e-01</td><td>nonsig      </td></tr>\n",
       "\t<tr><td>STPG1       </td><td> 108.0712339</td><td> 0.772006269</td><td>1.301502e-01</td><td>nonsig      </td></tr>\n",
       "\t<tr><td>NIPAL3      </td><td> 810.6565538</td><td> 0.890087366</td><td>2.670000e-05</td><td>sig         </td></tr>\n",
       "\t<tr><td>LAS1L       </td><td> 541.2743227</td><td> 0.243789623</td><td>4.646951e-01</td><td>nonsig      </td></tr>\n",
       "\t<tr><td>ENPP4       </td><td> 166.5152095</td><td>-1.079758358</td><td>4.158050e-04</td><td>sig         </td></tr>\n",
       "\t<tr><td>SEMA3F      </td><td>   0.7756764</td><td> 0.018149013</td><td>          NA</td><td>NA          </td></tr>\n",
       "\t<tr><td>CFTR        </td><td>  21.0101464</td><td>-0.152174024</td><td>8.859011e-01</td><td>nonsig      </td></tr>\n",
       "\t<tr><td>ANKIB1      </td><td> 851.1972930</td><td>-0.244293694</td><td>3.091941e-01</td><td>nonsig      </td></tr>\n",
       "\t<tr><td>CYP51A1     </td><td> 232.2112019</td><td>-0.375691024</td><td>2.950932e-01</td><td>nonsig      </td></tr>\n",
       "\t<tr><td>KRIT1       </td><td> 646.5918389</td><td> 0.231034820</td><td>4.243037e-01</td><td>nonsig      </td></tr>\n",
       "\t<tr><td>RAD52       </td><td> 239.2300392</td><td>-0.232950518</td><td>6.475512e-01</td><td>nonsig      </td></tr>\n",
       "\t<tr><td>MYH16       </td><td>   4.3225472</td><td> 0.928279411</td><td>3.681571e-01</td><td>nonsig      </td></tr>\n",
       "\t<tr><td>BAD         </td><td>  17.4333591</td><td>-1.057237408</td><td>5.114864e-02</td><td>nonsig      </td></tr>\n",
       "\t<tr><td>LAP3        </td><td> 365.2625318</td><td>-1.030560331</td><td>2.888787e-03</td><td>sig         </td></tr>\n",
       "\t<tr><td>CD99        </td><td> 643.5209068</td><td>-2.255638839</td><td>1.250000e-14</td><td>sig         </td></tr>\n",
       "\t<tr><td>HS3ST1      </td><td>  14.7767394</td><td> 0.270394524</td><td>7.364323e-01</td><td>nonsig      </td></tr>\n",
       "\t<tr><td>AOC1        </td><td>   3.1094441</td><td> 0.241018564</td><td>8.623265e-01</td><td>nonsig      </td></tr>\n",
       "\t<tr><td>WNT16       </td><td>   4.1070926</td><td> 1.180624115</td><td>1.870495e-01</td><td>nonsig      </td></tr>\n",
       "\t<tr><td>HECW1       </td><td>  17.8167829</td><td>-0.026159525</td><td>9.877749e-01</td><td>nonsig      </td></tr>\n",
       "\t<tr><td>MAD1L1      </td><td>  99.3680284</td><td>-0.144866391</td><td>8.151420e-01</td><td>nonsig      </td></tr>\n",
       "\t<tr><td>LASP1       </td><td>1961.0769280</td><td>-1.336887734</td><td>3.760000e-08</td><td>sig         </td></tr>\n",
       "\t<tr><td>⋮</td><td>⋮</td><td>⋮</td><td>⋮</td><td>⋮</td></tr>\n",
       "\t<tr><td>POU2F2      </td><td> 463.1803447</td><td> 0.53986676 </td><td>1.006744e-01</td><td>nonsig      </td></tr>\n",
       "\t<tr><td>BRD9        </td><td> 281.2836333</td><td> 0.34280709 </td><td>2.619995e-01</td><td>nonsig      </td></tr>\n",
       "\t<tr><td>SNX1        </td><td>1190.4092840</td><td> 0.01255498 </td><td>9.858765e-01</td><td>nonsig      </td></tr>\n",
       "\t<tr><td>TBPL1       </td><td> 175.5906321</td><td>-0.62320065 </td><td>5.305227e-02</td><td>nonsig      </td></tr>\n",
       "\t<tr><td>ARNTL2      </td><td>  74.6212440</td><td>-2.76567200 </td><td>1.380000e-07</td><td>sig         </td></tr>\n",
       "\t<tr><td>BCLAF1      </td><td>6448.8751000</td><td> 0.02525367 </td><td>9.572118e-01</td><td>nonsig      </td></tr>\n",
       "\t<tr><td>SLC39A9     </td><td> 488.5664401</td><td>-0.49177374 </td><td>3.281471e-02</td><td>sig         </td></tr>\n",
       "\t<tr><td>ANK1        </td><td>  20.2343537</td><td> 0.57319429 </td><td>4.280409e-01</td><td>nonsig      </td></tr>\n",
       "\t<tr><td>IBSP        </td><td>   0.5011933</td><td>-0.10374941 </td><td>          NA</td><td>NA          </td></tr>\n",
       "\t<tr><td>TFB1M       </td><td> 131.0923289</td><td> 0.31741102 </td><td>2.814311e-01</td><td>nonsig      </td></tr>\n",
       "\t<tr><td>RABEP1      </td><td>1068.0602190</td><td>-0.21975993 </td><td>3.729001e-01</td><td>nonsig      </td></tr>\n",
       "\t<tr><td>HMGB3       </td><td>  84.3692469</td><td>-4.38728848 </td><td>1.450000e-23</td><td>sig         </td></tr>\n",
       "\t<tr><td>NUP160      </td><td> 822.1479147</td><td> 0.41786705 </td><td>2.519199e-01</td><td>nonsig      </td></tr>\n",
       "\t<tr><td>BAK1        </td><td> 120.1631076</td><td>-1.71103311 </td><td>1.480000e-09</td><td>sig         </td></tr>\n",
       "\t<tr><td>MUSK        </td><td>   1.3780993</td><td> 0.48417947 </td><td>          NA</td><td>NA          </td></tr>\n",
       "\t<tr><td>IKZF2       </td><td> 289.8239287</td><td>-1.63161054 </td><td>2.998390e-04</td><td>sig         </td></tr>\n",
       "\t<tr><td>GRN         </td><td>  80.1371645</td><td>-1.09598517 </td><td>1.000973e-01</td><td>nonsig      </td></tr>\n",
       "\t<tr><td>FAM13B      </td><td> 965.9769543</td><td>-0.12459964 </td><td>7.485698e-01</td><td>nonsig      </td></tr>\n",
       "\t<tr><td>ARHGAP31    </td><td>  66.8541134</td><td>-0.70478574 </td><td>2.632495e-01</td><td>nonsig      </td></tr>\n",
       "\t<tr><td>CENPQ       </td><td>  24.1658529</td><td>-0.99668553 </td><td>9.348970e-02</td><td>nonsig      </td></tr>\n",
       "\t<tr><td>SARS        </td><td> 383.4006187</td><td>-0.01094582 </td><td>9.797778e-01</td><td>nonsig      </td></tr>\n",
       "\t<tr><td>RANBP3      </td><td> 379.8428768</td><td> 0.08522877 </td><td>7.848873e-01</td><td>nonsig      </td></tr>\n",
       "\t<tr><td>ARID4A      </td><td>1435.3239890</td><td> 0.04869732 </td><td>9.010712e-01</td><td>nonsig      </td></tr>\n",
       "\t<tr><td>EIPR1       </td><td>  87.8650442</td><td>-0.95503525 </td><td>3.582930e-04</td><td>sig         </td></tr>\n",
       "\t<tr><td>PNPLA6      </td><td> 146.4175068</td><td>-0.14635328 </td><td>7.821706e-01</td><td>nonsig      </td></tr>\n",
       "\t<tr><td>IFT88       </td><td> 111.7153911</td><td> 0.60100567 </td><td>1.361938e-01</td><td>nonsig      </td></tr>\n",
       "\t<tr><td>ALG1        </td><td>  72.3719334</td><td> 0.33922670 </td><td>3.352177e-01</td><td>nonsig      </td></tr>\n",
       "\t<tr><td>ZCCHC8      </td><td> 270.0027762</td><td>-0.22916478 </td><td>4.418914e-01</td><td>nonsig      </td></tr>\n",
       "\t<tr><td>ABCF2       </td><td> 288.4767585</td><td> 0.10264088 </td><td>8.456544e-01</td><td>nonsig      </td></tr>\n",
       "\t<tr><td>CHPF2       </td><td> 171.7401625</td><td>-0.07133449 </td><td>8.936611e-01</td><td>nonsig      </td></tr>\n",
       "</tbody>\n",
       "</table>\n"
      ],
      "text/latex": [
       "\\begin{tabular}{r|lllll}\n",
       " gene.name\\_d14 & baseMean & log2FoldChange\\_d14 & padj\\_d14 & sig\\_d14\\\\\n",
       "\\hline\n",
       "\t TSPAN6       &   25.2567446 &  1.302468822 & 8.209295e-03 & sig         \\\\\n",
       "\t TNMD         &    0.2885080 & -0.050778715 &           NA & NA          \\\\\n",
       "\t DPM1         &  163.5077733 & -0.055028326 & 9.144493e-01 & nonsig      \\\\\n",
       "\t SCYL3        &  296.4617127 &  0.273700992 & 3.312390e-01 & nonsig      \\\\\n",
       "\t C1orf112     &  199.0119864 & -1.620120054 & 1.590000e-07 & sig         \\\\\n",
       "\t FGR          &  122.7925300 & -5.609368054 & 7.150000e-17 & sig         \\\\\n",
       "\t CFH          &   27.4052165 & -0.054920405 & 9.742211e-01 & nonsig      \\\\\n",
       "\t FUCA2        &   72.0384923 & -0.764421958 & 2.135803e-02 & sig         \\\\\n",
       "\t GCLC         &  232.8235989 & -0.669026757 & 7.365785e-03 & sig         \\\\\n",
       "\t NFYA         &  557.5801607 & -0.007449532 & 9.850497e-01 & nonsig      \\\\\n",
       "\t STPG1        &  108.0712339 &  0.772006269 & 1.301502e-01 & nonsig      \\\\\n",
       "\t NIPAL3       &  810.6565538 &  0.890087366 & 2.670000e-05 & sig         \\\\\n",
       "\t LAS1L        &  541.2743227 &  0.243789623 & 4.646951e-01 & nonsig      \\\\\n",
       "\t ENPP4        &  166.5152095 & -1.079758358 & 4.158050e-04 & sig         \\\\\n",
       "\t SEMA3F       &    0.7756764 &  0.018149013 &           NA & NA          \\\\\n",
       "\t CFTR         &   21.0101464 & -0.152174024 & 8.859011e-01 & nonsig      \\\\\n",
       "\t ANKIB1       &  851.1972930 & -0.244293694 & 3.091941e-01 & nonsig      \\\\\n",
       "\t CYP51A1      &  232.2112019 & -0.375691024 & 2.950932e-01 & nonsig      \\\\\n",
       "\t KRIT1        &  646.5918389 &  0.231034820 & 4.243037e-01 & nonsig      \\\\\n",
       "\t RAD52        &  239.2300392 & -0.232950518 & 6.475512e-01 & nonsig      \\\\\n",
       "\t MYH16        &    4.3225472 &  0.928279411 & 3.681571e-01 & nonsig      \\\\\n",
       "\t BAD          &   17.4333591 & -1.057237408 & 5.114864e-02 & nonsig      \\\\\n",
       "\t LAP3         &  365.2625318 & -1.030560331 & 2.888787e-03 & sig         \\\\\n",
       "\t CD99         &  643.5209068 & -2.255638839 & 1.250000e-14 & sig         \\\\\n",
       "\t HS3ST1       &   14.7767394 &  0.270394524 & 7.364323e-01 & nonsig      \\\\\n",
       "\t AOC1         &    3.1094441 &  0.241018564 & 8.623265e-01 & nonsig      \\\\\n",
       "\t WNT16        &    4.1070926 &  1.180624115 & 1.870495e-01 & nonsig      \\\\\n",
       "\t HECW1        &   17.8167829 & -0.026159525 & 9.877749e-01 & nonsig      \\\\\n",
       "\t MAD1L1       &   99.3680284 & -0.144866391 & 8.151420e-01 & nonsig      \\\\\n",
       "\t LASP1        & 1961.0769280 & -1.336887734 & 3.760000e-08 & sig         \\\\\n",
       "\t ⋮ & ⋮ & ⋮ & ⋮ & ⋮\\\\\n",
       "\t POU2F2       &  463.1803447 &  0.53986676  & 1.006744e-01 & nonsig      \\\\\n",
       "\t BRD9         &  281.2836333 &  0.34280709  & 2.619995e-01 & nonsig      \\\\\n",
       "\t SNX1         & 1190.4092840 &  0.01255498  & 9.858765e-01 & nonsig      \\\\\n",
       "\t TBPL1        &  175.5906321 & -0.62320065  & 5.305227e-02 & nonsig      \\\\\n",
       "\t ARNTL2       &   74.6212440 & -2.76567200  & 1.380000e-07 & sig         \\\\\n",
       "\t BCLAF1       & 6448.8751000 &  0.02525367  & 9.572118e-01 & nonsig      \\\\\n",
       "\t SLC39A9      &  488.5664401 & -0.49177374  & 3.281471e-02 & sig         \\\\\n",
       "\t ANK1         &   20.2343537 &  0.57319429  & 4.280409e-01 & nonsig      \\\\\n",
       "\t IBSP         &    0.5011933 & -0.10374941  &           NA & NA          \\\\\n",
       "\t TFB1M        &  131.0923289 &  0.31741102  & 2.814311e-01 & nonsig      \\\\\n",
       "\t RABEP1       & 1068.0602190 & -0.21975993  & 3.729001e-01 & nonsig      \\\\\n",
       "\t HMGB3        &   84.3692469 & -4.38728848  & 1.450000e-23 & sig         \\\\\n",
       "\t NUP160       &  822.1479147 &  0.41786705  & 2.519199e-01 & nonsig      \\\\\n",
       "\t BAK1         &  120.1631076 & -1.71103311  & 1.480000e-09 & sig         \\\\\n",
       "\t MUSK         &    1.3780993 &  0.48417947  &           NA & NA          \\\\\n",
       "\t IKZF2        &  289.8239287 & -1.63161054  & 2.998390e-04 & sig         \\\\\n",
       "\t GRN          &   80.1371645 & -1.09598517  & 1.000973e-01 & nonsig      \\\\\n",
       "\t FAM13B       &  965.9769543 & -0.12459964  & 7.485698e-01 & nonsig      \\\\\n",
       "\t ARHGAP31     &   66.8541134 & -0.70478574  & 2.632495e-01 & nonsig      \\\\\n",
       "\t CENPQ        &   24.1658529 & -0.99668553  & 9.348970e-02 & nonsig      \\\\\n",
       "\t SARS         &  383.4006187 & -0.01094582  & 9.797778e-01 & nonsig      \\\\\n",
       "\t RANBP3       &  379.8428768 &  0.08522877  & 7.848873e-01 & nonsig      \\\\\n",
       "\t ARID4A       & 1435.3239890 &  0.04869732  & 9.010712e-01 & nonsig      \\\\\n",
       "\t EIPR1        &   87.8650442 & -0.95503525  & 3.582930e-04 & sig         \\\\\n",
       "\t PNPLA6       &  146.4175068 & -0.14635328  & 7.821706e-01 & nonsig      \\\\\n",
       "\t IFT88        &  111.7153911 &  0.60100567  & 1.361938e-01 & nonsig      \\\\\n",
       "\t ALG1         &   72.3719334 &  0.33922670  & 3.352177e-01 & nonsig      \\\\\n",
       "\t ZCCHC8       &  270.0027762 & -0.22916478  & 4.418914e-01 & nonsig      \\\\\n",
       "\t ABCF2        &  288.4767585 &  0.10264088  & 8.456544e-01 & nonsig      \\\\\n",
       "\t CHPF2        &  171.7401625 & -0.07133449  & 8.936611e-01 & nonsig      \\\\\n",
       "\\end{tabular}\n"
      ],
      "text/markdown": [
       "\n",
       "gene.name_d14 | baseMean | log2FoldChange_d14 | padj_d14 | sig_d14 | \n",
       "|---|---|---|---|---|---|---|---|---|---|---|---|---|---|---|---|---|---|---|---|---|---|---|---|---|---|---|---|---|---|---|---|---|---|---|---|---|---|---|---|---|---|---|---|---|---|---|---|---|---|---|---|---|---|---|---|---|---|---|---|---|\n",
       "| TSPAN6       |   25.2567446 |  1.302468822 | 8.209295e-03 | sig          | \n",
       "| TNMD         |    0.2885080 | -0.050778715 |           NA | NA           | \n",
       "| DPM1         |  163.5077733 | -0.055028326 | 9.144493e-01 | nonsig       | \n",
       "| SCYL3        |  296.4617127 |  0.273700992 | 3.312390e-01 | nonsig       | \n",
       "| C1orf112     |  199.0119864 | -1.620120054 | 1.590000e-07 | sig          | \n",
       "| FGR          |  122.7925300 | -5.609368054 | 7.150000e-17 | sig          | \n",
       "| CFH          |   27.4052165 | -0.054920405 | 9.742211e-01 | nonsig       | \n",
       "| FUCA2        |   72.0384923 | -0.764421958 | 2.135803e-02 | sig          | \n",
       "| GCLC         |  232.8235989 | -0.669026757 | 7.365785e-03 | sig          | \n",
       "| NFYA         |  557.5801607 | -0.007449532 | 9.850497e-01 | nonsig       | \n",
       "| STPG1        |  108.0712339 |  0.772006269 | 1.301502e-01 | nonsig       | \n",
       "| NIPAL3       |  810.6565538 |  0.890087366 | 2.670000e-05 | sig          | \n",
       "| LAS1L        |  541.2743227 |  0.243789623 | 4.646951e-01 | nonsig       | \n",
       "| ENPP4        |  166.5152095 | -1.079758358 | 4.158050e-04 | sig          | \n",
       "| SEMA3F       |    0.7756764 |  0.018149013 |           NA | NA           | \n",
       "| CFTR         |   21.0101464 | -0.152174024 | 8.859011e-01 | nonsig       | \n",
       "| ANKIB1       |  851.1972930 | -0.244293694 | 3.091941e-01 | nonsig       | \n",
       "| CYP51A1      |  232.2112019 | -0.375691024 | 2.950932e-01 | nonsig       | \n",
       "| KRIT1        |  646.5918389 |  0.231034820 | 4.243037e-01 | nonsig       | \n",
       "| RAD52        |  239.2300392 | -0.232950518 | 6.475512e-01 | nonsig       | \n",
       "| MYH16        |    4.3225472 |  0.928279411 | 3.681571e-01 | nonsig       | \n",
       "| BAD          |   17.4333591 | -1.057237408 | 5.114864e-02 | nonsig       | \n",
       "| LAP3         |  365.2625318 | -1.030560331 | 2.888787e-03 | sig          | \n",
       "| CD99         |  643.5209068 | -2.255638839 | 1.250000e-14 | sig          | \n",
       "| HS3ST1       |   14.7767394 |  0.270394524 | 7.364323e-01 | nonsig       | \n",
       "| AOC1         |    3.1094441 |  0.241018564 | 8.623265e-01 | nonsig       | \n",
       "| WNT16        |    4.1070926 |  1.180624115 | 1.870495e-01 | nonsig       | \n",
       "| HECW1        |   17.8167829 | -0.026159525 | 9.877749e-01 | nonsig       | \n",
       "| MAD1L1       |   99.3680284 | -0.144866391 | 8.151420e-01 | nonsig       | \n",
       "| LASP1        | 1961.0769280 | -1.336887734 | 3.760000e-08 | sig          | \n",
       "| ⋮ | ⋮ | ⋮ | ⋮ | ⋮ | \n",
       "| POU2F2       |  463.1803447 |  0.53986676  | 1.006744e-01 | nonsig       | \n",
       "| BRD9         |  281.2836333 |  0.34280709  | 2.619995e-01 | nonsig       | \n",
       "| SNX1         | 1190.4092840 |  0.01255498  | 9.858765e-01 | nonsig       | \n",
       "| TBPL1        |  175.5906321 | -0.62320065  | 5.305227e-02 | nonsig       | \n",
       "| ARNTL2       |   74.6212440 | -2.76567200  | 1.380000e-07 | sig          | \n",
       "| BCLAF1       | 6448.8751000 |  0.02525367  | 9.572118e-01 | nonsig       | \n",
       "| SLC39A9      |  488.5664401 | -0.49177374  | 3.281471e-02 | sig          | \n",
       "| ANK1         |   20.2343537 |  0.57319429  | 4.280409e-01 | nonsig       | \n",
       "| IBSP         |    0.5011933 | -0.10374941  |           NA | NA           | \n",
       "| TFB1M        |  131.0923289 |  0.31741102  | 2.814311e-01 | nonsig       | \n",
       "| RABEP1       | 1068.0602190 | -0.21975993  | 3.729001e-01 | nonsig       | \n",
       "| HMGB3        |   84.3692469 | -4.38728848  | 1.450000e-23 | sig          | \n",
       "| NUP160       |  822.1479147 |  0.41786705  | 2.519199e-01 | nonsig       | \n",
       "| BAK1         |  120.1631076 | -1.71103311  | 1.480000e-09 | sig          | \n",
       "| MUSK         |    1.3780993 |  0.48417947  |           NA | NA           | \n",
       "| IKZF2        |  289.8239287 | -1.63161054  | 2.998390e-04 | sig          | \n",
       "| GRN          |   80.1371645 | -1.09598517  | 1.000973e-01 | nonsig       | \n",
       "| FAM13B       |  965.9769543 | -0.12459964  | 7.485698e-01 | nonsig       | \n",
       "| ARHGAP31     |   66.8541134 | -0.70478574  | 2.632495e-01 | nonsig       | \n",
       "| CENPQ        |   24.1658529 | -0.99668553  | 9.348970e-02 | nonsig       | \n",
       "| SARS         |  383.4006187 | -0.01094582  | 9.797778e-01 | nonsig       | \n",
       "| RANBP3       |  379.8428768 |  0.08522877  | 7.848873e-01 | nonsig       | \n",
       "| ARID4A       | 1435.3239890 |  0.04869732  | 9.010712e-01 | nonsig       | \n",
       "| EIPR1        |   87.8650442 | -0.95503525  | 3.582930e-04 | sig          | \n",
       "| PNPLA6       |  146.4175068 | -0.14635328  | 7.821706e-01 | nonsig       | \n",
       "| IFT88        |  111.7153911 |  0.60100567  | 1.361938e-01 | nonsig       | \n",
       "| ALG1         |   72.3719334 |  0.33922670  | 3.352177e-01 | nonsig       | \n",
       "| ZCCHC8       |  270.0027762 | -0.22916478  | 4.418914e-01 | nonsig       | \n",
       "| ABCF2        |  288.4767585 |  0.10264088  | 8.456544e-01 | nonsig       | \n",
       "| CHPF2        |  171.7401625 | -0.07133449  | 8.936611e-01 | nonsig       | \n",
       "\n",
       "\n"
      ],
      "text/plain": [
       "    gene.name_d14 baseMean     log2FoldChange_d14 padj_d14     sig_d14\n",
       "1   TSPAN6          25.2567446  1.302468822       8.209295e-03 sig    \n",
       "2   TNMD             0.2885080 -0.050778715                 NA NA     \n",
       "3   DPM1           163.5077733 -0.055028326       9.144493e-01 nonsig \n",
       "4   SCYL3          296.4617127  0.273700992       3.312390e-01 nonsig \n",
       "5   C1orf112       199.0119864 -1.620120054       1.590000e-07 sig    \n",
       "6   FGR            122.7925300 -5.609368054       7.150000e-17 sig    \n",
       "7   CFH             27.4052165 -0.054920405       9.742211e-01 nonsig \n",
       "8   FUCA2           72.0384923 -0.764421958       2.135803e-02 sig    \n",
       "9   GCLC           232.8235989 -0.669026757       7.365785e-03 sig    \n",
       "10  NFYA           557.5801607 -0.007449532       9.850497e-01 nonsig \n",
       "11  STPG1          108.0712339  0.772006269       1.301502e-01 nonsig \n",
       "12  NIPAL3         810.6565538  0.890087366       2.670000e-05 sig    \n",
       "13  LAS1L          541.2743227  0.243789623       4.646951e-01 nonsig \n",
       "14  ENPP4          166.5152095 -1.079758358       4.158050e-04 sig    \n",
       "15  SEMA3F           0.7756764  0.018149013                 NA NA     \n",
       "16  CFTR            21.0101464 -0.152174024       8.859011e-01 nonsig \n",
       "17  ANKIB1         851.1972930 -0.244293694       3.091941e-01 nonsig \n",
       "18  CYP51A1        232.2112019 -0.375691024       2.950932e-01 nonsig \n",
       "19  KRIT1          646.5918389  0.231034820       4.243037e-01 nonsig \n",
       "20  RAD52          239.2300392 -0.232950518       6.475512e-01 nonsig \n",
       "21  MYH16            4.3225472  0.928279411       3.681571e-01 nonsig \n",
       "22  BAD             17.4333591 -1.057237408       5.114864e-02 nonsig \n",
       "23  LAP3           365.2625318 -1.030560331       2.888787e-03 sig    \n",
       "24  CD99           643.5209068 -2.255638839       1.250000e-14 sig    \n",
       "25  HS3ST1          14.7767394  0.270394524       7.364323e-01 nonsig \n",
       "26  AOC1             3.1094441  0.241018564       8.623265e-01 nonsig \n",
       "27  WNT16            4.1070926  1.180624115       1.870495e-01 nonsig \n",
       "28  HECW1           17.8167829 -0.026159525       9.877749e-01 nonsig \n",
       "29  MAD1L1          99.3680284 -0.144866391       8.151420e-01 nonsig \n",
       "30  LASP1         1961.0769280 -1.336887734       3.760000e-08 sig    \n",
       "⋮   ⋮             ⋮            ⋮                  ⋮            ⋮      \n",
       "471 POU2F2         463.1803447  0.53986676        1.006744e-01 nonsig \n",
       "472 BRD9           281.2836333  0.34280709        2.619995e-01 nonsig \n",
       "473 SNX1          1190.4092840  0.01255498        9.858765e-01 nonsig \n",
       "474 TBPL1          175.5906321 -0.62320065        5.305227e-02 nonsig \n",
       "475 ARNTL2          74.6212440 -2.76567200        1.380000e-07 sig    \n",
       "476 BCLAF1        6448.8751000  0.02525367        9.572118e-01 nonsig \n",
       "477 SLC39A9        488.5664401 -0.49177374        3.281471e-02 sig    \n",
       "478 ANK1            20.2343537  0.57319429        4.280409e-01 nonsig \n",
       "479 IBSP             0.5011933 -0.10374941                  NA NA     \n",
       "480 TFB1M          131.0923289  0.31741102        2.814311e-01 nonsig \n",
       "481 RABEP1        1068.0602190 -0.21975993        3.729001e-01 nonsig \n",
       "482 HMGB3           84.3692469 -4.38728848        1.450000e-23 sig    \n",
       "483 NUP160         822.1479147  0.41786705        2.519199e-01 nonsig \n",
       "484 BAK1           120.1631076 -1.71103311        1.480000e-09 sig    \n",
       "485 MUSK             1.3780993  0.48417947                  NA NA     \n",
       "486 IKZF2          289.8239287 -1.63161054        2.998390e-04 sig    \n",
       "487 GRN             80.1371645 -1.09598517        1.000973e-01 nonsig \n",
       "488 FAM13B         965.9769543 -0.12459964        7.485698e-01 nonsig \n",
       "489 ARHGAP31        66.8541134 -0.70478574        2.632495e-01 nonsig \n",
       "490 CENPQ           24.1658529 -0.99668553        9.348970e-02 nonsig \n",
       "491 SARS           383.4006187 -0.01094582        9.797778e-01 nonsig \n",
       "492 RANBP3         379.8428768  0.08522877        7.848873e-01 nonsig \n",
       "493 ARID4A        1435.3239890  0.04869732        9.010712e-01 nonsig \n",
       "494 EIPR1           87.8650442 -0.95503525        3.582930e-04 sig    \n",
       "495 PNPLA6         146.4175068 -0.14635328        7.821706e-01 nonsig \n",
       "496 IFT88          111.7153911  0.60100567        1.361938e-01 nonsig \n",
       "497 ALG1            72.3719334  0.33922670        3.352177e-01 nonsig \n",
       "498 ZCCHC8         270.0027762 -0.22916478        4.418914e-01 nonsig \n",
       "499 ABCF2          288.4767585  0.10264088        8.456544e-01 nonsig \n",
       "500 CHPF2          171.7401625 -0.07133449        8.936611e-01 nonsig "
      ]
     },
     "metadata": {},
     "output_type": "display_data"
    },
    {
     "data": {
      "text/html": [
       "<table>\n",
       "<thead><tr><th scope=col>gene.name_mem</th><th scope=col>baseMean</th><th scope=col>log2FoldChange_mem</th><th scope=col>padj_mem</th><th scope=col>sig_mem</th></tr></thead>\n",
       "<tbody>\n",
       "\t<tr><td>TSPAN6      </td><td>  25.2567446</td><td> 0.79648366 </td><td>1.592970e-01</td><td>nonsig      </td></tr>\n",
       "\t<tr><td>TNMD        </td><td>   0.2885080</td><td> 0.11136908 </td><td>          NA</td><td>NA          </td></tr>\n",
       "\t<tr><td>DPM1        </td><td> 163.5077733</td><td>-0.35399129 </td><td>3.222973e-01</td><td>nonsig      </td></tr>\n",
       "\t<tr><td>SCYL3       </td><td> 296.4617127</td><td> 0.07204111 </td><td>8.587087e-01</td><td>nonsig      </td></tr>\n",
       "\t<tr><td>C1orf112    </td><td> 199.0119864</td><td> 0.20171786 </td><td>6.914181e-01</td><td>nonsig      </td></tr>\n",
       "\t<tr><td>FGR         </td><td> 122.7925300</td><td>-3.99706084 </td><td>1.250000e-09</td><td>sig         </td></tr>\n",
       "\t<tr><td>CFH         </td><td>  27.4052165</td><td>-1.84120916 </td><td>6.322038e-02</td><td>nonsig      </td></tr>\n",
       "\t<tr><td>FUCA2       </td><td>  72.0384923</td><td> 0.10954800 </td><td>8.529961e-01</td><td>nonsig      </td></tr>\n",
       "\t<tr><td>GCLC        </td><td> 232.8235989</td><td>-0.41392536 </td><td>1.287769e-01</td><td>nonsig      </td></tr>\n",
       "\t<tr><td>NFYA        </td><td> 557.5801607</td><td>-0.30851566 </td><td>1.647130e-01</td><td>nonsig      </td></tr>\n",
       "\t<tr><td>STPG1       </td><td> 108.0712339</td><td> 0.91751126 </td><td>5.609208e-02</td><td>nonsig      </td></tr>\n",
       "\t<tr><td>NIPAL3      </td><td> 810.6565538</td><td> 0.83670242 </td><td>1.090000e-05</td><td>sig         </td></tr>\n",
       "\t<tr><td>LAS1L       </td><td> 541.2743227</td><td> 0.16497279 </td><td>6.578371e-01</td><td>nonsig      </td></tr>\n",
       "\t<tr><td>ENPP4       </td><td> 166.5152095</td><td>-0.80371730 </td><td>7.661222e-03</td><td>sig         </td></tr>\n",
       "\t<tr><td>SEMA3F      </td><td>   0.7756764</td><td> 0.66772511 </td><td>          NA</td><td>NA          </td></tr>\n",
       "\t<tr><td>CFTR        </td><td>  21.0101464</td><td>-0.65582070 </td><td>4.170020e-01</td><td>nonsig      </td></tr>\n",
       "\t<tr><td>ANKIB1      </td><td> 851.1972930</td><td>-0.03061215 </td><td>9.372355e-01</td><td>nonsig      </td></tr>\n",
       "\t<tr><td>CYP51A1     </td><td> 232.2112019</td><td>-0.81798019 </td><td>3.051591e-03</td><td>sig         </td></tr>\n",
       "\t<tr><td>KRIT1       </td><td> 646.5918389</td><td> 0.10256815 </td><td>7.735338e-01</td><td>nonsig      </td></tr>\n",
       "\t<tr><td>RAD52       </td><td> 239.2300392</td><td>-0.04952455 </td><td>9.449632e-01</td><td>nonsig      </td></tr>\n",
       "\t<tr><td>MYH16       </td><td>   4.3225472</td><td> 1.55734384 </td><td>1.222245e-01</td><td>nonsig      </td></tr>\n",
       "\t<tr><td>BAD         </td><td>  17.4333591</td><td>-0.12542602 </td><td>9.043709e-01</td><td>nonsig      </td></tr>\n",
       "\t<tr><td>LAP3        </td><td> 365.2625318</td><td>-1.30340649 </td><td>1.590000e-05</td><td>sig         </td></tr>\n",
       "\t<tr><td>CD99        </td><td> 643.5209068</td><td>-1.71778117 </td><td>7.700000e-11</td><td>sig         </td></tr>\n",
       "\t<tr><td>HS3ST1      </td><td>  14.7767394</td><td> 0.31471265 </td><td>7.116803e-01</td><td>nonsig      </td></tr>\n",
       "\t<tr><td>AOC1        </td><td>   3.1094441</td><td>-0.19599581 </td><td>9.077030e-01</td><td>nonsig      </td></tr>\n",
       "\t<tr><td>WNT16       </td><td>   4.1070926</td><td> 1.91194168 </td><td>2.616917e-02</td><td>sig         </td></tr>\n",
       "\t<tr><td>HECW1       </td><td>  17.8167829</td><td>-0.06634516 </td><td>9.727670e-01</td><td>nonsig      </td></tr>\n",
       "\t<tr><td>MAD1L1      </td><td>  99.3680284</td><td> 0.25255324 </td><td>6.590225e-01</td><td>nonsig      </td></tr>\n",
       "\t<tr><td>LASP1       </td><td>1961.0769280</td><td>-0.16891823 </td><td>6.589888e-01</td><td>nonsig      </td></tr>\n",
       "\t<tr><td>⋮</td><td>⋮</td><td>⋮</td><td>⋮</td><td>⋮</td></tr>\n",
       "\t<tr><td>POU2F2      </td><td> 463.1803447</td><td>-0.04961649 </td><td>0.931644845 </td><td>nonsig      </td></tr>\n",
       "\t<tr><td>BRD9        </td><td> 281.2836333</td><td>-0.57404502 </td><td>0.022749148 </td><td>sig         </td></tr>\n",
       "\t<tr><td>SNX1        </td><td>1190.4092840</td><td> 0.49526967 </td><td>0.247536808 </td><td>nonsig      </td></tr>\n",
       "\t<tr><td>TBPL1       </td><td> 175.5906321</td><td>-0.45304666 </td><td>0.190816444 </td><td>nonsig      </td></tr>\n",
       "\t<tr><td>ARNTL2      </td><td>  74.6212440</td><td> 0.29684534 </td><td>0.748611178 </td><td>nonsig      </td></tr>\n",
       "\t<tr><td>BCLAF1      </td><td>6448.8751000</td><td>-0.50616012 </td><td>0.043855466 </td><td>sig         </td></tr>\n",
       "\t<tr><td>SLC39A9     </td><td> 488.5664401</td><td>-0.18028350 </td><td>0.553068948 </td><td>nonsig      </td></tr>\n",
       "\t<tr><td>ANK1        </td><td>  20.2343537</td><td> 0.99917935 </td><td>0.117980768 </td><td>nonsig      </td></tr>\n",
       "\t<tr><td>IBSP        </td><td>   0.5011933</td><td>-0.22755156 </td><td>         NA </td><td>NA          </td></tr>\n",
       "\t<tr><td>TFB1M       </td><td> 131.0923289</td><td> 0.59927138 </td><td>0.014859821 </td><td>sig         </td></tr>\n",
       "\t<tr><td>RABEP1      </td><td>1068.0602190</td><td> 0.15964952 </td><td>0.553130169 </td><td>nonsig      </td></tr>\n",
       "\t<tr><td>HMGB3       </td><td>  84.3692469</td><td>-1.45955641 </td><td>0.002513022 </td><td>sig         </td></tr>\n",
       "\t<tr><td>NUP160      </td><td> 822.1479147</td><td> 0.50617619 </td><td>0.133498993 </td><td>nonsig      </td></tr>\n",
       "\t<tr><td>BAK1        </td><td> 120.1631076</td><td>-0.49311687 </td><td>0.162497533 </td><td>nonsig      </td></tr>\n",
       "\t<tr><td>MUSK        </td><td>   1.3780993</td><td> 0.71784871 </td><td>         NA </td><td>NA          </td></tr>\n",
       "\t<tr><td>IKZF2       </td><td> 289.8239287</td><td> 1.83631261 </td><td>0.000008850 </td><td>sig         </td></tr>\n",
       "\t<tr><td>GRN         </td><td>  80.1371645</td><td>-1.09995420 </td><td>0.103228035 </td><td>nonsig      </td></tr>\n",
       "\t<tr><td>FAM13B      </td><td> 965.9769543</td><td>-0.20947877 </td><td>0.546345370 </td><td>nonsig      </td></tr>\n",
       "\t<tr><td>ARHGAP31    </td><td>  66.8541134</td><td>-0.67896250 </td><td>0.290780453 </td><td>nonsig      </td></tr>\n",
       "\t<tr><td>CENPQ       </td><td>  24.1658529</td><td> 0.72993965 </td><td>0.307438234 </td><td>nonsig      </td></tr>\n",
       "\t<tr><td>SARS        </td><td> 383.4006187</td><td> 0.28139957 </td><td>0.280485495 </td><td>nonsig      </td></tr>\n",
       "\t<tr><td>RANBP3      </td><td> 379.8428768</td><td> 0.20579506 </td><td>0.424287293 </td><td>nonsig      </td></tr>\n",
       "\t<tr><td>ARID4A      </td><td>1435.3239890</td><td>-0.12064051 </td><td>0.722405642 </td><td>nonsig      </td></tr>\n",
       "\t<tr><td>EIPR1       </td><td>  87.8650442</td><td>-0.24976375 </td><td>0.518934959 </td><td>nonsig      </td></tr>\n",
       "\t<tr><td>PNPLA6      </td><td> 146.4175068</td><td>-0.20697579 </td><td>0.685467475 </td><td>nonsig      </td></tr>\n",
       "\t<tr><td>IFT88       </td><td> 111.7153911</td><td> 0.39353897 </td><td>0.391459416 </td><td>nonsig      </td></tr>\n",
       "\t<tr><td>ALG1        </td><td>  72.3719334</td><td> 0.47437050 </td><td>0.150090906 </td><td>nonsig      </td></tr>\n",
       "\t<tr><td>ZCCHC8      </td><td> 270.0027762</td><td>-0.09439890 </td><td>0.804811613 </td><td>nonsig      </td></tr>\n",
       "\t<tr><td>ABCF2       </td><td> 288.4767585</td><td> 0.20858449 </td><td>0.654878806 </td><td>nonsig      </td></tr>\n",
       "\t<tr><td>CHPF2       </td><td> 171.7401625</td><td>-0.29497122 </td><td>0.461054038 </td><td>nonsig      </td></tr>\n",
       "</tbody>\n",
       "</table>\n"
      ],
      "text/latex": [
       "\\begin{tabular}{r|lllll}\n",
       " gene.name\\_mem & baseMean & log2FoldChange\\_mem & padj\\_mem & sig\\_mem\\\\\n",
       "\\hline\n",
       "\t TSPAN6       &   25.2567446 &  0.79648366  & 1.592970e-01 & nonsig      \\\\\n",
       "\t TNMD         &    0.2885080 &  0.11136908  &           NA & NA          \\\\\n",
       "\t DPM1         &  163.5077733 & -0.35399129  & 3.222973e-01 & nonsig      \\\\\n",
       "\t SCYL3        &  296.4617127 &  0.07204111  & 8.587087e-01 & nonsig      \\\\\n",
       "\t C1orf112     &  199.0119864 &  0.20171786  & 6.914181e-01 & nonsig      \\\\\n",
       "\t FGR          &  122.7925300 & -3.99706084  & 1.250000e-09 & sig         \\\\\n",
       "\t CFH          &   27.4052165 & -1.84120916  & 6.322038e-02 & nonsig      \\\\\n",
       "\t FUCA2        &   72.0384923 &  0.10954800  & 8.529961e-01 & nonsig      \\\\\n",
       "\t GCLC         &  232.8235989 & -0.41392536  & 1.287769e-01 & nonsig      \\\\\n",
       "\t NFYA         &  557.5801607 & -0.30851566  & 1.647130e-01 & nonsig      \\\\\n",
       "\t STPG1        &  108.0712339 &  0.91751126  & 5.609208e-02 & nonsig      \\\\\n",
       "\t NIPAL3       &  810.6565538 &  0.83670242  & 1.090000e-05 & sig         \\\\\n",
       "\t LAS1L        &  541.2743227 &  0.16497279  & 6.578371e-01 & nonsig      \\\\\n",
       "\t ENPP4        &  166.5152095 & -0.80371730  & 7.661222e-03 & sig         \\\\\n",
       "\t SEMA3F       &    0.7756764 &  0.66772511  &           NA & NA          \\\\\n",
       "\t CFTR         &   21.0101464 & -0.65582070  & 4.170020e-01 & nonsig      \\\\\n",
       "\t ANKIB1       &  851.1972930 & -0.03061215  & 9.372355e-01 & nonsig      \\\\\n",
       "\t CYP51A1      &  232.2112019 & -0.81798019  & 3.051591e-03 & sig         \\\\\n",
       "\t KRIT1        &  646.5918389 &  0.10256815  & 7.735338e-01 & nonsig      \\\\\n",
       "\t RAD52        &  239.2300392 & -0.04952455  & 9.449632e-01 & nonsig      \\\\\n",
       "\t MYH16        &    4.3225472 &  1.55734384  & 1.222245e-01 & nonsig      \\\\\n",
       "\t BAD          &   17.4333591 & -0.12542602  & 9.043709e-01 & nonsig      \\\\\n",
       "\t LAP3         &  365.2625318 & -1.30340649  & 1.590000e-05 & sig         \\\\\n",
       "\t CD99         &  643.5209068 & -1.71778117  & 7.700000e-11 & sig         \\\\\n",
       "\t HS3ST1       &   14.7767394 &  0.31471265  & 7.116803e-01 & nonsig      \\\\\n",
       "\t AOC1         &    3.1094441 & -0.19599581  & 9.077030e-01 & nonsig      \\\\\n",
       "\t WNT16        &    4.1070926 &  1.91194168  & 2.616917e-02 & sig         \\\\\n",
       "\t HECW1        &   17.8167829 & -0.06634516  & 9.727670e-01 & nonsig      \\\\\n",
       "\t MAD1L1       &   99.3680284 &  0.25255324  & 6.590225e-01 & nonsig      \\\\\n",
       "\t LASP1        & 1961.0769280 & -0.16891823  & 6.589888e-01 & nonsig      \\\\\n",
       "\t ⋮ & ⋮ & ⋮ & ⋮ & ⋮\\\\\n",
       "\t POU2F2       &  463.1803447 & -0.04961649  & 0.931644845  & nonsig      \\\\\n",
       "\t BRD9         &  281.2836333 & -0.57404502  & 0.022749148  & sig         \\\\\n",
       "\t SNX1         & 1190.4092840 &  0.49526967  & 0.247536808  & nonsig      \\\\\n",
       "\t TBPL1        &  175.5906321 & -0.45304666  & 0.190816444  & nonsig      \\\\\n",
       "\t ARNTL2       &   74.6212440 &  0.29684534  & 0.748611178  & nonsig      \\\\\n",
       "\t BCLAF1       & 6448.8751000 & -0.50616012  & 0.043855466  & sig         \\\\\n",
       "\t SLC39A9      &  488.5664401 & -0.18028350  & 0.553068948  & nonsig      \\\\\n",
       "\t ANK1         &   20.2343537 &  0.99917935  & 0.117980768  & nonsig      \\\\\n",
       "\t IBSP         &    0.5011933 & -0.22755156  &          NA  & NA          \\\\\n",
       "\t TFB1M        &  131.0923289 &  0.59927138  & 0.014859821  & sig         \\\\\n",
       "\t RABEP1       & 1068.0602190 &  0.15964952  & 0.553130169  & nonsig      \\\\\n",
       "\t HMGB3        &   84.3692469 & -1.45955641  & 0.002513022  & sig         \\\\\n",
       "\t NUP160       &  822.1479147 &  0.50617619  & 0.133498993  & nonsig      \\\\\n",
       "\t BAK1         &  120.1631076 & -0.49311687  & 0.162497533  & nonsig      \\\\\n",
       "\t MUSK         &    1.3780993 &  0.71784871  &          NA  & NA          \\\\\n",
       "\t IKZF2        &  289.8239287 &  1.83631261  & 0.000008850  & sig         \\\\\n",
       "\t GRN          &   80.1371645 & -1.09995420  & 0.103228035  & nonsig      \\\\\n",
       "\t FAM13B       &  965.9769543 & -0.20947877  & 0.546345370  & nonsig      \\\\\n",
       "\t ARHGAP31     &   66.8541134 & -0.67896250  & 0.290780453  & nonsig      \\\\\n",
       "\t CENPQ        &   24.1658529 &  0.72993965  & 0.307438234  & nonsig      \\\\\n",
       "\t SARS         &  383.4006187 &  0.28139957  & 0.280485495  & nonsig      \\\\\n",
       "\t RANBP3       &  379.8428768 &  0.20579506  & 0.424287293  & nonsig      \\\\\n",
       "\t ARID4A       & 1435.3239890 & -0.12064051  & 0.722405642  & nonsig      \\\\\n",
       "\t EIPR1        &   87.8650442 & -0.24976375  & 0.518934959  & nonsig      \\\\\n",
       "\t PNPLA6       &  146.4175068 & -0.20697579  & 0.685467475  & nonsig      \\\\\n",
       "\t IFT88        &  111.7153911 &  0.39353897  & 0.391459416  & nonsig      \\\\\n",
       "\t ALG1         &   72.3719334 &  0.47437050  & 0.150090906  & nonsig      \\\\\n",
       "\t ZCCHC8       &  270.0027762 & -0.09439890  & 0.804811613  & nonsig      \\\\\n",
       "\t ABCF2        &  288.4767585 &  0.20858449  & 0.654878806  & nonsig      \\\\\n",
       "\t CHPF2        &  171.7401625 & -0.29497122  & 0.461054038  & nonsig      \\\\\n",
       "\\end{tabular}\n"
      ],
      "text/markdown": [
       "\n",
       "gene.name_mem | baseMean | log2FoldChange_mem | padj_mem | sig_mem | \n",
       "|---|---|---|---|---|---|---|---|---|---|---|---|---|---|---|---|---|---|---|---|---|---|---|---|---|---|---|---|---|---|---|---|---|---|---|---|---|---|---|---|---|---|---|---|---|---|---|---|---|---|---|---|---|---|---|---|---|---|---|---|---|\n",
       "| TSPAN6       |   25.2567446 |  0.79648366  | 1.592970e-01 | nonsig       | \n",
       "| TNMD         |    0.2885080 |  0.11136908  |           NA | NA           | \n",
       "| DPM1         |  163.5077733 | -0.35399129  | 3.222973e-01 | nonsig       | \n",
       "| SCYL3        |  296.4617127 |  0.07204111  | 8.587087e-01 | nonsig       | \n",
       "| C1orf112     |  199.0119864 |  0.20171786  | 6.914181e-01 | nonsig       | \n",
       "| FGR          |  122.7925300 | -3.99706084  | 1.250000e-09 | sig          | \n",
       "| CFH          |   27.4052165 | -1.84120916  | 6.322038e-02 | nonsig       | \n",
       "| FUCA2        |   72.0384923 |  0.10954800  | 8.529961e-01 | nonsig       | \n",
       "| GCLC         |  232.8235989 | -0.41392536  | 1.287769e-01 | nonsig       | \n",
       "| NFYA         |  557.5801607 | -0.30851566  | 1.647130e-01 | nonsig       | \n",
       "| STPG1        |  108.0712339 |  0.91751126  | 5.609208e-02 | nonsig       | \n",
       "| NIPAL3       |  810.6565538 |  0.83670242  | 1.090000e-05 | sig          | \n",
       "| LAS1L        |  541.2743227 |  0.16497279  | 6.578371e-01 | nonsig       | \n",
       "| ENPP4        |  166.5152095 | -0.80371730  | 7.661222e-03 | sig          | \n",
       "| SEMA3F       |    0.7756764 |  0.66772511  |           NA | NA           | \n",
       "| CFTR         |   21.0101464 | -0.65582070  | 4.170020e-01 | nonsig       | \n",
       "| ANKIB1       |  851.1972930 | -0.03061215  | 9.372355e-01 | nonsig       | \n",
       "| CYP51A1      |  232.2112019 | -0.81798019  | 3.051591e-03 | sig          | \n",
       "| KRIT1        |  646.5918389 |  0.10256815  | 7.735338e-01 | nonsig       | \n",
       "| RAD52        |  239.2300392 | -0.04952455  | 9.449632e-01 | nonsig       | \n",
       "| MYH16        |    4.3225472 |  1.55734384  | 1.222245e-01 | nonsig       | \n",
       "| BAD          |   17.4333591 | -0.12542602  | 9.043709e-01 | nonsig       | \n",
       "| LAP3         |  365.2625318 | -1.30340649  | 1.590000e-05 | sig          | \n",
       "| CD99         |  643.5209068 | -1.71778117  | 7.700000e-11 | sig          | \n",
       "| HS3ST1       |   14.7767394 |  0.31471265  | 7.116803e-01 | nonsig       | \n",
       "| AOC1         |    3.1094441 | -0.19599581  | 9.077030e-01 | nonsig       | \n",
       "| WNT16        |    4.1070926 |  1.91194168  | 2.616917e-02 | sig          | \n",
       "| HECW1        |   17.8167829 | -0.06634516  | 9.727670e-01 | nonsig       | \n",
       "| MAD1L1       |   99.3680284 |  0.25255324  | 6.590225e-01 | nonsig       | \n",
       "| LASP1        | 1961.0769280 | -0.16891823  | 6.589888e-01 | nonsig       | \n",
       "| ⋮ | ⋮ | ⋮ | ⋮ | ⋮ | \n",
       "| POU2F2       |  463.1803447 | -0.04961649  | 0.931644845  | nonsig       | \n",
       "| BRD9         |  281.2836333 | -0.57404502  | 0.022749148  | sig          | \n",
       "| SNX1         | 1190.4092840 |  0.49526967  | 0.247536808  | nonsig       | \n",
       "| TBPL1        |  175.5906321 | -0.45304666  | 0.190816444  | nonsig       | \n",
       "| ARNTL2       |   74.6212440 |  0.29684534  | 0.748611178  | nonsig       | \n",
       "| BCLAF1       | 6448.8751000 | -0.50616012  | 0.043855466  | sig          | \n",
       "| SLC39A9      |  488.5664401 | -0.18028350  | 0.553068948  | nonsig       | \n",
       "| ANK1         |   20.2343537 |  0.99917935  | 0.117980768  | nonsig       | \n",
       "| IBSP         |    0.5011933 | -0.22755156  |          NA  | NA           | \n",
       "| TFB1M        |  131.0923289 |  0.59927138  | 0.014859821  | sig          | \n",
       "| RABEP1       | 1068.0602190 |  0.15964952  | 0.553130169  | nonsig       | \n",
       "| HMGB3        |   84.3692469 | -1.45955641  | 0.002513022  | sig          | \n",
       "| NUP160       |  822.1479147 |  0.50617619  | 0.133498993  | nonsig       | \n",
       "| BAK1         |  120.1631076 | -0.49311687  | 0.162497533  | nonsig       | \n",
       "| MUSK         |    1.3780993 |  0.71784871  |          NA  | NA           | \n",
       "| IKZF2        |  289.8239287 |  1.83631261  | 0.000008850  | sig          | \n",
       "| GRN          |   80.1371645 | -1.09995420  | 0.103228035  | nonsig       | \n",
       "| FAM13B       |  965.9769543 | -0.20947877  | 0.546345370  | nonsig       | \n",
       "| ARHGAP31     |   66.8541134 | -0.67896250  | 0.290780453  | nonsig       | \n",
       "| CENPQ        |   24.1658529 |  0.72993965  | 0.307438234  | nonsig       | \n",
       "| SARS         |  383.4006187 |  0.28139957  | 0.280485495  | nonsig       | \n",
       "| RANBP3       |  379.8428768 |  0.20579506  | 0.424287293  | nonsig       | \n",
       "| ARID4A       | 1435.3239890 | -0.12064051  | 0.722405642  | nonsig       | \n",
       "| EIPR1        |   87.8650442 | -0.24976375  | 0.518934959  | nonsig       | \n",
       "| PNPLA6       |  146.4175068 | -0.20697579  | 0.685467475  | nonsig       | \n",
       "| IFT88        |  111.7153911 |  0.39353897  | 0.391459416  | nonsig       | \n",
       "| ALG1         |   72.3719334 |  0.47437050  | 0.150090906  | nonsig       | \n",
       "| ZCCHC8       |  270.0027762 | -0.09439890  | 0.804811613  | nonsig       | \n",
       "| ABCF2        |  288.4767585 |  0.20858449  | 0.654878806  | nonsig       | \n",
       "| CHPF2        |  171.7401625 | -0.29497122  | 0.461054038  | nonsig       | \n",
       "\n",
       "\n"
      ],
      "text/plain": [
       "    gene.name_mem baseMean     log2FoldChange_mem padj_mem     sig_mem\n",
       "1   TSPAN6          25.2567446  0.79648366        1.592970e-01 nonsig \n",
       "2   TNMD             0.2885080  0.11136908                  NA NA     \n",
       "3   DPM1           163.5077733 -0.35399129        3.222973e-01 nonsig \n",
       "4   SCYL3          296.4617127  0.07204111        8.587087e-01 nonsig \n",
       "5   C1orf112       199.0119864  0.20171786        6.914181e-01 nonsig \n",
       "6   FGR            122.7925300 -3.99706084        1.250000e-09 sig    \n",
       "7   CFH             27.4052165 -1.84120916        6.322038e-02 nonsig \n",
       "8   FUCA2           72.0384923  0.10954800        8.529961e-01 nonsig \n",
       "9   GCLC           232.8235989 -0.41392536        1.287769e-01 nonsig \n",
       "10  NFYA           557.5801607 -0.30851566        1.647130e-01 nonsig \n",
       "11  STPG1          108.0712339  0.91751126        5.609208e-02 nonsig \n",
       "12  NIPAL3         810.6565538  0.83670242        1.090000e-05 sig    \n",
       "13  LAS1L          541.2743227  0.16497279        6.578371e-01 nonsig \n",
       "14  ENPP4          166.5152095 -0.80371730        7.661222e-03 sig    \n",
       "15  SEMA3F           0.7756764  0.66772511                  NA NA     \n",
       "16  CFTR            21.0101464 -0.65582070        4.170020e-01 nonsig \n",
       "17  ANKIB1         851.1972930 -0.03061215        9.372355e-01 nonsig \n",
       "18  CYP51A1        232.2112019 -0.81798019        3.051591e-03 sig    \n",
       "19  KRIT1          646.5918389  0.10256815        7.735338e-01 nonsig \n",
       "20  RAD52          239.2300392 -0.04952455        9.449632e-01 nonsig \n",
       "21  MYH16            4.3225472  1.55734384        1.222245e-01 nonsig \n",
       "22  BAD             17.4333591 -0.12542602        9.043709e-01 nonsig \n",
       "23  LAP3           365.2625318 -1.30340649        1.590000e-05 sig    \n",
       "24  CD99           643.5209068 -1.71778117        7.700000e-11 sig    \n",
       "25  HS3ST1          14.7767394  0.31471265        7.116803e-01 nonsig \n",
       "26  AOC1             3.1094441 -0.19599581        9.077030e-01 nonsig \n",
       "27  WNT16            4.1070926  1.91194168        2.616917e-02 sig    \n",
       "28  HECW1           17.8167829 -0.06634516        9.727670e-01 nonsig \n",
       "29  MAD1L1          99.3680284  0.25255324        6.590225e-01 nonsig \n",
       "30  LASP1         1961.0769280 -0.16891823        6.589888e-01 nonsig \n",
       "⋮   ⋮             ⋮            ⋮                  ⋮            ⋮      \n",
       "471 POU2F2         463.1803447 -0.04961649        0.931644845  nonsig \n",
       "472 BRD9           281.2836333 -0.57404502        0.022749148  sig    \n",
       "473 SNX1          1190.4092840  0.49526967        0.247536808  nonsig \n",
       "474 TBPL1          175.5906321 -0.45304666        0.190816444  nonsig \n",
       "475 ARNTL2          74.6212440  0.29684534        0.748611178  nonsig \n",
       "476 BCLAF1        6448.8751000 -0.50616012        0.043855466  sig    \n",
       "477 SLC39A9        488.5664401 -0.18028350        0.553068948  nonsig \n",
       "478 ANK1            20.2343537  0.99917935        0.117980768  nonsig \n",
       "479 IBSP             0.5011933 -0.22755156                 NA  NA     \n",
       "480 TFB1M          131.0923289  0.59927138        0.014859821  sig    \n",
       "481 RABEP1        1068.0602190  0.15964952        0.553130169  nonsig \n",
       "482 HMGB3           84.3692469 -1.45955641        0.002513022  sig    \n",
       "483 NUP160         822.1479147  0.50617619        0.133498993  nonsig \n",
       "484 BAK1           120.1631076 -0.49311687        0.162497533  nonsig \n",
       "485 MUSK             1.3780993  0.71784871                 NA  NA     \n",
       "486 IKZF2          289.8239287  1.83631261        0.000008850  sig    \n",
       "487 GRN             80.1371645 -1.09995420        0.103228035  nonsig \n",
       "488 FAM13B         965.9769543 -0.20947877        0.546345370  nonsig \n",
       "489 ARHGAP31        66.8541134 -0.67896250        0.290780453  nonsig \n",
       "490 CENPQ           24.1658529  0.72993965        0.307438234  nonsig \n",
       "491 SARS           383.4006187  0.28139957        0.280485495  nonsig \n",
       "492 RANBP3         379.8428768  0.20579506        0.424287293  nonsig \n",
       "493 ARID4A        1435.3239890 -0.12064051        0.722405642  nonsig \n",
       "494 EIPR1           87.8650442 -0.24976375        0.518934959  nonsig \n",
       "495 PNPLA6         146.4175068 -0.20697579        0.685467475  nonsig \n",
       "496 IFT88          111.7153911  0.39353897        0.391459416  nonsig \n",
       "497 ALG1            72.3719334  0.47437050        0.150090906  nonsig \n",
       "498 ZCCHC8         270.0027762 -0.09439890        0.804811613  nonsig \n",
       "499 ABCF2          288.4767585  0.20858449        0.654878806  nonsig \n",
       "500 CHPF2          171.7401625 -0.29497122        0.461054038  nonsig "
      ]
     },
     "metadata": {},
     "output_type": "display_data"
    }
   ],
   "source": [
    "#1\n",
    "df.nav.d14 <- read.csv(\"NAV-D14_DEseq2.csv\",header=TRUE)\n",
    "df.nav.mem <- read.csv(\"NAV-MEM_DEseq2.csv\",header=TRUE)\n",
    "df.nav.d14 <- df.nav.d14[c(\"gene.name\",\"baseMean\",\"log2FoldChange\",\"padj\")]\n",
    "df.nav.mem <- df.nav.mem[c(\"gene.name\",\"baseMean\",\"log2FoldChange\",\"padj\")]\n",
    "colnames(df.nav.d14) <- c(\"gene.name_d14\",\"baseMean\",\"log2FoldChange_d14\",\"padj_d14\")\n",
    "colnames(df.nav.mem) <- c(\"gene.name_mem\",\"baseMean\",\"log2FoldChange_mem\",\"padj_mem\")\n",
    "df.nav.d14.mem <- cbind(df.nav.d14,df.nav.mem[c(\"gene.name_mem\",\"log2FoldChange_mem\",\"padj_mem\")])\n",
    "df.nav.d14.mem <- df.nav.d14.mem[order(df.nav.d14.mem$baseMean),]\n",
    "df.nav.d14.mem\n",
    "\n",
    "#2\n",
    "isSig <- function(padj) {\n",
    "    if (is.na(padj)) {\n",
    "        return(\"NA\")\n",
    "    } else if (padj <= 0.05) {\n",
    "        return(\"sig\")\n",
    "    } else {\n",
    "        return(\"nonsig\")\n",
    "    }\n",
    "}\n",
    "\n",
    "sig_d14 <- lapply(df.nav.d14$padj_d14, isSig)\n",
    "sig_d14 <- factor(unlist(sig_d14))\n",
    "df.nav.d14 <- cbind(df.nav.d14,sig_d14)\n",
    "sig_mem <- lapply(df.nav.mem$padj_mem, isSig)\n",
    "sig_mem <- factor(unlist(sig_mem))\n",
    "df.nav.mem <- cbind(df.nav.mem,sig_mem)\n",
    "df.nav.d14\n",
    "df.nav.mem\n"
   ]
  },
  {
   "cell_type": "markdown",
   "metadata": {},
   "source": [
    "## Install Swirl,  do \"R programming\" and \"Data analysis\"\n",
    "https://swirlstats.com/students.html"
   ]
  }
 ],
 "metadata": {
  "kernelspec": {
   "display_name": "R",
   "language": "R",
   "name": "ir"
  },
  "language_info": {
   "codemirror_mode": "r",
   "file_extension": ".r",
   "mimetype": "text/x-r-source",
   "name": "R",
   "pygments_lexer": "r",
   "version": "3.5.1"
  }
 },
 "nbformat": 4,
 "nbformat_minor": 2
}
