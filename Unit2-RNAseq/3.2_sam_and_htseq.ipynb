{
 "cells": [
  {
   "cell_type": "markdown",
   "metadata": {},
   "source": [
    "## RNAseq notebook 3.2: SAM files and read counting\n",
    "This notebook features examples on how to work with the sequence alignment map file, and how to derive gene counts from mapped reads.  \n",
    "**Notes**\n",
    "- full SAM files tend to be large so bash manipulation can take some time (typically minutes)\n",
    "- not all SAM attributes will be found in all SAM files"
   ]
  },
  {
   "cell_type": "markdown",
   "metadata": {},
   "source": [
    "**Find where a specific read aligned**  \n",
    "Example: 1000th read"
   ]
  },
  {
   "cell_type": "markdown",
   "metadata": {},
   "source": [
    "```bash\n",
    "%%bash  \n",
    "cd ../Downloads/hisat_out  \n",
    "grep SRR5454079.1000 ./SRR5454079.sam | head -n 1\n",
    "```"
   ]
  },
  {
   "cell_type": "markdown",
   "metadata": {},
   "source": [
    "**Print the first few aligned reads**\n",
    "```bash\n",
    "%%bash\n",
    "cd ../Downloads/hisat_out\n",
    "awk '/^SRR/' SRR5454079.sam | head\n",
    "```"
   ]
  },
  {
   "cell_type": "markdown",
   "metadata": {},
   "source": [
    "**Print the first few reads that aligned to the mitochondrial genome**  \n",
    "```bash\n",
    "%%bash  \n",
    "cd ../Downloads/hisat_out  \n",
    "awk '{if ($3 == \"MT\") {print}}' SRR5454079.sam | head\n",
    "```"
   ]
  },
  {
   "cell_type": "markdown",
   "metadata": {},
   "source": [
    "**Exercises**   \n",
    "1) How many reads mapped to chromosome 20?  \n",
    "2) Find the 76th read in the SAM file. Where did it map in the human genome? Now use blastn to map the read. Do the results agree with each other?  \n",
    "3) Inspect the reference genome details in the SAM header. Beyond chromosomes, what else is included in the reference?"
   ]
  },
  {
   "cell_type": "code",
   "execution_count": 12,
   "metadata": {},
   "outputs": [
    {
     "name": "stdout",
     "output_type": "stream",
     "text": [
      "464329\n"
     ]
    }
   ],
   "source": [
    "%%bash\n",
    "cd ../../RNAseq/hisat_out/\n",
    "awk '{if ($3 == \"20\") {print}}' SRR5454079_1.sam | wc -l"
   ]
  },
  {
   "cell_type": "code",
   "execution_count": 34,
   "metadata": {},
   "outputs": [
    {
     "name": "stdout",
     "output_type": "stream",
     "text": [
      "SRR5454079.76\t16\t20\t327964\t60\t50M\t*\t0\t0\tATACAGCGGGAAAAACTGAGGCACTTTGGTGCTAGGGGTTTGGGACTGAN\tJJJJJJJJJJJJJJJJJJJJJJJJJJJJJJJJJJJJJJJJJJJJJFFAA#\tAS:i:-2\tZS:i:-2\tXN:i:0\tXM:i:1\tXO:i:0\tXG:i:0\tNM:i:1\tMD:Z:49G0\tYT:Z:UU\tNH:i:1\n"
     ]
    }
   ],
   "source": [
    "%%bash\n",
    "cd ../../RNAseq/hisat_out/\n",
    "grep SRR5454079.76 ./SRR5454079_1.sam | head -n 1"
   ]
  },
  {
   "cell_type": "code",
   "execution_count": 13,
   "metadata": {},
   "outputs": [
    {
     "name": "stdout",
     "output_type": "stream",
     "text": [
      "@HD\tVN:1.0\tSO:unsorted\n",
      "@SQ\tSN:1\tLN:248956422\n",
      "@SQ\tSN:10\tLN:133797422\n",
      "@SQ\tSN:11\tLN:135086622\n",
      "@SQ\tSN:12\tLN:133275309\n",
      "@SQ\tSN:13\tLN:114364328\n",
      "@SQ\tSN:14\tLN:107043718\n",
      "@SQ\tSN:15\tLN:101991189\n",
      "@SQ\tSN:16\tLN:90338345\n",
      "@SQ\tSN:17\tLN:83257441\n",
      "@SQ\tSN:18\tLN:80373285\n",
      "@SQ\tSN:19\tLN:58617616\n",
      "@SQ\tSN:2\tLN:242193529\n",
      "@SQ\tSN:20\tLN:64444167\n",
      "@SQ\tSN:21\tLN:46709983\n",
      "@SQ\tSN:22\tLN:50818468\n",
      "@SQ\tSN:3\tLN:198295559\n",
      "@SQ\tSN:4\tLN:190214555\n",
      "@SQ\tSN:5\tLN:181538259\n",
      "@SQ\tSN:6\tLN:170805979\n",
      "@SQ\tSN:7\tLN:159345973\n",
      "@SQ\tSN:8\tLN:145138636\n",
      "@SQ\tSN:9\tLN:138394717\n",
      "@SQ\tSN:MT\tLN:16569\n",
      "@SQ\tSN:X\tLN:156040895\n",
      "@SQ\tSN:Y\tLN:57227415\n",
      "@SQ\tSN:KI270728.1\tLN:1872759\n",
      "@SQ\tSN:KI270727.1\tLN:448248\n",
      "@SQ\tSN:KI270442.1\tLN:392061\n",
      "@SQ\tSN:KI270729.1\tLN:280839\n",
      "@SQ\tSN:GL000225.1\tLN:211173\n",
      "@SQ\tSN:KI270743.1\tLN:210658\n",
      "@SQ\tSN:GL000008.2\tLN:209709\n",
      "@SQ\tSN:GL000009.2\tLN:201709\n",
      "@SQ\tSN:KI270747.1\tLN:198735\n",
      "@SQ\tSN:KI270722.1\tLN:194050\n",
      "@SQ\tSN:GL000194.1\tLN:191469\n",
      "@SQ\tSN:KI270742.1\tLN:186739\n",
      "@SQ\tSN:GL000205.2\tLN:185591\n",
      "@SQ\tSN:GL000195.1\tLN:182896\n",
      "@SQ\tSN:KI270736.1\tLN:181920\n",
      "@SQ\tSN:KI270733.1\tLN:179772\n",
      "@SQ\tSN:GL000224.1\tLN:179693\n",
      "@SQ\tSN:GL000219.1\tLN:179198\n",
      "@SQ\tSN:KI270719.1\tLN:176845\n",
      "@SQ\tSN:GL000216.2\tLN:176608\n",
      "@SQ\tSN:KI270712.1\tLN:176043\n",
      "@SQ\tSN:KI270706.1\tLN:175055\n",
      "@SQ\tSN:KI270725.1\tLN:172810\n",
      "@SQ\tSN:KI270744.1\tLN:168472\n",
      "@SQ\tSN:KI270734.1\tLN:165050\n",
      "@SQ\tSN:GL000213.1\tLN:164239\n",
      "@SQ\tSN:GL000220.1\tLN:161802\n",
      "@SQ\tSN:KI270715.1\tLN:161471\n",
      "@SQ\tSN:GL000218.1\tLN:161147\n",
      "@SQ\tSN:KI270749.1\tLN:158759\n",
      "@SQ\tSN:KI270741.1\tLN:157432\n",
      "@SQ\tSN:GL000221.1\tLN:155397\n",
      "@SQ\tSN:KI270716.1\tLN:153799\n",
      "@SQ\tSN:KI270731.1\tLN:150754\n",
      "@SQ\tSN:KI270751.1\tLN:150742\n",
      "@SQ\tSN:KI270750.1\tLN:148850\n",
      "@SQ\tSN:KI270519.1\tLN:138126\n",
      "@SQ\tSN:GL000214.1\tLN:137718\n",
      "@SQ\tSN:KI270708.1\tLN:127682\n",
      "@SQ\tSN:KI270730.1\tLN:112551\n",
      "@SQ\tSN:KI270438.1\tLN:112505\n",
      "@SQ\tSN:KI270737.1\tLN:103838\n",
      "@SQ\tSN:KI270721.1\tLN:100316\n",
      "@SQ\tSN:KI270738.1\tLN:99375\n",
      "@SQ\tSN:KI270748.1\tLN:93321\n",
      "@SQ\tSN:KI270435.1\tLN:92983\n",
      "@SQ\tSN:GL000208.1\tLN:92689\n",
      "@SQ\tSN:KI270538.1\tLN:91309\n",
      "@SQ\tSN:KI270756.1\tLN:79590\n",
      "@SQ\tSN:KI270739.1\tLN:73985\n",
      "@SQ\tSN:KI270757.1\tLN:71251\n",
      "@SQ\tSN:KI270709.1\tLN:66860\n",
      "@SQ\tSN:KI270746.1\tLN:66486\n",
      "@SQ\tSN:KI270753.1\tLN:62944\n",
      "@SQ\tSN:KI270589.1\tLN:44474\n",
      "@SQ\tSN:KI270726.1\tLN:43739\n",
      "@SQ\tSN:KI270735.1\tLN:42811\n",
      "@SQ\tSN:KI270711.1\tLN:42210\n",
      "@SQ\tSN:KI270745.1\tLN:41891\n",
      "@SQ\tSN:KI270714.1\tLN:41717\n",
      "@SQ\tSN:KI270732.1\tLN:41543\n",
      "@SQ\tSN:KI270713.1\tLN:40745\n",
      "@SQ\tSN:KI270754.1\tLN:40191\n",
      "@SQ\tSN:KI270710.1\tLN:40176\n",
      "@SQ\tSN:KI270717.1\tLN:40062\n",
      "@SQ\tSN:KI270724.1\tLN:39555\n",
      "@SQ\tSN:KI270720.1\tLN:39050\n",
      "@SQ\tSN:KI270723.1\tLN:38115\n",
      "@SQ\tSN:KI270718.1\tLN:38054\n",
      "@SQ\tSN:KI270317.1\tLN:37690\n",
      "@SQ\tSN:KI270740.1\tLN:37240\n",
      "@SQ\tSN:KI270755.1\tLN:36723\n",
      "@SQ\tSN:KI270707.1\tLN:32032\n",
      "@SQ\tSN:KI270579.1\tLN:31033\n"
     ]
    }
   ],
   "source": [
    "%%bash\n",
    "cd ../../RNAseq/hisat_out/\n",
    "head -n 100 ./SRR5454079_1.sam"
   ]
  },
  {
   "cell_type": "markdown",
   "metadata": {},
   "source": [
    "**Check how many reads were uncounted due to multimapping (alignment not unique)**\n",
    "```bash\n",
    "%%bash\n",
    "cd Unit2-RNAseq/data\n",
    "tail SRR5454102_genecounts.txt\n",
    "```"
   ]
  },
  {
   "cell_type": "code",
   "execution_count": 2,
   "metadata": {},
   "outputs": [
    {
     "name": "stdout",
     "output_type": "stream",
     "text": [
      "ENSG00000285990\t0\n",
      "ENSG00000285991\t1\n",
      "ENSG00000285992\t0\n",
      "ENSG00000285993\t0\n",
      "ENSG00000285994\t2\n",
      "__no_feature\t3712490\n",
      "__ambiguous\t589511\n",
      "__too_low_aQual\t0\n",
      "__not_aligned\t1202625\n",
      "__alignment_not_unique\t7178464\n"
     ]
    }
   ],
   "source": [
    "%%bash\n",
    "cd data\n",
    "tail SRR5454102_genecounts.txt"
   ]
  },
  {
   "cell_type": "markdown",
   "metadata": {},
   "source": [
    "**Check how many Ensembl genes have zero expression**  \n",
    "Spot and correct the mistake\n",
    "```bash\n",
    "%%bash\n",
    "cd Unit2-RNAseq/data\n",
    "awk '{if ($2 == 0) print }' SRR5454102_genecounts.txt  | wc -l\n",
    "```"
   ]
  },
  {
   "cell_type": "code",
   "execution_count": 7,
   "metadata": {},
   "outputs": [
    {
     "name": "stdout",
     "output_type": "stream",
     "text": [
      "31131\n",
      "31132\n"
     ]
    }
   ],
   "source": [
    "%%bash\n",
    "cd data\n",
    "awk '{if ($2 == 0 && $1 ~ /^ENS/) print }' SRR5454102_genecounts.txt | wc -l\n",
    "awk '{if ($2 == 0) print }' SRR5454102_genecounts.txt | wc -l"
   ]
  },
  {
   "cell_type": "markdown",
   "metadata": {},
   "source": [
    "**HOMEWORK**  \n",
    "1) Use awk to check the number of columns in the SAM file for all rows and print only the unique column counts. *HINT*: revisit Unit 1   \n",
    "2) Count how many reads from SRR5454079 mapped to chromosome 20 with 2 soft-clipped bases at the start of the read. *HINT*: Consult the SAM documentation on CIGAR strings.  \n",
    "3) Using the human transcriptome annotations by Ensembl, calculate counts per gene in the bam file for SRR5454079 and print the first 10 lines (use -s reverse)"
   ]
  },
  {
   "cell_type": "code",
   "execution_count": 31,
   "metadata": {},
   "outputs": [
    {
     "name": "stdout",
     "output_type": "stream",
     "text": [
      "3\n",
      "12\n",
      "13\n",
      "20\n",
      "21\n",
      "22\n"
     ]
    }
   ],
   "source": [
    "%%bash\n",
    "cd ../../RNAseq/hisat_out/\n",
    "awk '{print NF}' SRR5454079_1.sam | sort -n | uniq"
   ]
  },
  {
   "cell_type": "code",
   "execution_count": 45,
   "metadata": {},
   "outputs": [
    {
     "name": "stdout",
     "output_type": "stream",
     "text": [
      "5725\n"
     ]
    }
   ],
   "source": [
    "%%bash\n",
    "cd ../../RNAseq/hisat_out/\n",
    "awk '{if ($3==20 && $6 ~ /^2S/) print}' SRR5454079_1.sam | wc -l"
   ]
  },
  {
   "cell_type": "code",
   "execution_count": 49,
   "metadata": {},
   "outputs": [
    {
     "name": "stdout",
     "output_type": "stream",
     "text": [
      "ENSG00000000003\t433\n",
      "ENSG00000000005\t1\n",
      "ENSG00000000419\t247\n",
      "ENSG00000000457\t194\n",
      "ENSG00000000460\t168\n",
      "ENSG00000000938\t5\n",
      "ENSG00000000971\t1\n",
      "ENSG00000001036\t224\n",
      "ENSG00000001084\t427\n",
      "ENSG00000001167\t1040\n"
     ]
    }
   ],
   "source": [
    "%%bash\n",
    "cd ../../RNAseq/hisat_out/\n",
    "htseq-count -f bam -s reverse SRR5454079_1.sort.bam ../Ensembl/Homo_sapiens.GRCh38.94.gtf.gz > SRR5454079_1_counts.txt\n",
    "head SRR5454079_1_counts.txt"
   ]
  }
 ],
 "metadata": {
  "kernelspec": {
   "display_name": "Python 3",
   "language": "python",
   "name": "python3"
  },
  "language_info": {
   "codemirror_mode": {
    "name": "ipython",
    "version": 3
   },
   "file_extension": ".py",
   "mimetype": "text/x-python",
   "name": "python",
   "nbconvert_exporter": "python",
   "pygments_lexer": "ipython3",
   "version": "3.5.2"
  }
 },
 "nbformat": 4,
 "nbformat_minor": 2
}
